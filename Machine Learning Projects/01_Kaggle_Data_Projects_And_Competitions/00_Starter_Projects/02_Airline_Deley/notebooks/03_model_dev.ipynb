{
	"cells": [
		{
			"cell_type": "markdown",
			"metadata": {},
			"source": [
				"# Model Development: Airline Delay\n",
				"<img src=\"../assets/airline-pic.jpg\" alt=\"Title-Pic\">"
			]
		},
		{
			"cell_type": "markdown",
			"metadata": {},
			"source": [
				"# Imports"
			]
		},
		{
			"cell_type": "code",
			"execution_count": 1,
			"metadata": {},
			"outputs": [],
			"source": [
				"import numpy as np\n",
				"import pandas as pd\n",
				"import matplotlib.pyplot as plt\n",
				"import seaborn as sns\n",
				"import pickle\n",
				"import warnings\n",
				"\n",
				"from datetime import datetime\n",
				"from pandas import Series, DataFrame\n",
				"from imblearn.over_sampling import BorderlineSMOTE\n",
				"from xgboost import XGBClassifier\n",
				"from sklearn.ensemble import VotingClassifier\n",
				"from sklearn.svm import SVC\n",
				"from sklearn.model_selection import train_test_split, GridSearchCV\n",
				"from sklearn.metrics import classification_report, confusion_matrix, f1_score, accuracy_score\n",
				"\n",
				"\n",
				"np.set_printoptions(suppress=True)\n",
				"sns.set(rc={\"figure.figsize\": (10, 6), \"axes.titlesize\": 20, \"axes.titleweight\": \"bold\", \"axes.labelsize\": 15})\n",
				"warnings.filterwarnings('ignore')"
			]
		},
		{
			"cell_type": "markdown",
			"metadata": {},
			"source": [
				"# Data"
			]
		},
		{
			"cell_type": "code",
			"execution_count": 2,
			"metadata": {},
			"outputs": [],
			"source": [
				"def export_model(model, model_name):\n",
				"    timestamp_string = str(datetime.now())[:19].replace(\" \", \"\").replace(\":\", \"\").replace(\"-\", \"\")\n",
				"    export_path = f\"../trained_models/{timestamp_string}_{model_name}\"\n",
				"    with open(export_path, \"wb\") as model_file:\n",
				"        pickle.dump(model, model_file)\n",
				"    \n",
				"    return export_path"
			]
		},
		{
			"cell_type": "code",
			"execution_count": 3,
			"metadata": {},
			"outputs": [],
			"source": [
				"def load_model(model_path):\n",
				"    with open(model_path, \"rb\") as model_file:\n",
				"        return pickle.load(model_file)"
			]
		},
		{
			"cell_type": "code",
			"execution_count": 8,
			"metadata": {},
			"outputs": [],
			"source": [
				"def print_top_rankings(model, top=10):\n",
				"    sorted_zipped_report = sorted(\n",
				"        zip(\n",
				"            model.cv_results_[\"params\"], \n",
				"            model.cv_results_[\"mean_test_score\"], \n",
				"            model.cv_results_[\"rank_test_score\"]\n",
				"        ), key=lambda item: item[2]\n",
				"    )\n",
				"    for (i, (params, score, rank)) in enumerate(sorted_zipped_report):\n",
				"        if i >= top:\n",
				"            break\n",
				"\n",
				"        print(f\"Rank: {rank}\\tScore: {score}\\nParam: {params}\\n\")\n",
				"        "
			]
		},
		{
			"cell_type": "code",
			"execution_count": 4,
			"metadata": {},
			"outputs": [
				{
					"data": {
						"text/plain": [
							"(((478590, 613), (59824, 613), (59824, 613)), ((478590,), (59824,), (59824,)))"
						]
					},
					"execution_count": 4,
					"metadata": {},
					"output_type": "execute_result"
				}
			],
			"source": [
				"MODEL_DATA = np.load(\"../model_data/nasa_prep_data.npz\", allow_pickle=True)\n",
				"inputs = MODEL_DATA[\"inputs\"]\n",
				"targets = MODEL_DATA[\"targets\"]\n",
				"\n",
				"X_train, X_tmp_test, y_train, y_tmp_test = train_test_split(inputs, targets, test_size=0.2, random_state=101)\n",
				"X_test, X_val, y_test, y_val = train_test_split(X_tmp_test, y_tmp_test, test_size=0.5, random_state=101)\n",
				"\n",
				"(X_train.shape, X_test.shape, X_val.shape), (y_train.shape, y_test.shape, y_val.shape)"
			]
		},
		{
			"cell_type": "code",
			"execution_count": 5,
			"metadata": {},
			"outputs": [
				{
					"data": {
						"text/plain": [
							"array([[ 0.56563027, -1.69404951,  0.        , ...,  0.        ,\n",
							"         0.        ,  1.        ],\n",
							"       [-1.59228874, -1.99543203,  0.        , ...,  0.        ,\n",
							"         1.        ,  0.        ],\n",
							"       [-1.51676157, -0.55738213,  0.        , ...,  0.        ,\n",
							"         0.        ,  0.        ],\n",
							"       ...,\n",
							"       [-1.11447689,  1.27141407,  0.        , ...,  1.        ,\n",
							"         0.        ,  1.        ],\n",
							"       [ 0.137643  ,  1.83987034,  0.        , ...,  0.        ,\n",
							"         1.        ,  1.        ],\n",
							"       [-1.53834076,  0.5082208 ,  0.        , ...,  0.        ,\n",
							"         0.        ,  0.        ]])"
						]
					},
					"execution_count": 5,
					"metadata": {},
					"output_type": "execute_result"
				}
			],
			"source": [
				"test_arr = np.hstack([inputs, targets.reshape(-1, 1)])\n",
				"np.random.shuffle(test_arr)\n",
				"test_arr[:50000]"
			]
		},
		{
			"cell_type": "code",
			"execution_count": 11,
			"metadata": {},
			"outputs": [],
			"source": [
				"SIZE = 10000\n",
				"test_X_train = test_arr[:SIZE, :-1]\n",
				"test_y_train = test_arr[:SIZE, -1].reshape(-1, 1)\n",
				"test_X_test = test_arr[SIZE:, :-1]\n",
				"test_y_test = test_arr[SIZE:, -1].reshape(-1, 1)"
			]
		},
		{
			"cell_type": "code",
			"execution_count": 12,
			"metadata": {},
			"outputs": [
				{
					"data": {
						"text/plain": [
							"0.5012"
						]
					},
					"execution_count": 12,
					"metadata": {},
					"output_type": "execute_result"
				}
			],
			"source": [
				"test_y_train.mean()"
			]
		},
		{
			"cell_type": "markdown",
			"metadata": {},
			"source": [
				"# Build the Model"
			]
		},
		{
			"cell_type": "markdown",
			"metadata": {},
			"source": [
				"## Model1: Gradient Boosting"
			]
		},
		{
			"cell_type": "code",
			"execution_count": 46,
			"metadata": {},
			"outputs": [],
			"source": [
				"xgb_tmp_model = XGBClassifier()\n",
				"\n",
				"xgb_grid_params = {\n",
				"    \"eval_metric\": [\"logloss\"],\n",
				"    \"n_estimators\": [900],\n",
				"    \"learning_rate\": [0.01],\n",
				"    \"min_child_weight\": [5],\n",
				"    \"eta\": [0.05],\n",
				"    \"gamma\": [6],\n",
				"    \"subsample\": [0.5],\n",
				"    \"max_depth\": [10],\n",
				"    \"colsample_bytree\": [0.5]\n",
				"}"
			]
		},
		{
			"cell_type": "code",
			"execution_count": 50,
			"metadata": {},
			"outputs": [
				{
					"name": "stdout",
					"output_type": "stream",
					"text": [
						"Fitting 2 folds for each of 1 candidates, totalling 2 fits\n",
						"[CV 1/2] END colsample_bytree=0.5, eta=0.05, eval_metric=logloss, gamma=6, learning_rate=0.01, max_depth=10, min_child_weight=5, n_estimators=900, subsample=0.5;, score=0.652 total time=13.8min\n",
						"[CV 2/2] END colsample_bytree=0.5, eta=0.05, eval_metric=logloss, gamma=6, learning_rate=0.01, max_depth=10, min_child_weight=5, n_estimators=900, subsample=0.5;, score=0.653 total time=13.6min\n"
					]
				},
				{
					"data": {
						"text/html": [
							"<style>#sk-container-id-4 {color: black;background-color: white;}#sk-container-id-4 pre{padding: 0;}#sk-container-id-4 div.sk-toggleable {background-color: white;}#sk-container-id-4 label.sk-toggleable__label {cursor: pointer;display: block;width: 100%;margin-bottom: 0;padding: 0.3em;box-sizing: border-box;text-align: center;}#sk-container-id-4 label.sk-toggleable__label-arrow:before {content: \"▸\";float: left;margin-right: 0.25em;color: #696969;}#sk-container-id-4 label.sk-toggleable__label-arrow:hover:before {color: black;}#sk-container-id-4 div.sk-estimator:hover label.sk-toggleable__label-arrow:before {color: black;}#sk-container-id-4 div.sk-toggleable__content {max-height: 0;max-width: 0;overflow: hidden;text-align: left;background-color: #f0f8ff;}#sk-container-id-4 div.sk-toggleable__content pre {margin: 0.2em;color: black;border-radius: 0.25em;background-color: #f0f8ff;}#sk-container-id-4 input.sk-toggleable__control:checked~div.sk-toggleable__content {max-height: 200px;max-width: 100%;overflow: auto;}#sk-container-id-4 input.sk-toggleable__control:checked~label.sk-toggleable__label-arrow:before {content: \"▾\";}#sk-container-id-4 div.sk-estimator input.sk-toggleable__control:checked~label.sk-toggleable__label {background-color: #d4ebff;}#sk-container-id-4 div.sk-label input.sk-toggleable__control:checked~label.sk-toggleable__label {background-color: #d4ebff;}#sk-container-id-4 input.sk-hidden--visually {border: 0;clip: rect(1px 1px 1px 1px);clip: rect(1px, 1px, 1px, 1px);height: 1px;margin: -1px;overflow: hidden;padding: 0;position: absolute;width: 1px;}#sk-container-id-4 div.sk-estimator {font-family: monospace;background-color: #f0f8ff;border: 1px dotted black;border-radius: 0.25em;box-sizing: border-box;margin-bottom: 0.5em;}#sk-container-id-4 div.sk-estimator:hover {background-color: #d4ebff;}#sk-container-id-4 div.sk-parallel-item::after {content: \"\";width: 100%;border-bottom: 1px solid gray;flex-grow: 1;}#sk-container-id-4 div.sk-label:hover label.sk-toggleable__label {background-color: #d4ebff;}#sk-container-id-4 div.sk-serial::before {content: \"\";position: absolute;border-left: 1px solid gray;box-sizing: border-box;top: 0;bottom: 0;left: 50%;z-index: 0;}#sk-container-id-4 div.sk-serial {display: flex;flex-direction: column;align-items: center;background-color: white;padding-right: 0.2em;padding-left: 0.2em;position: relative;}#sk-container-id-4 div.sk-item {position: relative;z-index: 1;}#sk-container-id-4 div.sk-parallel {display: flex;align-items: stretch;justify-content: center;background-color: white;position: relative;}#sk-container-id-4 div.sk-item::before, #sk-container-id-4 div.sk-parallel-item::before {content: \"\";position: absolute;border-left: 1px solid gray;box-sizing: border-box;top: 0;bottom: 0;left: 50%;z-index: -1;}#sk-container-id-4 div.sk-parallel-item {display: flex;flex-direction: column;z-index: 1;position: relative;background-color: white;}#sk-container-id-4 div.sk-parallel-item:first-child::after {align-self: flex-end;width: 50%;}#sk-container-id-4 div.sk-parallel-item:last-child::after {align-self: flex-start;width: 50%;}#sk-container-id-4 div.sk-parallel-item:only-child::after {width: 0;}#sk-container-id-4 div.sk-dashed-wrapped {border: 1px dashed gray;margin: 0 0.4em 0.5em 0.4em;box-sizing: border-box;padding-bottom: 0.4em;background-color: white;}#sk-container-id-4 div.sk-label label {font-family: monospace;font-weight: bold;display: inline-block;line-height: 1.2em;}#sk-container-id-4 div.sk-label-container {text-align: center;}#sk-container-id-4 div.sk-container {/* jupyter's `normalize.less` sets `[hidden] { display: none; }` but bootstrap.min.css set `[hidden] { display: none !important; }` so we also need the `!important` here to be able to override the default hidden behavior on the sphinx rendered scikit-learn.org. See: https://github.com/scikit-learn/scikit-learn/issues/21755 */display: inline-block !important;position: relative;}#sk-container-id-4 div.sk-text-repr-fallback {display: none;}</style><div id=\"sk-container-id-4\" class=\"sk-top-container\"><div class=\"sk-text-repr-fallback\"><pre>GridSearchCV(cv=2,\n",
							"             estimator=XGBClassifier(base_score=None, booster=None,\n",
							"                                     callbacks=None, colsample_bylevel=None,\n",
							"                                     colsample_bynode=None,\n",
							"                                     colsample_bytree=None,\n",
							"                                     early_stopping_rounds=None,\n",
							"                                     enable_categorical=False, eval_metric=None,\n",
							"                                     gamma=None, gpu_id=None, grow_policy=None,\n",
							"                                     importance_type=None,\n",
							"                                     interaction_constraints=None,\n",
							"                                     learning_rate=None, max_bin=None,\n",
							"                                     max_ca...\n",
							"                                     missing=nan, monotone_constraints=None,\n",
							"                                     n_estimators=100, n_jobs=None,\n",
							"                                     num_parallel_tree=None, predictor=None,\n",
							"                                     random_state=None, reg_alpha=None,\n",
							"                                     reg_lambda=None, ...),\n",
							"             param_grid={&#x27;colsample_bytree&#x27;: [0.5], &#x27;eta&#x27;: [0.05],\n",
							"                         &#x27;eval_metric&#x27;: [&#x27;logloss&#x27;], &#x27;gamma&#x27;: [6],\n",
							"                         &#x27;learning_rate&#x27;: [0.01], &#x27;max_depth&#x27;: [10],\n",
							"                         &#x27;min_child_weight&#x27;: [5], &#x27;n_estimators&#x27;: [900],\n",
							"                         &#x27;subsample&#x27;: [0.5]},\n",
							"             scoring=&#x27;f1_micro&#x27;, verbose=3)</pre><b>In a Jupyter environment, please rerun this cell to show the HTML representation or trust the notebook. <br />On GitHub, the HTML representation is unable to render, please try loading this page with nbviewer.org.</b></div><div class=\"sk-container\" hidden><div class=\"sk-item sk-dashed-wrapped\"><div class=\"sk-label-container\"><div class=\"sk-label sk-toggleable\"><input class=\"sk-toggleable__control sk-hidden--visually\" id=\"sk-estimator-id-10\" type=\"checkbox\" ><label for=\"sk-estimator-id-10\" class=\"sk-toggleable__label sk-toggleable__label-arrow\">GridSearchCV</label><div class=\"sk-toggleable__content\"><pre>GridSearchCV(cv=2,\n",
							"             estimator=XGBClassifier(base_score=None, booster=None,\n",
							"                                     callbacks=None, colsample_bylevel=None,\n",
							"                                     colsample_bynode=None,\n",
							"                                     colsample_bytree=None,\n",
							"                                     early_stopping_rounds=None,\n",
							"                                     enable_categorical=False, eval_metric=None,\n",
							"                                     gamma=None, gpu_id=None, grow_policy=None,\n",
							"                                     importance_type=None,\n",
							"                                     interaction_constraints=None,\n",
							"                                     learning_rate=None, max_bin=None,\n",
							"                                     max_ca...\n",
							"                                     missing=nan, monotone_constraints=None,\n",
							"                                     n_estimators=100, n_jobs=None,\n",
							"                                     num_parallel_tree=None, predictor=None,\n",
							"                                     random_state=None, reg_alpha=None,\n",
							"                                     reg_lambda=None, ...),\n",
							"             param_grid={&#x27;colsample_bytree&#x27;: [0.5], &#x27;eta&#x27;: [0.05],\n",
							"                         &#x27;eval_metric&#x27;: [&#x27;logloss&#x27;], &#x27;gamma&#x27;: [6],\n",
							"                         &#x27;learning_rate&#x27;: [0.01], &#x27;max_depth&#x27;: [10],\n",
							"                         &#x27;min_child_weight&#x27;: [5], &#x27;n_estimators&#x27;: [900],\n",
							"                         &#x27;subsample&#x27;: [0.5]},\n",
							"             scoring=&#x27;f1_micro&#x27;, verbose=3)</pre></div></div></div><div class=\"sk-parallel\"><div class=\"sk-parallel-item\"><div class=\"sk-item\"><div class=\"sk-label-container\"><div class=\"sk-label sk-toggleable\"><input class=\"sk-toggleable__control sk-hidden--visually\" id=\"sk-estimator-id-11\" type=\"checkbox\" ><label for=\"sk-estimator-id-11\" class=\"sk-toggleable__label sk-toggleable__label-arrow\">estimator: XGBClassifier</label><div class=\"sk-toggleable__content\"><pre>XGBClassifier(base_score=None, booster=None, callbacks=None,\n",
							"              colsample_bylevel=None, colsample_bynode=None,\n",
							"              colsample_bytree=None, early_stopping_rounds=None,\n",
							"              enable_categorical=False, eval_metric=None, gamma=None,\n",
							"              gpu_id=None, grow_policy=None, importance_type=None,\n",
							"              interaction_constraints=None, learning_rate=None, max_bin=None,\n",
							"              max_cat_to_onehot=None, max_delta_step=None, max_depth=None,\n",
							"              max_leaves=None, min_child_weight=None, missing=nan,\n",
							"              monotone_constraints=None, n_estimators=100, n_jobs=None,\n",
							"              num_parallel_tree=None, predictor=None, random_state=None,\n",
							"              reg_alpha=None, reg_lambda=None, ...)</pre></div></div></div><div class=\"sk-serial\"><div class=\"sk-item\"><div class=\"sk-estimator sk-toggleable\"><input class=\"sk-toggleable__control sk-hidden--visually\" id=\"sk-estimator-id-12\" type=\"checkbox\" ><label for=\"sk-estimator-id-12\" class=\"sk-toggleable__label sk-toggleable__label-arrow\">XGBClassifier</label><div class=\"sk-toggleable__content\"><pre>XGBClassifier(base_score=None, booster=None, callbacks=None,\n",
							"              colsample_bylevel=None, colsample_bynode=None,\n",
							"              colsample_bytree=None, early_stopping_rounds=None,\n",
							"              enable_categorical=False, eval_metric=None, gamma=None,\n",
							"              gpu_id=None, grow_policy=None, importance_type=None,\n",
							"              interaction_constraints=None, learning_rate=None, max_bin=None,\n",
							"              max_cat_to_onehot=None, max_delta_step=None, max_depth=None,\n",
							"              max_leaves=None, min_child_weight=None, missing=nan,\n",
							"              monotone_constraints=None, n_estimators=100, n_jobs=None,\n",
							"              num_parallel_tree=None, predictor=None, random_state=None,\n",
							"              reg_alpha=None, reg_lambda=None, ...)</pre></div></div></div></div></div></div></div></div></div></div>"
						],
						"text/plain": [
							"GridSearchCV(cv=2,\n",
							"             estimator=XGBClassifier(base_score=None, booster=None,\n",
							"                                     callbacks=None, colsample_bylevel=None,\n",
							"                                     colsample_bynode=None,\n",
							"                                     colsample_bytree=None,\n",
							"                                     early_stopping_rounds=None,\n",
							"                                     enable_categorical=False, eval_metric=None,\n",
							"                                     gamma=None, gpu_id=None, grow_policy=None,\n",
							"                                     importance_type=None,\n",
							"                                     interaction_constraints=None,\n",
							"                                     learning_rate=None, max_bin=None,\n",
							"                                     max_ca...\n",
							"                                     missing=nan, monotone_constraints=None,\n",
							"                                     n_estimators=100, n_jobs=None,\n",
							"                                     num_parallel_tree=None, predictor=None,\n",
							"                                     random_state=None, reg_alpha=None,\n",
							"                                     reg_lambda=None, ...),\n",
							"             param_grid={'colsample_bytree': [0.5], 'eta': [0.05],\n",
							"                         'eval_metric': ['logloss'], 'gamma': [6],\n",
							"                         'learning_rate': [0.01], 'max_depth': [10],\n",
							"                         'min_child_weight': [5], 'n_estimators': [900],\n",
							"                         'subsample': [0.5]},\n",
							"             scoring='f1_micro', verbose=3)"
						]
					},
					"execution_count": 50,
					"metadata": {},
					"output_type": "execute_result"
				}
			],
			"source": [
				"xgb_grid_model = GridSearchCV(xgb_tmp_model, xgb_grid_params, cv=2, verbose=3, scoring=\"f1_micro\")\n",
				"\n",
				"xgb_grid_model.fit(X_train, y_train);"
			]
		},
		{
			"cell_type": "code",
			"execution_count": 51,
			"metadata": {},
			"outputs": [
				{
					"name": "stdout",
					"output_type": "stream",
					"text": [
						"              precision    recall  f1-score   support\n",
						"\n",
						"         0.0       0.65      0.71      0.68      4982\n",
						"         1.0       0.68      0.62      0.65      5018\n",
						"\n",
						"    accuracy                           0.66     10000\n",
						"   macro avg       0.67      0.66      0.66     10000\n",
						"weighted avg       0.67      0.66      0.66     10000\n",
						"\n"
					]
				}
			],
			"source": [
				"print(classification_report(test_y_train, xgb_grid_model.best_estimator_.predict(test_X_train)))"
			]
		},
		{
			"cell_type": "code",
			"execution_count": 52,
			"metadata": {},
			"outputs": [
				{
					"name": "stdout",
					"output_type": "stream",
					"text": [
						"              precision    recall  f1-score   support\n",
						"\n",
						"         0.0       0.65      0.71      0.68    294137\n",
						"         1.0       0.68      0.61      0.64    294101\n",
						"\n",
						"    accuracy                           0.66    588238\n",
						"   macro avg       0.66      0.66      0.66    588238\n",
						"weighted avg       0.66      0.66      0.66    588238\n",
						"\n"
					]
				}
			],
			"source": [
				"print(classification_report(test_y_test, xgb_grid_model.best_estimator_.predict(test_X_test)))"
			]
		},
		{
			"cell_type": "code",
			"execution_count": 62,
			"metadata": {},
			"outputs": [
				{
					"data": {
						"text/plain": [
							"0.6402358763755067"
						]
					},
					"execution_count": 62,
					"metadata": {},
					"output_type": "execute_result"
				}
			],
			"source": [
				"f1_score(y_test, xgb_grid_model.best_estimator_.predict(X_test))"
			]
		},
		{
			"cell_type": "code",
			"execution_count": 53,
			"metadata": {},
			"outputs": [
				{
					"name": "stdout",
					"output_type": "stream",
					"text": [
						"Rank: 1\tScore: 0.6525021417079337\n",
						"Param: {'colsample_bytree': 0.5, 'eta': 0.05, 'eval_metric': 'logloss', 'gamma': 6, 'learning_rate': 0.01, 'max_depth': 10, 'min_child_weight': 5, 'n_estimators': 900, 'subsample': 0.5}\n",
						"\n"
					]
				}
			],
			"source": [
				"print_top_rankings(xgb_grid_model, top=6)"
			]
		},
		{
			"cell_type": "code",
			"execution_count": 54,
			"metadata": {},
			"outputs": [
				{
					"data": {
						"text/plain": [
							"{'colsample_bytree': 0.5,\n",
							" 'eta': 0.05,\n",
							" 'eval_metric': 'logloss',\n",
							" 'gamma': 6,\n",
							" 'learning_rate': 0.01,\n",
							" 'max_depth': 10,\n",
							" 'min_child_weight': 5,\n",
							" 'n_estimators': 900,\n",
							" 'subsample': 0.5}"
						]
					},
					"execution_count": 54,
					"metadata": {},
					"output_type": "execute_result"
				}
			],
			"source": [
				"xgb_grid_model.best_params_"
			]
		},
		{
			"cell_type": "code",
			"execution_count": 55,
			"metadata": {},
			"outputs": [
				{
					"data": {
						"text/plain": [
							"{'colsample_bytree': 0.5,\n",
							" 'eta': 0.05,\n",
							" 'eval_metric': 'logloss',\n",
							" 'gamma': 6,\n",
							" 'learning_rate': 0.01,\n",
							" 'max_depth': 10,\n",
							" 'min_child_weight': 5,\n",
							" 'n_estimators': 900,\n",
							" 'subsample': 0.5}"
						]
					},
					"execution_count": 55,
					"metadata": {},
					"output_type": "execute_result"
				}
			],
			"source": [
				"xgb_grid_model.best_params_"
			]
		},
		{
			"cell_type": "code",
			"execution_count": 58,
			"metadata": {},
			"outputs": [],
			"source": [
				"export_model(xgb_grid_model.best_estimator_, \"xgb_model\")"
			]
		},
		{
			"cell_type": "code",
			"execution_count": 16,
			"metadata": {},
			"outputs": [
				{
					"data": {
						"text/html": [
							"<style>#sk-container-id-4 {color: black;background-color: white;}#sk-container-id-4 pre{padding: 0;}#sk-container-id-4 div.sk-toggleable {background-color: white;}#sk-container-id-4 label.sk-toggleable__label {cursor: pointer;display: block;width: 100%;margin-bottom: 0;padding: 0.3em;box-sizing: border-box;text-align: center;}#sk-container-id-4 label.sk-toggleable__label-arrow:before {content: \"▸\";float: left;margin-right: 0.25em;color: #696969;}#sk-container-id-4 label.sk-toggleable__label-arrow:hover:before {color: black;}#sk-container-id-4 div.sk-estimator:hover label.sk-toggleable__label-arrow:before {color: black;}#sk-container-id-4 div.sk-toggleable__content {max-height: 0;max-width: 0;overflow: hidden;text-align: left;background-color: #f0f8ff;}#sk-container-id-4 div.sk-toggleable__content pre {margin: 0.2em;color: black;border-radius: 0.25em;background-color: #f0f8ff;}#sk-container-id-4 input.sk-toggleable__control:checked~div.sk-toggleable__content {max-height: 200px;max-width: 100%;overflow: auto;}#sk-container-id-4 input.sk-toggleable__control:checked~label.sk-toggleable__label-arrow:before {content: \"▾\";}#sk-container-id-4 div.sk-estimator input.sk-toggleable__control:checked~label.sk-toggleable__label {background-color: #d4ebff;}#sk-container-id-4 div.sk-label input.sk-toggleable__control:checked~label.sk-toggleable__label {background-color: #d4ebff;}#sk-container-id-4 input.sk-hidden--visually {border: 0;clip: rect(1px 1px 1px 1px);clip: rect(1px, 1px, 1px, 1px);height: 1px;margin: -1px;overflow: hidden;padding: 0;position: absolute;width: 1px;}#sk-container-id-4 div.sk-estimator {font-family: monospace;background-color: #f0f8ff;border: 1px dotted black;border-radius: 0.25em;box-sizing: border-box;margin-bottom: 0.5em;}#sk-container-id-4 div.sk-estimator:hover {background-color: #d4ebff;}#sk-container-id-4 div.sk-parallel-item::after {content: \"\";width: 100%;border-bottom: 1px solid gray;flex-grow: 1;}#sk-container-id-4 div.sk-label:hover label.sk-toggleable__label {background-color: #d4ebff;}#sk-container-id-4 div.sk-serial::before {content: \"\";position: absolute;border-left: 1px solid gray;box-sizing: border-box;top: 0;bottom: 0;left: 50%;z-index: 0;}#sk-container-id-4 div.sk-serial {display: flex;flex-direction: column;align-items: center;background-color: white;padding-right: 0.2em;padding-left: 0.2em;position: relative;}#sk-container-id-4 div.sk-item {position: relative;z-index: 1;}#sk-container-id-4 div.sk-parallel {display: flex;align-items: stretch;justify-content: center;background-color: white;position: relative;}#sk-container-id-4 div.sk-item::before, #sk-container-id-4 div.sk-parallel-item::before {content: \"\";position: absolute;border-left: 1px solid gray;box-sizing: border-box;top: 0;bottom: 0;left: 50%;z-index: -1;}#sk-container-id-4 div.sk-parallel-item {display: flex;flex-direction: column;z-index: 1;position: relative;background-color: white;}#sk-container-id-4 div.sk-parallel-item:first-child::after {align-self: flex-end;width: 50%;}#sk-container-id-4 div.sk-parallel-item:last-child::after {align-self: flex-start;width: 50%;}#sk-container-id-4 div.sk-parallel-item:only-child::after {width: 0;}#sk-container-id-4 div.sk-dashed-wrapped {border: 1px dashed gray;margin: 0 0.4em 0.5em 0.4em;box-sizing: border-box;padding-bottom: 0.4em;background-color: white;}#sk-container-id-4 div.sk-label label {font-family: monospace;font-weight: bold;display: inline-block;line-height: 1.2em;}#sk-container-id-4 div.sk-label-container {text-align: center;}#sk-container-id-4 div.sk-container {/* jupyter's `normalize.less` sets `[hidden] { display: none; }` but bootstrap.min.css set `[hidden] { display: none !important; }` so we also need the `!important` here to be able to override the default hidden behavior on the sphinx rendered scikit-learn.org. See: https://github.com/scikit-learn/scikit-learn/issues/21755 */display: inline-block !important;position: relative;}#sk-container-id-4 div.sk-text-repr-fallback {display: none;}</style><div id=\"sk-container-id-4\" class=\"sk-top-container\"><div class=\"sk-text-repr-fallback\"><pre>XGBClassifier(base_score=0.5, booster=&#x27;gbtree&#x27;, callbacks=None,\n",
							"              colsample_bylevel=1, colsample_bynode=1, colsample_bytree=0.5,\n",
							"              early_stopping_rounds=None, enable_categorical=False, eta=0.05,\n",
							"              eval_metric=&#x27;logloss&#x27;, gamma=6, gpu_id=-1,\n",
							"              grow_policy=&#x27;depthwise&#x27;, importance_type=None,\n",
							"              interaction_constraints=&#x27;&#x27;, learning_rate=0.01, max_bin=256,\n",
							"              max_cat_to_onehot=4, max_delta_step=0, max_depth=10, max_leaves=0,\n",
							"              min_child_weight=5, missing=nan, monotone_constraints=&#x27;()&#x27;,\n",
							"              n_estimators=900, n_jobs=0, num_parallel_tree=1, predictor=&#x27;auto&#x27;,\n",
							"              random_state=0, reg_alpha=0, ...)</pre><b>In a Jupyter environment, please rerun this cell to show the HTML representation or trust the notebook. <br />On GitHub, the HTML representation is unable to render, please try loading this page with nbviewer.org.</b></div><div class=\"sk-container\" hidden><div class=\"sk-item\"><div class=\"sk-estimator sk-toggleable\"><input class=\"sk-toggleable__control sk-hidden--visually\" id=\"sk-estimator-id-4\" type=\"checkbox\" checked><label for=\"sk-estimator-id-4\" class=\"sk-toggleable__label sk-toggleable__label-arrow\">XGBClassifier</label><div class=\"sk-toggleable__content\"><pre>XGBClassifier(base_score=0.5, booster=&#x27;gbtree&#x27;, callbacks=None,\n",
							"              colsample_bylevel=1, colsample_bynode=1, colsample_bytree=0.5,\n",
							"              early_stopping_rounds=None, enable_categorical=False, eta=0.05,\n",
							"              eval_metric=&#x27;logloss&#x27;, gamma=6, gpu_id=-1,\n",
							"              grow_policy=&#x27;depthwise&#x27;, importance_type=None,\n",
							"              interaction_constraints=&#x27;&#x27;, learning_rate=0.01, max_bin=256,\n",
							"              max_cat_to_onehot=4, max_delta_step=0, max_depth=10, max_leaves=0,\n",
							"              min_child_weight=5, missing=nan, monotone_constraints=&#x27;()&#x27;,\n",
							"              n_estimators=900, n_jobs=0, num_parallel_tree=1, predictor=&#x27;auto&#x27;,\n",
							"              random_state=0, reg_alpha=0, ...)</pre></div></div></div></div></div>"
						],
						"text/plain": [
							"XGBClassifier(base_score=0.5, booster='gbtree', callbacks=None,\n",
							"              colsample_bylevel=1, colsample_bynode=1, colsample_bytree=0.5,\n",
							"              early_stopping_rounds=None, enable_categorical=False, eta=0.05,\n",
							"              eval_metric='logloss', gamma=6, gpu_id=-1,\n",
							"              grow_policy='depthwise', importance_type=None,\n",
							"              interaction_constraints='', learning_rate=0.01, max_bin=256,\n",
							"              max_cat_to_onehot=4, max_delta_step=0, max_depth=10, max_leaves=0,\n",
							"              min_child_weight=5, missing=nan, monotone_constraints='()',\n",
							"              n_estimators=900, n_jobs=0, num_parallel_tree=1, predictor='auto',\n",
							"              random_state=0, reg_alpha=0, ...)"
						]
					},
					"execution_count": 16,
					"metadata": {},
					"output_type": "execute_result"
				}
			],
			"source": [
				"xgb_loaded_model = load_model(\"../trained_models/20220724221507_xgb_model\")\n",
				"xgb_val_preds = xgb_loaded_model.predict(X_val)\n",
				"\n",
				"xgb_loaded_model;"
			]
		},
		{
			"cell_type": "code",
			"execution_count": 17,
			"metadata": {},
			"outputs": [
				{
					"name": "stdout",
					"output_type": "stream",
					"text": [
						"              precision    recall  f1-score   support\n",
						"\n",
						"           0       0.64      0.71      0.67     29868\n",
						"           1       0.68      0.61      0.64     29956\n",
						"\n",
						"    accuracy                           0.66     59824\n",
						"   macro avg       0.66      0.66      0.66     59824\n",
						"weighted avg       0.66      0.66      0.66     59824\n",
						"\n"
					]
				}
			],
			"source": [
				"print(classification_report(y_val, xgb_val_preds))"
			]
		},
		{
			"cell_type": "markdown",
			"metadata": {},
			"source": [
				"## Model2: SVM"
			]
		},
		{
			"cell_type": "code",
			"execution_count": 8,
			"metadata": {},
			"outputs": [],
			"source": [
				"SIZE = 10000\n",
				"test_X_train = test_arr[:SIZE, :-1]\n",
				"test_y_train = test_arr[:SIZE, -1]\n",
				"test_X_test = test_arr[SIZE:, :-1]\n",
				"test_y_test = test_arr[SIZE:, -1].reshape(-1, 1)"
			]
		},
		{
			"cell_type": "code",
			"execution_count": 9,
			"metadata": {},
			"outputs": [
				{
					"data": {
						"text/plain": [
							"((10000,), (478590,))"
						]
					},
					"execution_count": 9,
					"metadata": {},
					"output_type": "execute_result"
				}
			],
			"source": [
				"test_y_train.shape, y_train.shape"
			]
		},
		{
			"cell_type": "code",
			"execution_count": 10,
			"metadata": {},
			"outputs": [],
			"source": [
				"svm_tmp_model = SVC()\n",
				"\n",
				"svm_grid_params = {\n",
				"    \"C\": [7],\n",
				"    \"gamma\": [\"auto\"],\n",
				"    \"kernel\": [\"poly\"],\n",
				"    \"degree\": [8],\n",
				"    \"coef0\": [1]\n",
				"}"
			]
		},
		{
			"cell_type": "code",
			"execution_count": 12,
			"metadata": {},
			"outputs": [
				{
					"name": "stdout",
					"output_type": "stream",
					"text": [
						"Fitting 2 folds for each of 1 candidates, totalling 2 fits\n"
					]
				}
			],
			"source": [
				"svm_grid_model = GridSearchCV(svm_tmp_model, svm_grid_params, cv=2, scoring=\"f1_macro\", verbose=3)\n",
				"\n",
				"svm_grid_model.fit(X_train, y_train)"
			]
		},
		{
			"cell_type": "code",
			"execution_count": null,
			"metadata": {},
			"outputs": [],
			"source": [
				"top_rankings(svm_grid_model, top=10)"
			]
		},
		{
			"cell_type": "code",
			"execution_count": null,
			"metadata": {},
			"outputs": [
				{
					"data": {
						"text/plain": [
							"{'C': 7, 'coef0': 1, 'degree': 8, 'gamma': 'auto', 'kernel': 'poly'}"
						]
					},
					"execution_count": 17,
					"metadata": {},
					"output_type": "execute_result"
				}
			],
			"source": [
				"svm_grid_model.best_params_"
			]
		},
		{
			"cell_type": "code",
			"execution_count": null,
			"metadata": {},
			"outputs": [],
			"source": [
				"export_model(svm_grid_model.best_estimator_, \"svm_model\")"
			]
		},
		{
			"cell_type": "code",
			"execution_count": null,
			"metadata": {},
			"outputs": [
				{
					"name": "stdout",
					"output_type": "stream",
					"text": [
						"              precision    recall  f1-score   support\n",
						"\n",
						"         0.0       0.64      0.68      0.66      4941\n",
						"         1.0       0.67      0.62      0.64      5059\n",
						"\n",
						"    accuracy                           0.65     10000\n",
						"   macro avg       0.65      0.65      0.65     10000\n",
						"weighted avg       0.65      0.65      0.65     10000\n",
						"\n"
					]
				}
			],
			"source": [
				"print(classification_report(y_val, svm_grid_model.best_estimator_.predict(X_val)))"
			]
		},
		{
			"cell_type": "code",
			"execution_count": 22,
			"metadata": {},
			"outputs": [
				{
					"data": {
						"text/plain": [
							"0.5902748854643898"
						]
					},
					"execution_count": 22,
					"metadata": {},
					"output_type": "execute_result"
				}
			],
			"source": [
				"f1_score(y_test, svm_grid_model.best_estimator_.predict(X_test))"
			]
		},
		{
			"cell_type": "code",
			"execution_count": null,
			"metadata": {},
			"outputs": [],
			"source": [
				"export_model(svm_model, \"svm_model\")"
			]
		},
		{
			"cell_type": "code",
			"execution_count": null,
			"metadata": {},
			"outputs": [],
			"source": [
				"print(classification_report(y_test, svm_model.predict(X_test)))"
			]
		},
		{
			"cell_type": "markdown",
			"metadata": {},
			"source": [
				"## Model2: XXXXXXXXXX"
			]
		},
		{
			"cell_type": "markdown",
			"metadata": {},
			"source": [
				"## Model2: XXXXXXXXXX"
			]
		},
		{
			"cell_type": "markdown",
			"metadata": {},
			"source": [
				"## Model2: XXXXXXXXXX"
			]
		},
		{
			"cell_type": "code",
			"execution_count": null,
			"metadata": {},
			"outputs": [],
			"source": []
		},
		{
			"cell_type": "markdown",
			"metadata": {},
			"source": [
				"# Final Model Selection"
			]
		},
		{
			"cell_type": "code",
			"execution_count": null,
			"metadata": {},
			"outputs": [],
			"source": []
		},
		{
			"cell_type": "markdown",
			"metadata": {},
			"source": [
				"# Export the Model"
			]
		},
		{
			"cell_type": "code",
			"execution_count": null,
			"metadata": {},
			"outputs": [],
			"source": []
		}
	],
	"metadata": {
		"kernelspec": {
			"display_name": "Python 3.10.3 64-bit",
			"language": "python",
			"name": "python3"
		},
		"language_info": {
			"codemirror_mode": {
				"name": "ipython",
				"version": 3
			},
			"file_extension": ".py",
			"mimetype": "text/x-python",
			"name": "python",
			"nbconvert_exporter": "python",
			"pygments_lexer": "ipython3",
			"version": "3.10.3"
		},
		"orig_nbformat": 4,
		"vscode": {
			"interpreter": {
				"hash": "aee8b7b246df8f9039afb4144a1f6fd8d2ca17a180786b69acc140d282b71a49"
			}
		}
	},
	"nbformat": 4,
	"nbformat_minor": 2
}
