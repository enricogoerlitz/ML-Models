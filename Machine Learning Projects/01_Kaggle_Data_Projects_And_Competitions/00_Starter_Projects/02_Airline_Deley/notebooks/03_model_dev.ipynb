{
	"cells": [
		{
			"cell_type": "markdown",
			"metadata": {},
			"source": [
				"# Model Development: Airline Delay\n",
				"<img src=\"../assets/airline-pic.jpg\" alt=\"Title-Pic\">"
			]
		},
		{
			"cell_type": "markdown",
			"metadata": {},
			"source": [
				"# Imports"
			]
		},
		{
			"cell_type": "code",
			"execution_count": 36,
			"metadata": {},
			"outputs": [],
			"source": [
				"import numpy as np\n",
				"import pandas as pd\n",
				"import matplotlib.pyplot as plt\n",
				"import seaborn as sns\n",
				"import pickle\n",
				"import warnings\n",
				"\n",
				"from datetime import datetime\n",
				"from pandas import Series, DataFrame\n",
				"from xgboost import XGBClassifier\n",
				"from sklearn.ensemble import RandomForestClassifier, VotingClassifier\n",
				"from sklearn.model_selection import train_test_split, GridSearchCV\n",
				"from sklearn.metrics import classification_report, confusion_matrix, f1_score, accuracy_score\n",
				"\n",
				"\n",
				"np.set_printoptions(suppress=True)\n",
				"sns.set(rc={\"figure.figsize\": (10, 6), \"axes.titlesize\": 20, \"axes.titleweight\": \"bold\", \"axes.labelsize\": 15})\n",
				"warnings.filterwarnings('ignore')"
			]
		},
		{
			"cell_type": "markdown",
			"metadata": {},
			"source": [
				"# Data"
			]
		},
		{
			"cell_type": "code",
			"execution_count": 37,
			"metadata": {},
			"outputs": [],
			"source": [
				"def export_model(model, model_name):\n",
				"    timestamp_string = str(datetime.now())[:19].replace(\" \", \"\").replace(\":\", \"\").replace(\"-\", \"\")\n",
				"    export_path = f\"../trained_models/{timestamp_string}_{model_name}\"\n",
				"    with open(export_path, \"wb\") as model_file:\n",
				"        pickle.dump(model, model_file)\n",
				"    \n",
				"    return export_path"
			]
		},
		{
			"cell_type": "code",
			"execution_count": 38,
			"metadata": {},
			"outputs": [],
			"source": [
				"def load_model(model_path):\n",
				"    with open(model_path, \"rb\") as model_file:\n",
				"        return pickle.load(model_file)"
			]
		},
		{
			"cell_type": "code",
			"execution_count": 39,
			"metadata": {},
			"outputs": [],
			"source": [
				"def print_top_rankings(grid_model, top=10):\n",
				"    sorted_zipped_report = sorted(\n",
				"        zip(\n",
				"            grid_model.cv_results_[\"params\"], \n",
				"            grid_model.cv_results_[\"mean_test_score\"], \n",
				"            grid_model.cv_results_[\"rank_test_score\"]\n",
				"        ), key=lambda item: item[2]\n",
				"    )\n",
				"    for (i, (params, score, rank)) in enumerate(sorted_zipped_report):\n",
				"        if i >= top:\n",
				"            break\n",
				"\n",
				"        print(f\"Rank: {rank}\\tScore: {score}\\nParam: {params}\\n\")\n",
				"\n",
				"def print_model_classification_report(model, X_data, y_data):\n",
				"    preds_test = model.predict(X_data)\n",
				"    preds_train = model.predict(X_train)\n",
				"\n",
				"    f1_score_test = f1_score(y_data, preds_test, average=\"macro\")\n",
				"    accuracy_score_test = accuracy_score(y_data, preds_test)\n",
				"    f1_score_train = f1_score(y_train, preds_train, average=\"macro\")\n",
				"    accuracy_score_train = accuracy_score(y_train, preds_train)\n",
				"\n",
				"    print(f\"Accuracy-Score:\\t{accuracy_score_test}\\t|\\tTrain-Accuracy-Score:\\t{accuracy_score_train}\")\n",
				"    print(f\"F1-Score:\\t{f1_score_test}\\t|\\tTrain-F1-Score:\\t\\t{f1_score_train}\\n\")\n",
				"    print(classification_report(y_data, preds_test))\n",
				"\n",
				"    plt.figure(figsize=(8, 6))\n",
				"    sns.heatmap(confusion_matrix(y_data, preds_test), annot=True, cmap=\"cool\", fmt='.5g')\n",
				"\n",
				"# def print_feature_importance(model):\n",
				"#     return Series(data=model.feature_importances_, index=DATA_COLUMN_NAMES).sort_values(ascending=False)"
			]
		},
		{
			"cell_type": "code",
			"execution_count": 40,
			"metadata": {},
			"outputs": [
				{
					"data": {
						"text/plain": [
							"(((358942, 613), (119648, 613), (119648, 613)),\n",
							" ((358942,), (119648,), (119648,)))"
						]
					},
					"execution_count": 40,
					"metadata": {},
					"output_type": "execute_result"
				}
			],
			"source": [
				"MODEL_DATA = np.load(\"../model_data/nasa_prep_data.npz\", allow_pickle=True)\n",
				"inputs = MODEL_DATA[\"inputs\"]\n",
				"targets = MODEL_DATA[\"targets\"]\n",
				"\n",
				"X_train, X_tmp_test, y_train, y_tmp_test = train_test_split(inputs, targets, test_size=0.4, random_state=101)\n",
				"X_test, X_val, y_test, y_val = train_test_split(X_tmp_test, y_tmp_test, test_size=0.5, random_state=101)\n",
				"\n",
				"(X_train.shape, X_test.shape, X_val.shape), (y_train.shape, y_test.shape, y_val.shape)"
			]
		},
		{
			"cell_type": "markdown",
			"metadata": {},
			"source": [
				"# Build the Model"
			]
		},
		{
			"cell_type": "markdown",
			"metadata": {},
			"source": [
				"## Model1: Gradient Boosting"
			]
		},
		{
			"cell_type": "code",
			"execution_count": 41,
			"metadata": {},
			"outputs": [
				{
					"name": "stdout",
					"output_type": "stream",
					"text": [
						"Accuracy-Score:\t0.6600611794597486\t|\tTrain-Accuracy-Score:\t0.6849658162042893\n",
						"F1-Score:\t0.6593442253973831\t|\tTrain-F1-Score:\t\t0.6842757431528375\n",
						"\n",
						"              precision    recall  f1-score   support\n",
						"\n",
						"           0       0.65      0.71      0.67     59699\n",
						"           1       0.68      0.61      0.64     59949\n",
						"\n",
						"    accuracy                           0.66    119648\n",
						"   macro avg       0.66      0.66      0.66    119648\n",
						"weighted avg       0.66      0.66      0.66    119648\n",
						"\n"
					]
				},
				{
					"data": {
						"image/png": "[encoded data removed]",
						"text/plain": [
							"<Figure size 576x432 with 2 Axes>"
						]
					},
					"metadata": {},
					"output_type": "display_data"
				}
			],
			"source": [
				"xgb_model = XGBClassifier(gamma=0.4, n_estimators=200, learning_rate=0.08, max_depth=10, min_child_weight=1.5)\n",
				"xgb_model.fit(X_train, y_train)\n",
				"print_model_classification_report(xgb_model, X_test, y_test)"
			]
		},
		{
			"cell_type": "code",
			"execution_count": 42,
			"metadata": {},
			"outputs": [
				{
					"name": "stdout",
					"output_type": "stream",
					"text": [
						"Fitting 2 folds for each of 16 candidates, totalling 32 fits\n",
						"[CV 1/2] END colsample_bytree=0.5, eta=0.01, eval_metric=logloss, max_depth=4, min_child_weight=3, n_estimators=700, subsample=0.5;, score=0.637 total time= 3.2min\n",
						"[CV 2/2] END colsample_bytree=0.5, eta=0.01, eval_metric=logloss, max_depth=4, min_child_weight=3, n_estimators=700, subsample=0.5;, score=0.636 total time= 3.4min\n",
						"[CV 1/2] END colsample_bytree=0.5, eta=0.01, eval_metric=logloss, max_depth=4, min_child_weight=3, n_estimators=700, subsample=0.7;, score=0.637 total time= 3.4min\n",
						"[CV 2/2] END colsample_bytree=0.5, eta=0.01, eval_metric=logloss, max_depth=4, min_child_weight=3, n_estimators=700, subsample=0.7;, score=0.636 total time= 3.2min\n",
						"[CV 1/2] END colsample_bytree=0.5, eta=0.01, eval_metric=logloss, max_depth=4, min_child_weight=3, n_estimators=900, subsample=0.5;, score=0.639 total time= 4.2min\n",
						"[CV 2/2] END colsample_bytree=0.5, eta=0.01, eval_metric=logloss, max_depth=4, min_child_weight=3, n_estimators=900, subsample=0.5;, score=0.639 total time= 4.2min\n",
						"[CV 1/2] END colsample_bytree=0.5, eta=0.01, eval_metric=logloss, max_depth=4, min_child_weight=3, n_estimators=900, subsample=0.7;, score=0.639 total time= 3.9min\n",
						"[CV 2/2] END colsample_bytree=0.5, eta=0.01, eval_metric=logloss, max_depth=4, min_child_weight=3, n_estimators=900, subsample=0.7;, score=0.639 total time= 3.9min\n",
						"[CV 1/2] END colsample_bytree=0.5, eta=0.01, eval_metric=logloss, max_depth=4, min_child_weight=8, n_estimators=700, subsample=0.5;, score=0.637 total time= 3.2min\n",
						"[CV 2/2] END colsample_bytree=0.5, eta=0.01, eval_metric=logloss, max_depth=4, min_child_weight=8, n_estimators=700, subsample=0.5;, score=0.636 total time= 3.2min\n",
						"[CV 1/2] END colsample_bytree=0.5, eta=0.01, eval_metric=logloss, max_depth=4, min_child_weight=8, n_estimators=700, subsample=0.7;, score=0.637 total time= 3.0min\n",
						"[CV 2/2] END colsample_bytree=0.5, eta=0.01, eval_metric=logloss, max_depth=4, min_child_weight=8, n_estimators=700, subsample=0.7;, score=0.636 total time= 3.1min\n",
						"[CV 1/2] END colsample_bytree=0.5, eta=0.01, eval_metric=logloss, max_depth=4, min_child_weight=8, n_estimators=900, subsample=0.5;, score=0.639 total time= 4.2min\n",
						"[CV 2/2] END colsample_bytree=0.5, eta=0.01, eval_metric=logloss, max_depth=4, min_child_weight=8, n_estimators=900, subsample=0.5;, score=0.639 total time= 4.2min\n",
						"[CV 1/2] END colsample_bytree=0.5, eta=0.01, eval_metric=logloss, max_depth=4, min_child_weight=8, n_estimators=900, subsample=0.7;, score=0.639 total time= 3.9min\n",
						"[CV 2/2] END colsample_bytree=0.5, eta=0.01, eval_metric=logloss, max_depth=4, min_child_weight=8, n_estimators=900, subsample=0.7;, score=0.639 total time= 3.9min\n",
						"[CV 1/2] END colsample_bytree=0.5, eta=0.01, eval_metric=logloss, max_depth=10, min_child_weight=3, n_estimators=700, subsample=0.5;, score=0.652 total time= 7.6min\n",
						"[CV 2/2] END colsample_bytree=0.5, eta=0.01, eval_metric=logloss, max_depth=10, min_child_weight=3, n_estimators=700, subsample=0.5;, score=0.652 total time= 7.7min\n",
						"[CV 1/2] END colsample_bytree=0.5, eta=0.01, eval_metric=logloss, max_depth=10, min_child_weight=3, n_estimators=700, subsample=0.7;, score=0.652 total time=24.5min\n",
						"[CV 2/2] END colsample_bytree=0.5, eta=0.01, eval_metric=logloss, max_depth=10, min_child_weight=3, n_estimators=700, subsample=0.7;, score=0.653 total time=14.2min\n",
						"[CV 1/2] END colsample_bytree=0.5, eta=0.01, eval_metric=logloss, max_depth=10, min_child_weight=3, n_estimators=900, subsample=0.5;, score=0.653 total time=10.2min\n",
						"[CV 2/2] END colsample_bytree=0.5, eta=0.01, eval_metric=logloss, max_depth=10, min_child_weight=3, n_estimators=900, subsample=0.5;, score=0.653 total time=10.3min\n",
						"[CV 1/2] END colsample_bytree=0.5, eta=0.01, eval_metric=logloss, max_depth=10, min_child_weight=3, n_estimators=900, subsample=0.7;, score=0.654 total time= 9.9min\n",
						"[CV 2/2] END colsample_bytree=0.5, eta=0.01, eval_metric=logloss, max_depth=10, min_child_weight=3, n_estimators=900, subsample=0.7;, score=0.654 total time= 9.8min\n",
						"[CV 1/2] END colsample_bytree=0.5, eta=0.01, eval_metric=logloss, max_depth=10, min_child_weight=8, n_estimators=700, subsample=0.5;, score=0.651 total time=11.2min\n",
						"[CV 2/2] END colsample_bytree=0.5, eta=0.01, eval_metric=logloss, max_depth=10, min_child_weight=8, n_estimators=700, subsample=0.5;, score=0.650 total time=21.1min\n",
						"[CV 1/2] END colsample_bytree=0.5, eta=0.01, eval_metric=logloss, max_depth=10, min_child_weight=8, n_estimators=700, subsample=0.7;, score=0.651 total time= 7.6min\n",
						"[CV 2/2] END colsample_bytree=0.5, eta=0.01, eval_metric=logloss, max_depth=10, min_child_weight=8, n_estimators=700, subsample=0.7;, score=0.651 total time= 7.7min\n",
						"[CV 1/2] END colsample_bytree=0.5, eta=0.01, eval_metric=logloss, max_depth=10, min_child_weight=8, n_estimators=900, subsample=0.5;, score=0.652 total time=10.1min\n",
						"[CV 2/2] END colsample_bytree=0.5, eta=0.01, eval_metric=logloss, max_depth=10, min_child_weight=8, n_estimators=900, subsample=0.5;, score=0.651 total time= 9.9min\n",
						"[CV 1/2] END colsample_bytree=0.5, eta=0.01, eval_metric=logloss, max_depth=10, min_child_weight=8, n_estimators=900, subsample=0.7;, score=0.653 total time= 9.6min\n",
						"[CV 2/2] END colsample_bytree=0.5, eta=0.01, eval_metric=logloss, max_depth=10, min_child_weight=8, n_estimators=900, subsample=0.7;, score=0.652 total time= 9.7min\n"
					]
				}
			],
			"source": [
				"xgb_tmp_model = XGBClassifier()\n",
				"\n",
				"xgb_grid_params = {\n",
				"    \"eval_metric\": [\"logloss\"],\n",
				"    \"n_estimators\": [700, 900],\n",
				"    #\"learning_rate\": [0.01],\n",
				"    \"min_child_weight\": [3, 8],\n",
				"    \"eta\": [0.01],             # learning rate\n",
				"    #\"gamma\": [6],\n",
				"    \"subsample\": [0.5, 0.7],\n",
				"    \"max_depth\": [4, 10],\n",
				"    \"colsample_bytree\": [0.5]\n",
				"}\n",
				"\n",
				"xgb_grid_model = GridSearchCV(xgb_tmp_model, xgb_grid_params, cv=2, verbose=3, scoring=\"f1_macro\")\n",
				"\n",
				"xgb_grid_model.fit(X_train, y_train);"
			]
		},
		{
			"cell_type": "code",
			"execution_count": 43,
			"metadata": {},
			"outputs": [
				{
					"data": {
						"text/plain": [
							"{'colsample_bytree': 0.5,\n",
							" 'eta': 0.01,\n",
							" 'eval_metric': 'logloss',\n",
							" 'max_depth': 10,\n",
							" 'min_child_weight': 3,\n",
							" 'n_estimators': 900,\n",
							" 'subsample': 0.7}"
						]
					},
					"execution_count": 43,
					"metadata": {},
					"output_type": "execute_result"
				}
			],
			"source": [
				"xgb_grid_model.best_params_"
			]
		},
		{
			"cell_type": "code",
			"execution_count": 44,
			"metadata": {},
			"outputs": [
				{
					"name": "stdout",
					"output_type": "stream",
					"text": [
						"Accuracy-Score:\t0.659292257288045\t|\tTrain-Accuracy-Score:\t0.6733845579508667\n",
						"F1-Score:\t0.6586196210329822\t|\tTrain-F1-Score:\t\t0.6727021367344888\n",
						"\n",
						"              precision    recall  f1-score   support\n",
						"\n",
						"           0       0.65      0.71      0.67     59699\n",
						"           1       0.68      0.61      0.64     59949\n",
						"\n",
						"    accuracy                           0.66    119648\n",
						"   macro avg       0.66      0.66      0.66    119648\n",
						"weighted avg       0.66      0.66      0.66    119648\n",
						"\n"
					]
				},
				{
					"data": {
						"image/png": "[encoded data removed]",
						"text/plain": [
							"<Figure size 576x432 with 2 Axes>"
						]
					},
					"metadata": {},
					"output_type": "display_data"
				}
			],
			"source": [
				"print_model_classification_report(xgb_grid_model.best_estimator_, X_test, y_test)"
			]
		},
		{
			"cell_type": "code",
			"execution_count": 45,
			"metadata": {},
			"outputs": [
				{
					"name": "stdout",
					"output_type": "stream",
					"text": [
						"Rank: 1\tScore: 0.6538728131362775\n",
						"Param: {'colsample_bytree': 0.5, 'eta': 0.01, 'eval_metric': 'logloss', 'max_depth': 10, 'min_child_weight': 3, 'n_estimators': 900, 'subsample': 0.7}\n",
						"\n",
						"Rank: 2\tScore: 0.6531155930053437\n",
						"Param: {'colsample_bytree': 0.5, 'eta': 0.01, 'eval_metric': 'logloss', 'max_depth': 10, 'min_child_weight': 3, 'n_estimators': 900, 'subsample': 0.5}\n",
						"\n",
						"Rank: 3\tScore: 0.652518580630272\n",
						"Param: {'colsample_bytree': 0.5, 'eta': 0.01, 'eval_metric': 'logloss', 'max_depth': 10, 'min_child_weight': 8, 'n_estimators': 900, 'subsample': 0.7}\n",
						"\n",
						"Rank: 4\tScore: 0.6523281690601475\n",
						"Param: {'colsample_bytree': 0.5, 'eta': 0.01, 'eval_metric': 'logloss', 'max_depth': 10, 'min_child_weight': 3, 'n_estimators': 700, 'subsample': 0.7}\n",
						"\n",
						"Rank: 5\tScore: 0.6518316697426063\n",
						"Param: {'colsample_bytree': 0.5, 'eta': 0.01, 'eval_metric': 'logloss', 'max_depth': 10, 'min_child_weight': 3, 'n_estimators': 700, 'subsample': 0.5}\n",
						"\n",
						"Rank: 6\tScore: 0.6516439499651379\n",
						"Param: {'colsample_bytree': 0.5, 'eta': 0.01, 'eval_metric': 'logloss', 'max_depth': 10, 'min_child_weight': 8, 'n_estimators': 900, 'subsample': 0.5}\n",
						"\n",
						"Rank: 7\tScore: 0.6511698540885057\n",
						"Param: {'colsample_bytree': 0.5, 'eta': 0.01, 'eval_metric': 'logloss', 'max_depth': 10, 'min_child_weight': 8, 'n_estimators': 700, 'subsample': 0.7}\n",
						"\n",
						"Rank: 8\tScore: 0.6505210440552973\n",
						"Param: {'colsample_bytree': 0.5, 'eta': 0.01, 'eval_metric': 'logloss', 'max_depth': 10, 'min_child_weight': 8, 'n_estimators': 700, 'subsample': 0.5}\n",
						"\n",
						"Rank: 9\tScore: 0.6394331985443651\n",
						"Param: {'colsample_bytree': 0.5, 'eta': 0.01, 'eval_metric': 'logloss', 'max_depth': 4, 'min_child_weight': 3, 'n_estimators': 900, 'subsample': 0.5}\n",
						"\n",
						"Rank: 10\tScore: 0.6393459199625082\n",
						"Param: {'colsample_bytree': 0.5, 'eta': 0.01, 'eval_metric': 'logloss', 'max_depth': 4, 'min_child_weight': 3, 'n_estimators': 900, 'subsample': 0.7}\n",
						"\n"
					]
				}
			],
			"source": [
				"print_top_rankings(xgb_grid_model, top=10)"
			]
		},
		{
			"cell_type": "markdown",
			"metadata": {},
			"source": [
				"## Model2: RandomForest"
			]
		},
		{
			"cell_type": "code",
			"execution_count": 46,
			"metadata": {},
			"outputs": [
				{
					"name": "stdout",
					"output_type": "stream",
					"text": [
						"Accuracy-Score:\t0.6272231880181867\t|\tTrain-Accuracy-Score:\t0.861504087011272\n",
						"F1-Score:\t0.6271818426123749\t|\tTrain-F1-Score:\t\t0.8615037051706597\n",
						"\n",
						"              precision    recall  f1-score   support\n",
						"\n",
						"           0       0.62      0.64      0.63     59699\n",
						"           1       0.63      0.62      0.62     59949\n",
						"\n",
						"    accuracy                           0.63    119648\n",
						"   macro avg       0.63      0.63      0.63    119648\n",
						"weighted avg       0.63      0.63      0.63    119648\n",
						"\n"
					]
				},
				{
					"data": {
						"image/png": "[encoded data removed]",
						"text/plain": [
							"<Figure size 576x432 with 2 Axes>"
						]
					},
					"metadata": {},
					"output_type": "display_data"
				}
			],
			"source": [
				"rf_model = RandomForestClassifier()\n",
				"rf_model.fit(X_train, y_train)\n",
				"print_model_classification_report(rf_model, X_test, y_test)"
			]
		},
		{
			"cell_type": "code",
			"execution_count": 47,
			"metadata": {},
			"outputs": [
				{
					"name": "stdout",
					"output_type": "stream",
					"text": [
						"Fitting 2 folds for each of 16 candidates, totalling 32 fits\n",
						"[CV 1/2] END bootstrap=True, criterion=gini, max_depth=50, max_samples=0.9, min_samples_leaf=3, min_samples_split=3, n_estimators=500;, score=0.652 total time= 3.7min\n",
						"[CV 2/2] END bootstrap=True, criterion=gini, max_depth=50, max_samples=0.9, min_samples_leaf=3, min_samples_split=3, n_estimators=500;, score=0.650 total time= 3.8min\n",
						"[CV 1/2] END bootstrap=True, criterion=gini, max_depth=50, max_samples=0.9, min_samples_leaf=3, min_samples_split=3, n_estimators=700;, score=0.653 total time= 5.2min\n",
						"[CV 2/2] END bootstrap=True, criterion=gini, max_depth=50, max_samples=0.9, min_samples_leaf=3, min_samples_split=3, n_estimators=700;, score=0.650 total time= 5.2min\n",
						"[CV 1/2] END bootstrap=True, criterion=gini, max_depth=50, max_samples=0.9, min_samples_leaf=3, min_samples_split=7, n_estimators=500;, score=0.652 total time= 3.8min\n",
						"[CV 2/2] END bootstrap=True, criterion=gini, max_depth=50, max_samples=0.9, min_samples_leaf=3, min_samples_split=7, n_estimators=500;, score=0.651 total time= 3.7min\n",
						"[CV 1/2] END bootstrap=True, criterion=gini, max_depth=50, max_samples=0.9, min_samples_leaf=3, min_samples_split=7, n_estimators=700;, score=0.652 total time= 5.3min\n",
						"[CV 2/2] END bootstrap=True, criterion=gini, max_depth=50, max_samples=0.9, min_samples_leaf=3, min_samples_split=7, n_estimators=700;, score=0.651 total time= 5.2min\n",
						"[CV 1/2] END bootstrap=True, criterion=gini, max_depth=50, max_samples=0.9, min_samples_leaf=7, min_samples_split=3, n_estimators=500;, score=0.647 total time= 3.6min\n",
						"[CV 2/2] END bootstrap=True, criterion=gini, max_depth=50, max_samples=0.9, min_samples_leaf=7, min_samples_split=3, n_estimators=500;, score=0.645 total time= 3.5min\n",
						"[CV 1/2] END bootstrap=True, criterion=gini, max_depth=50, max_samples=0.9, min_samples_leaf=7, min_samples_split=3, n_estimators=700;, score=0.647 total time= 5.0min\n",
						"[CV 2/2] END bootstrap=True, criterion=gini, max_depth=50, max_samples=0.9, min_samples_leaf=7, min_samples_split=3, n_estimators=700;, score=0.645 total time= 4.9min\n",
						"[CV 1/2] END bootstrap=True, criterion=gini, max_depth=50, max_samples=0.9, min_samples_leaf=7, min_samples_split=7, n_estimators=500;, score=0.647 total time= 3.5min\n",
						"[CV 2/2] END bootstrap=True, criterion=gini, max_depth=50, max_samples=0.9, min_samples_leaf=7, min_samples_split=7, n_estimators=500;, score=0.645 total time= 3.5min\n",
						"[CV 1/2] END bootstrap=True, criterion=gini, max_depth=50, max_samples=0.9, min_samples_leaf=7, min_samples_split=7, n_estimators=700;, score=0.647 total time= 5.0min\n",
						"[CV 2/2] END bootstrap=True, criterion=gini, max_depth=50, max_samples=0.9, min_samples_leaf=7, min_samples_split=7, n_estimators=700;, score=0.645 total time= 4.9min\n",
						"[CV 1/2] END bootstrap=True, criterion=gini, max_depth=90, max_samples=0.9, min_samples_leaf=3, min_samples_split=3, n_estimators=500;, score=0.653 total time= 4.1min\n",
						"[CV 2/2] END bootstrap=True, criterion=gini, max_depth=90, max_samples=0.9, min_samples_leaf=3, min_samples_split=3, n_estimators=500;, score=0.653 total time= 4.1min\n",
						"[CV 1/2] END bootstrap=True, criterion=gini, max_depth=90, max_samples=0.9, min_samples_leaf=3, min_samples_split=3, n_estimators=700;, score=0.654 total time= 5.8min\n",
						"[CV 2/2] END bootstrap=True, criterion=gini, max_depth=90, max_samples=0.9, min_samples_leaf=3, min_samples_split=3, n_estimators=700;, score=0.652 total time= 5.7min\n",
						"[CV 1/2] END bootstrap=True, criterion=gini, max_depth=90, max_samples=0.9, min_samples_leaf=3, min_samples_split=7, n_estimators=500;, score=0.654 total time= 4.1min\n",
						"[CV 2/2] END bootstrap=True, criterion=gini, max_depth=90, max_samples=0.9, min_samples_leaf=3, min_samples_split=7, n_estimators=500;, score=0.652 total time= 4.1min\n",
						"[CV 1/2] END bootstrap=True, criterion=gini, max_depth=90, max_samples=0.9, min_samples_leaf=3, min_samples_split=7, n_estimators=700;, score=0.654 total time= 5.7min\n",
						"[CV 2/2] END bootstrap=True, criterion=gini, max_depth=90, max_samples=0.9, min_samples_leaf=3, min_samples_split=7, n_estimators=700;, score=0.652 total time= 5.7min\n",
						"[CV 1/2] END bootstrap=True, criterion=gini, max_depth=90, max_samples=0.9, min_samples_leaf=7, min_samples_split=3, n_estimators=500;, score=0.648 total time= 3.7min\n",
						"[CV 2/2] END bootstrap=True, criterion=gini, max_depth=90, max_samples=0.9, min_samples_leaf=7, min_samples_split=3, n_estimators=500;, score=0.646 total time= 3.7min\n",
						"[CV 1/2] END bootstrap=True, criterion=gini, max_depth=90, max_samples=0.9, min_samples_leaf=7, min_samples_split=3, n_estimators=700;, score=0.648 total time= 5.2min\n",
						"[CV 2/2] END bootstrap=True, criterion=gini, max_depth=90, max_samples=0.9, min_samples_leaf=7, min_samples_split=3, n_estimators=700;, score=0.646 total time= 5.3min\n",
						"[CV 1/2] END bootstrap=True, criterion=gini, max_depth=90, max_samples=0.9, min_samples_leaf=7, min_samples_split=7, n_estimators=500;, score=0.648 total time= 3.8min\n",
						"[CV 2/2] END bootstrap=True, criterion=gini, max_depth=90, max_samples=0.9, min_samples_leaf=7, min_samples_split=7, n_estimators=500;, score=0.646 total time= 3.7min\n",
						"[CV 1/2] END bootstrap=True, criterion=gini, max_depth=90, max_samples=0.9, min_samples_leaf=7, min_samples_split=7, n_estimators=700;, score=0.648 total time= 5.3min\n",
						"[CV 2/2] END bootstrap=True, criterion=gini, max_depth=90, max_samples=0.9, min_samples_leaf=7, min_samples_split=7, n_estimators=700;, score=0.646 total time= 5.3min\n"
					]
				}
			],
			"source": [
				"rf_tmp_model = RandomForestClassifier()\n",
				"\n",
				"rf_grid_params = {\n",
				"    \"criterion\": [\"gini\"],\n",
				"    \"max_depth\": [50, 90],\n",
				"    \"min_samples_split\": [3, 7],\n",
				"    \"min_samples_leaf\": [3, 7],\n",
				"    \"n_estimators\": [500, 700],\n",
				"    \"max_samples\": [0.9],\n",
				"    \"bootstrap\": [True]\n",
				"}\n",
				"\n",
				"rf_grid_model = GridSearchCV(rf_tmp_model, rf_grid_params, cv=2, scoring=\"f1_macro\", verbose=3)\n",
				"\n",
				"rf_grid_model.fit(X_train, y_train);"
			]
		},
		{
			"cell_type": "code",
			"execution_count": 54,
			"metadata": {},
			"outputs": [
				{
					"data": {
						"text/plain": [
							"{'bootstrap': True,\n",
							" 'criterion': 'gini',\n",
							" 'max_depth': 90,\n",
							" 'max_samples': 0.9,\n",
							" 'min_samples_leaf': 3,\n",
							" 'min_samples_split': 7,\n",
							" 'n_estimators': 500}"
						]
					},
					"execution_count": 54,
					"metadata": {},
					"output_type": "execute_result"
				}
			],
			"source": [
				"rf_grid_model.best_params_"
			]
		},
		{
			"cell_type": "code",
			"execution_count": 52,
			"metadata": {},
			"outputs": [
				{
					"name": "stdout",
					"output_type": "stream",
					"text": [
						"Accuracy-Score:\t0.6603537041989836\t|\tTrain-Accuracy-Score:\t0.7370745134311393\n",
						"F1-Score:\t0.6600805066044999\t|\tTrain-F1-Score:\t\t0.7368931096300901\n",
						"\n",
						"              precision    recall  f1-score   support\n",
						"\n",
						"           0       0.65      0.69      0.67     59699\n",
						"           1       0.67      0.63      0.65     59949\n",
						"\n",
						"    accuracy                           0.66    119648\n",
						"   macro avg       0.66      0.66      0.66    119648\n",
						"weighted avg       0.66      0.66      0.66    119648\n",
						"\n"
					]
				},
				{
					"data": {
						"image/png": "[encoded data removed]",
						"text/plain": [
							"<Figure size 576x432 with 2 Axes>"
						]
					},
					"metadata": {},
					"output_type": "display_data"
				}
			],
			"source": [
				"print_model_classification_report(rf_grid_model.best_estimator_, X_test, y_test)"
			]
		},
		{
			"cell_type": "code",
			"execution_count": 53,
			"metadata": {},
			"outputs": [
				{
					"name": "stdout",
					"output_type": "stream",
					"text": [
						"Rank: 1\tScore: 0.653005944919909\n",
						"Param: {'bootstrap': True, 'criterion': 'gini', 'max_depth': 90, 'max_samples': 0.9, 'min_samples_leaf': 3, 'min_samples_split': 7, 'n_estimators': 500}\n",
						"\n",
						"Rank: 2\tScore: 0.6528541721157683\n",
						"Param: {'bootstrap': True, 'criterion': 'gini', 'max_depth': 90, 'max_samples': 0.9, 'min_samples_leaf': 3, 'min_samples_split': 3, 'n_estimators': 500}\n",
						"\n",
						"Rank: 3\tScore: 0.6528379622311998\n",
						"Param: {'bootstrap': True, 'criterion': 'gini', 'max_depth': 90, 'max_samples': 0.9, 'min_samples_leaf': 3, 'min_samples_split': 7, 'n_estimators': 700}\n",
						"\n",
						"Rank: 4\tScore: 0.6527892544439368\n",
						"Param: {'bootstrap': True, 'criterion': 'gini', 'max_depth': 90, 'max_samples': 0.9, 'min_samples_leaf': 3, 'min_samples_split': 3, 'n_estimators': 700}\n",
						"\n",
						"Rank: 5\tScore: 0.6517343784072159\n",
						"Param: {'bootstrap': True, 'criterion': 'gini', 'max_depth': 50, 'max_samples': 0.9, 'min_samples_leaf': 3, 'min_samples_split': 7, 'n_estimators': 700}\n",
						"\n",
						"Rank: 6\tScore: 0.6516974693214218\n",
						"Param: {'bootstrap': True, 'criterion': 'gini', 'max_depth': 50, 'max_samples': 0.9, 'min_samples_leaf': 3, 'min_samples_split': 7, 'n_estimators': 500}\n",
						"\n",
						"Rank: 7\tScore: 0.6516868406156331\n",
						"Param: {'bootstrap': True, 'criterion': 'gini', 'max_depth': 50, 'max_samples': 0.9, 'min_samples_leaf': 3, 'min_samples_split': 3, 'n_estimators': 700}\n",
						"\n",
						"Rank: 8\tScore: 0.6512784514873943\n",
						"Param: {'bootstrap': True, 'criterion': 'gini', 'max_depth': 50, 'max_samples': 0.9, 'min_samples_leaf': 3, 'min_samples_split': 3, 'n_estimators': 500}\n",
						"\n",
						"Rank: 9\tScore: 0.6469133971561621\n",
						"Param: {'bootstrap': True, 'criterion': 'gini', 'max_depth': 90, 'max_samples': 0.9, 'min_samples_leaf': 7, 'min_samples_split': 3, 'n_estimators': 700}\n",
						"\n",
						"Rank: 10\tScore: 0.646878286637713\n",
						"Param: {'bootstrap': True, 'criterion': 'gini', 'max_depth': 90, 'max_samples': 0.9, 'min_samples_leaf': 7, 'min_samples_split': 7, 'n_estimators': 700}\n",
						"\n"
					]
				}
			],
			"source": [
				"print_top_rankings(rf_grid_model, top=10)"
			]
		},
		{
			"cell_type": "markdown",
			"metadata": {},
			"source": [
				"# Final Model Selection"
			]
		},
		{
			"cell_type": "markdown",
			"metadata": {},
			"source": [
				"## Model Validation"
			]
		},
		{
			"cell_type": "code",
			"execution_count": 55,
			"metadata": {},
			"outputs": [
				{
					"name": "stdout",
					"output_type": "stream",
					"text": [
						"Accuracy-Score:\t0.6606713024872961\t|\tTrain-Accuracy-Score:\t0.6849658162042893\n",
						"F1-Score:\t0.6598430530383959\t|\tTrain-F1-Score:\t\t0.6842757431528375\n",
						"\n",
						"              precision    recall  f1-score   support\n",
						"\n",
						"           0       0.65      0.71      0.68     60023\n",
						"           1       0.68      0.61      0.64     59625\n",
						"\n",
						"    accuracy                           0.66    119648\n",
						"   macro avg       0.66      0.66      0.66    119648\n",
						"weighted avg       0.66      0.66      0.66    119648\n",
						"\n",
						"Accuracy-Score:\t0.6593340465365071\t|\tTrain-Accuracy-Score:\t0.6733845579508667\n",
						"F1-Score:\t0.6585437943728585\t|\tTrain-F1-Score:\t\t0.6727021367344888\n",
						"\n",
						"              precision    recall  f1-score   support\n",
						"\n",
						"           0       0.65      0.71      0.67     60023\n",
						"           1       0.67      0.61      0.64     59625\n",
						"\n",
						"    accuracy                           0.66    119648\n",
						"   macro avg       0.66      0.66      0.66    119648\n",
						"weighted avg       0.66      0.66      0.66    119648\n",
						"\n",
						"Accuracy-Score:\t0.629789047873763\t|\tTrain-Accuracy-Score:\t0.861504087011272\n",
						"F1-Score:\t0.6297140315695425\t|\tTrain-F1-Score:\t\t0.8615037051706597\n",
						"\n",
						"              precision    recall  f1-score   support\n",
						"\n",
						"           0       0.63      0.64      0.63     60023\n",
						"           1       0.63      0.62      0.62     59625\n",
						"\n",
						"    accuracy                           0.63    119648\n",
						"   macro avg       0.63      0.63      0.63    119648\n",
						"weighted avg       0.63      0.63      0.63    119648\n",
						"\n",
						"Accuracy-Score:\t0.6620587055362397\t|\tTrain-Accuracy-Score:\t0.7370745134311393\n",
						"F1-Score:\t0.6617224994320703\t|\tTrain-F1-Score:\t\t0.7368931096300901\n",
						"\n",
						"              precision    recall  f1-score   support\n",
						"\n",
						"           0       0.65      0.69      0.67     60023\n",
						"           1       0.67      0.63      0.65     59625\n",
						"\n",
						"    accuracy                           0.66    119648\n",
						"   macro avg       0.66      0.66      0.66    119648\n",
						"weighted avg       0.66      0.66      0.66    119648\n",
						"\n"
					]
				},
				{
					"data": {
						"image/png": "[encoded data removed]",
						"text/plain": [
							"<Figure size 576x432 with 2 Axes>"
						]
					},
					"metadata": {},
					"output_type": "display_data"
				},
				{
					"data": {
						"image/png": "[encoded data removed]",
						"text/plain": [
							"<Figure size 576x432 with 2 Axes>"
						]
					},
					"metadata": {},
					"output_type": "display_data"
				},
				{
					"data": {
						"image/png": "[encoded data removed]",
						"text/plain": [
							"<Figure size 576x432 with 2 Axes>"
						]
					},
					"metadata": {},
					"output_type": "display_data"
				},
				{
					"data": {
						"image/png": "[encoded data removed]",
						"text/plain": [
							"<Figure size 576x432 with 2 Axes>"
						]
					},
					"metadata": {},
					"output_type": "display_data"
				}
			],
			"source": [
				"print_model_classification_report(xgb_model, X_val, y_val)\n",
				"print_model_classification_report(xgb_grid_model.best_estimator_, X_val, y_val)\n",
				"print_model_classification_report(rf_model, X_val, y_val)\n",
				"print_model_classification_report(rf_grid_model.best_estimator_, X_val, y_val)"
			]
		},
		{
			"cell_type": "markdown",
			"metadata": {},
			"source": [
				"## Model Selection"
			]
		},
		{
			"cell_type": "code",
			"execution_count": 56,
			"metadata": {},
			"outputs": [],
			"source": [
				"final_model = xgb_model\n",
				"# good balance. Not overfitted that much and good accuracy"
			]
		}
	],
	"metadata": {
		"kernelspec": {
			"display_name": "Python 3.10.3 64-bit",
			"language": "python",
			"name": "python3"
		},
		"language_info": {
			"codemirror_mode": {
				"name": "ipython",
				"version": 3
			},
			"file_extension": ".py",
			"mimetype": "text/x-python",
			"name": "python",
			"nbconvert_exporter": "python",
			"pygments_lexer": "ipython3",
			"version": "3.10.3"
		},
		"orig_nbformat": 4,
		"vscode": {
			"interpreter": {
				"hash": "aee8b7b246df8f9039afb4144a1f6fd8d2ca17a180786b69acc140d282b71a49"
			}
		}
	},
	"nbformat": 4,
	"nbformat_minor": 2
}
