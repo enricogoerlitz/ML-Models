{
	"cells": [
		{
			"cell_type": "markdown",
			"metadata": {},
			"source": [
				"# Model Development: Airline Delay\n",
				"<img src=\"../assets/airline-pic.jpg\" alt=\"Title-Pic\">"
			]
		},
		{
			"cell_type": "markdown",
			"metadata": {},
			"source": [
				"# Imports"
			]
		},
		{
			"cell_type": "code",
			"execution_count": 15,
			"metadata": {},
			"outputs": [],
			"source": [
				"import numpy as np\n",
				"import pandas as pd\n",
				"import matplotlib.pyplot as plt\n",
				"import seaborn as sns\n",
				"import pickle\n",
				"import warnings\n",
				"\n",
				"from datetime import datetime\n",
				"from pandas import Series, DataFrame\n",
				"from xgboost import XGBClassifier\n",
				"from sklearn.ensemble import RandomForestClassifier, VotingClassifier\n",
				"from sklearn.model_selection import train_test_split, GridSearchCV\n",
				"from sklearn.metrics import classification_report, confusion_matrix, f1_score, accuracy_score\n",
				"\n",
				"\n",
				"np.set_printoptions(suppress=True)\n",
				"sns.set(rc={\"figure.figsize\": (10, 6), \"axes.titlesize\": 20, \"axes.titleweight\": \"bold\", \"axes.labelsize\": 15})\n",
				"warnings.filterwarnings('ignore')"
			]
		},
		{
			"cell_type": "markdown",
			"metadata": {},
			"source": [
				"# Data"
			]
		},
		{
			"cell_type": "code",
			"execution_count": 2,
			"metadata": {},
			"outputs": [],
			"source": [
				"def export_model(model, model_name):\n",
				"    timestamp_string = str(datetime.now())[:19].replace(\" \", \"\").replace(\":\", \"\").replace(\"-\", \"\")\n",
				"    export_path = f\"../trained_models/{timestamp_string}_{model_name}\"\n",
				"    with open(export_path, \"wb\") as model_file:\n",
				"        pickle.dump(model, model_file)\n",
				"    \n",
				"    return export_path"
			]
		},
		{
			"cell_type": "code",
			"execution_count": 3,
			"metadata": {},
			"outputs": [],
			"source": [
				"def load_model(model_path):\n",
				"    with open(model_path, \"rb\") as model_file:\n",
				"        return pickle.load(model_file)"
			]
		},
		{
			"cell_type": "code",
			"execution_count": 16,
			"metadata": {},
			"outputs": [],
			"source": [
				"def print_top_rankings(grid_model, top=10):\n",
				"    sorted_zipped_report = sorted(\n",
				"        zip(\n",
				"            grid_model.cv_results_[\"params\"], \n",
				"            grid_model.cv_results_[\"mean_test_score\"], \n",
				"            grid_model.cv_results_[\"rank_test_score\"]\n",
				"        ), key=lambda item: item[2]\n",
				"    )\n",
				"    for (i, (params, score, rank)) in enumerate(sorted_zipped_report):\n",
				"        if i >= top:\n",
				"            break\n",
				"\n",
				"        print(f\"Rank: {rank}\\tScore: {score}\\nParam: {params}\\n\")\n",
				"\n",
				"def print_model_classification_report(model, X_data, y_data):\n",
				"    preds_test = model.predict(X_data)\n",
				"    preds_train = model.predict(X_train)\n",
				"\n",
				"    f1_score_test = f1_score(y_data, preds_test, average=\"macro\")\n",
				"    accuracy_score_test = accuracy_score(y_data, preds_test)\n",
				"    f1_score_train = f1_score(y_train, preds_train, average=\"macro\")\n",
				"    accuracy_score_train = accuracy_score(y_train, preds_train)\n",
				"\n",
				"    print(f\"Accuracy-Score:\\t{accuracy_score_test}\\t|\\tTrain-Accuracy-Score:\\t{accuracy_score_train}\")\n",
				"    print(f\"F1-Score:\\t{f1_score_test}\\t|\\tTrain-F1-Score:\\t\\t{f1_score_train}\\n\")\n",
				"    print(classification_report(y_data, preds_test))\n",
				"\n",
				"    plt.figure(figsize=(8, 6))\n",
				"    sns.heatmap(confusion_matrix(y_data, preds_test), annot=True, cmap=\"cool\", fmt='.5g')\n",
				"\n",
				"# def print_feature_importance(model):\n",
				"#     return Series(data=model.feature_importances_, index=DATA_COLUMN_NAMES).sort_values(ascending=False)"
			]
		},
		{
			"cell_type": "code",
			"execution_count": 17,
			"metadata": {},
			"outputs": [
				{
					"data": {
						"text/plain": [
							"(((478590, 613), (59824, 613), (59824, 613)), ((478590,), (59824,), (59824,)))"
						]
					},
					"execution_count": 17,
					"metadata": {},
					"output_type": "execute_result"
				}
			],
			"source": [
				"MODEL_DATA = np.load(\"../model_data/nasa_prep_data.npz\", allow_pickle=True)\n",
				"inputs = MODEL_DATA[\"inputs\"]\n",
				"targets = MODEL_DATA[\"targets\"]\n",
				"\n",
				"X_train, X_tmp_test, y_train, y_tmp_test = train_test_split(inputs, targets, test_size=0.2, random_state=101)\n",
				"X_test, X_val, y_test, y_val = train_test_split(X_tmp_test, y_tmp_test, test_size=0.5, random_state=101)\n",
				"\n",
				"(X_train.shape, X_test.shape, X_val.shape), (y_train.shape, y_test.shape, y_val.shape)"
			]
		},
		{
			"cell_type": "markdown",
			"metadata": {},
			"source": [
				"# Build the Model"
			]
		},
		{
			"cell_type": "markdown",
			"metadata": {},
			"source": [
				"## Model1: Gradient Boosting"
			]
		},
		{
			"cell_type": "code",
			"execution_count": 19,
			"metadata": {},
			"outputs": [
				{
					"name": "stdout",
					"output_type": "stream",
					"text": [
						"Recall-Score:\t0.6559240438619952\t|\tTrain-Accuracy:\t0.665360747194885\n",
						"F1-Score:\t0.6552207109124562\t|\tTrain-F1-Score:\t0.6646010728274905\n",
						"\n",
						"              precision    recall  f1-score   support\n",
						"\n",
						"           0       0.64      0.70      0.67     29781\n",
						"           1       0.67      0.61      0.64     30043\n",
						"\n",
						"    accuracy                           0.66     59824\n",
						"   macro avg       0.66      0.66      0.66     59824\n",
						"weighted avg       0.66      0.66      0.66     59824\n",
						"\n"
					]
				},
				{
					"data": {
						"image/png": "[encoded data removed]",
						"text/plain": [
							"<Figure size 576x432 with 2 Axes>"
						]
					},
					"metadata": {
						"needs_background": "light"
					},
					"output_type": "display_data"
				}
			],
			"source": [
				"xgb_model = XGBClassifier()\n",
				"xgb_model.fit(X_train, y_train)\n",
				"print_model_classification_report(xgb_model, X_test, y_test)"
			]
		},
		{
			"cell_type": "code",
			"execution_count": 12,
			"metadata": {},
			"outputs": [],
			"source": [
				"xgb_tmp_model = XGBClassifier()\n",
				"\n",
				"xgb_grid_params = {\n",
				"    \"eval_metric\": [\"logloss\"],\n",
				"    \"n_estimators\": [700, 900],\n",
				"    \"learning_rate\": [0.01],\n",
				"    \"min_child_weight\": [3, 8],\n",
				"    \"eta\": [0.05],\n",
				"    \"gamma\": [6],\n",
				"    \"subsample\": [0.5, 0.7],\n",
				"    \"max_depth\": [4, 10],\n",
				"    \"colsample_bytree\": [0.5]\n",
				"}\n",
				"\n",
				"xgb_grid_model = GridSearchCV(xgb_tmp_model, xgb_grid_params, cv=2, verbose=3, scoring=\"f1_macro\")\n",
				"\n",
				"xgb_grid_model.fit(X_train, y_train);"
			]
		},
		{
			"cell_type": "code",
			"execution_count": 24,
			"metadata": {},
			"outputs": [
				{
					"ename": "AttributeError",
					"evalue": "'GridSearchCV' object has no attribute 'best_params_'",
					"output_type": "error",
					"traceback": [
						"\u001b[0;31m---------------------------------------------------------------------------\u001b[0m",
						"\u001b[0;31mAttributeError\u001b[0m                            Traceback (most recent call last)",
						"\u001b[1;32m/Users/enricogoerlitz/Desktop/Data-Science/Projects/ML-Models/Machine Learning Projects/01_Kaggle_Data_Projects_And_Competitions/00_Starter_Projects/02_Airline_Deley/notebooks/03_model_dev.ipynb Cell 13\u001b[0m in \u001b[0;36m<cell line: 1>\u001b[0;34m()\u001b[0m\n\u001b[0;32m----> <a href='vscode-notebook-cell:/Users/enricogoerlitz/Desktop/Data-Science/Projects/ML-Models/Machine%20Learning%20Projects/01_Kaggle_Data_Projects_And_Competitions/00_Starter_Projects/02_Airline_Deley/notebooks/03_model_dev.ipynb#ch0000019?line=0'>1</a>\u001b[0m xgb_grid_model\u001b[39m.\u001b[39;49mbest_params_\n",
						"\u001b[0;31mAttributeError\u001b[0m: 'GridSearchCV' object has no attribute 'best_params_'"
					]
				}
			],
			"source": [
				"xgb_grid_model.best_params_"
			]
		},
		{
			"cell_type": "code",
			"execution_count": null,
			"metadata": {},
			"outputs": [],
			"source": [
				"print_model_classification_report(xgb_grid_model.best_estimator_, X_test, y_test)"
			]
		},
		{
			"cell_type": "code",
			"execution_count": 53,
			"metadata": {},
			"outputs": [
				{
					"name": "stdout",
					"output_type": "stream",
					"text": [
						"Rank: 1\tScore: 0.6525021417079337\n",
						"Param: {'colsample_bytree': 0.5, 'eta': 0.05, 'eval_metric': 'logloss', 'gamma': 6, 'learning_rate': 0.01, 'max_depth': 10, 'min_child_weight': 5, 'n_estimators': 900, 'subsample': 0.5}\n",
						"\n"
					]
				}
			],
			"source": [
				"print_top_rankings(xgb_grid_model, top=10)"
			]
		},
		{
			"cell_type": "markdown",
			"metadata": {},
			"source": [
				"## Model2: RandomForest"
			]
		},
		{
			"cell_type": "code",
			"execution_count": 23,
			"metadata": {},
			"outputs": [
				{
					"name": "stdout",
					"output_type": "stream",
					"text": [
						"Recall-Score:\t0.6339596148702862\t|\tTrain-Accuracy:\t0.8362188929981822\n",
						"F1-Score:\t0.6338789471583962\t|\tTrain-F1-Score:\t0.8362142723818695\n",
						"\n",
						"              precision    recall  f1-score   support\n",
						"\n",
						"           0       0.63      0.65      0.64     29781\n",
						"           1       0.64      0.62      0.63     30043\n",
						"\n",
						"    accuracy                           0.63     59824\n",
						"   macro avg       0.63      0.63      0.63     59824\n",
						"weighted avg       0.63      0.63      0.63     59824\n",
						"\n"
					]
				},
				{
					"data": {
						"image/png": "[encoded data removed]",
						"text/plain": [
							"<Figure size 576x432 with 2 Axes>"
						]
					},
					"metadata": {
						"needs_background": "light"
					},
					"output_type": "display_data"
				}
			],
			"source": [
				"rf_model = RandomForestClassifier()\n",
				"rf_model.fit(X_train, y_train)\n",
				"print_model_classification_report(rf_model, X_test, y_test)"
			]
		},
		{
			"cell_type": "code",
			"execution_count": 10,
			"metadata": {},
			"outputs": [],
			"source": [
				"rf_tmp_model = RandomForestClassifier()\n",
				"\n",
				"rf_grid_params = {\n",
				"    \"criterion\": [\"gini\", \"entropy\"],\n",
				"    \"max_depth\": [50, 90, 150],\n",
				"    \"min_samples_split\": [3, 7],\n",
				"    \"min_samples_leaf\": [3, 7],\n",
				"    \"n_estimators\": [500, 700],\n",
				"    \"max_samples\": [0.9],\n",
				"    \"bootstrap\": [True]\n",
				"}\n",
				"\n",
				"rf_grid_model = GridSearchCV(rf_tmp_model, rf_grid_params, cv=2, scoring=\"f1_macro\", verbose=3)\n",
				"\n",
				"rf_grid_model.fit(X_train, y_train);"
			]
		},
		{
			"cell_type": "code",
			"execution_count": null,
			"metadata": {},
			"outputs": [
				{
					"data": {
						"text/plain": [
							"{'C': 7, 'coef0': 1, 'degree': 8, 'gamma': 'auto', 'kernel': 'poly'}"
						]
					},
					"execution_count": 17,
					"metadata": {},
					"output_type": "execute_result"
				}
			],
			"source": [
				"xgb_grid_model.best_params_"
			]
		},
		{
			"cell_type": "code",
			"execution_count": 12,
			"metadata": {},
			"outputs": [
				{
					"name": "stdout",
					"output_type": "stream",
					"text": [
						"Fitting 2 folds for each of 1 candidates, totalling 2 fits\n"
					]
				}
			],
			"source": [
				"print_model_classification_report(xgb_grid_model.best_estimator_, X_test, y_test)"
			]
		},
		{
			"cell_type": "code",
			"execution_count": null,
			"metadata": {},
			"outputs": [],
			"source": [
				"print_top_rankings(xgb_grid_model.best_estimator_, top=10)"
			]
		},
		{
			"cell_type": "markdown",
			"metadata": {},
			"source": [
				"# Final Model Selection"
			]
		},
		{
			"cell_type": "markdown",
			"metadata": {},
			"source": [
				"## Model Validation"
			]
		},
		{
			"cell_type": "code",
			"execution_count": null,
			"metadata": {},
			"outputs": [],
			"source": []
		},
		{
			"cell_type": "markdown",
			"metadata": {},
			"source": [
				"## Model Selection"
			]
		},
		{
			"cell_type": "code",
			"execution_count": null,
			"metadata": {},
			"outputs": [],
			"source": []
		}
	],
	"metadata": {
		"kernelspec": {
			"display_name": "Python 3.10.3 64-bit",
			"language": "python",
			"name": "python3"
		},
		"language_info": {
			"codemirror_mode": {
				"name": "ipython",
				"version": 3
			},
			"file_extension": ".py",
			"mimetype": "text/x-python",
			"name": "python",
			"nbconvert_exporter": "python",
			"pygments_lexer": "ipython3",
			"version": "3.10.3"
		},
		"orig_nbformat": 4,
		"vscode": {
			"interpreter": {
				"hash": "aee8b7b246df8f9039afb4144a1f6fd8d2ca17a180786b69acc140d282b71a49"
			}
		}
	},
	"nbformat": 4,
	"nbformat_minor": 2
}
