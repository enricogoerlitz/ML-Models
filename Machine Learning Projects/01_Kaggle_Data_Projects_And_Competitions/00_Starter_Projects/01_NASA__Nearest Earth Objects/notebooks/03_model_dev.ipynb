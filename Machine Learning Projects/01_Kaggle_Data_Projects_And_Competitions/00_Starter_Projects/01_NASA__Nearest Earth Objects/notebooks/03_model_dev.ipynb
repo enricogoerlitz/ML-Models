{
 "cells": [
  {
   "cell_type": "markdown",
   "metadata": {},
   "source": [
    "# Model Development: NASA - Nearest Earth Objects\n",
    "<img src=\"../assets/nasa.jpg\" alt=\"Title-Pic\">"
   ]
  },
  {
   "cell_type": "markdown",
   "metadata": {},
   "source": [
    "# Imports"
   ]
  },
  {
   "cell_type": "code",
   "execution_count": 1,
   "metadata": {},
   "outputs": [],
   "source": [
    "import numpy as np\n",
    "import pandas as pd\n",
    "import matplotlib.pyplot as plt\n",
    "import seaborn as sns\n",
    "import warnings\n",
    "\n",
    "from pandas import Series, DataFrame\n",
    "from xgboost import XGBClassifier\n",
    "from sklearn.ensemble import VotingClassifier, RandomForestClassifier\n",
    "from sklearn.neighbors import KNeighborsClassifier\n",
    "from sklearn.svm import SVC\n",
    "from sklearn.preprocessing import StandardScaler\n",
    "from sklearn.model_selection import train_test_split, GridSearchCV\n",
    "from sklearn.metrics import classification_report, confusion_matrix, recall_score, f1_score\n",
    "\n",
    "\n",
    "np.set_printoptions(suppress=True)\n",
    "sns.set(rc={\"figure.figsize\": (12, 7), \"axes.titlesize\": 20, \"axes.titleweight\": \"bold\", \"axes.labelsize\": 15})\n",
    "warnings.filterwarnings('ignore')"
   ]
  },
  {
   "cell_type": "markdown",
   "metadata": {},
   "source": [
    "# Data"
   ]
  },
  {
   "cell_type": "code",
   "execution_count": 2,
   "metadata": {},
   "outputs": [
    {
     "data": {
      "text/plain": [
       "(((40400, 4), (5050, 4), (5050, 4)), ((40400,), (5050, 1), (5050, 1)))"
      ]
     },
     "execution_count": 2,
     "metadata": {},
     "output_type": "execute_result"
    }
   ],
   "source": [
    "MODEL_DATA = np.load(\"../model_data/nasa_prep_data.npz\", allow_pickle=True)\n",
    "inputs = MODEL_DATA[\"inputs\"]\n",
    "targets = MODEL_DATA[\"targets\"]\n",
    "DATA_COLUMN_NAMES = MODEL_DATA[\"input_column_names\"]\n",
    "\n",
    "X_train, X_tmp_test, y_train, y_tmp_test = train_test_split(inputs, targets, test_size=0.2, random_state=101)\n",
    "X_test, X_val, y_test, y_val = train_test_split(X_tmp_test, y_tmp_test, test_size=0.5, random_state=101)\n",
    "\n",
    "y_train = y_train.reshape(-1)\n",
    "\n",
    "(X_train.shape, X_test.shape, X_val.shape), (y_train.shape, y_test.shape, y_val.shape)"
   ]
  },
  {
   "cell_type": "markdown",
   "metadata": {},
   "source": [
    "# Build the Model"
   ]
  },
  {
   "cell_type": "markdown",
   "metadata": {},
   "source": [
    "## Helper Functions"
   ]
  },
  {
   "cell_type": "code",
   "execution_count": null,
   "metadata": {},
   "outputs": [],
   "source": [
    "def export_model(model, model_name):\n",
    "    timestamp_string = str(datetime.now())[:19].replace(\" \", \"\").replace(\":\", \"\").replace(\"-\", \"\")\n",
    "    export_path = f\"../trained_models/{timestamp_string}_{model_name}\"\n",
    "    with open(export_path, \"wb\") as model_file:\n",
    "        pickle.dump(model, model_file)\n",
    "    \n",
    "    return export_path\n",
    "\n",
    "def load_model(model_path):\n",
    "    with open(model_path, \"rb\") as model_file:\n",
    "        return pickle.load(model_file)"
   ]
  },
  {
   "cell_type": "code",
   "execution_count": 3,
   "metadata": {},
   "outputs": [],
   "source": [
    "def print_top_rankings(model, top=10):\n",
    "    sorted_zipped_report = sorted(\n",
    "        zip(\n",
    "            model.cv_results_[\"params\"], \n",
    "            model.cv_results_[\"mean_test_score\"], \n",
    "            model.cv_results_[\"rank_test_score\"]\n",
    "        ), key=lambda item: item[2]\n",
    "    )\n",
    "    for (i, (params, score, rank)) in enumerate(sorted_zipped_report):\n",
    "        if i >= top:\n",
    "            break\n",
    "\n",
    "        print(f\"Rank: {rank}\\tScore: {score}\\nParam: {params}\\n\")\n",
    "\n",
    "def print_model_classification_report(model, X_data, y_data):\n",
    "    preds_test = model.predict(X_data)\n",
    "    preds_train = model.predict(X_train)\n",
    "\n",
    "    f1_score_test = f1_score(y_data, preds_test, average=\"macro\")\n",
    "    recall_score_test = recall_score(y_data, preds_test)\n",
    "    f1_score_train = f1_score(y_train, preds_train, average=\"macro\")\n",
    "    recall_score_train = recall_score(y_train, preds_train)\n",
    "\n",
    "    print(f\"Recall-Score:\\t{f1_score_test}\\t|\\tTrain-Accuracy:\\t{recall_score_train}\")\n",
    "    print(f\"F1-Score:\\t{recall_score_test}\\t|\\tTrain-F1-Score:\\t{f1_score_train}\\n\")\n",
    "    print(classification_report(y_data, preds_test))\n",
    "\n",
    "    plt.figure(figsize=(8, 6))\n",
    "    sns.heatmap(confusion_matrix(y_data, preds_test), annot=True, cmap=\"cool\", fmt='.5g')\n",
    "\n",
    "def print_feature_importance(model):\n",
    "    return Series(data=model.feature_importances_, index=DATA_COLUMN_NAMES).sort_values(ascending=False)"
   ]
  },
  {
   "cell_type": "markdown",
   "metadata": {},
   "source": [
    "## Model1: KNN Model"
   ]
  },
  {
   "cell_type": "code",
   "execution_count": 4,
   "metadata": {},
   "outputs": [],
   "source": [
    "knn_tmp_model = KNeighborsClassifier()\n",
    "\n",
    "knn_grid_params = {\n",
    "    \"n_neighbors\": np.arange(8, 12, 2),\n",
    "    \"metric\": [\"manhattan\", \"euclidean\"],\n",
    "    \"weights\": [\"uniform\", \"distance\"]\n",
    "}\n",
    "\n",
    "knn_grid_model = GridSearchCV(knn_tmp_model, knn_grid_params, cv=5, scoring=\"recall\", verbose=3)\n",
    "\n",
    "knn_grid_model.fit(X_train, y_train);"
   ]
  },
  {
   "cell_type": "code",
   "execution_count": 7,
   "metadata": {},
   "outputs": [
    {
     "data": {
      "text/plain": [
       "{'metric': 'euclidean', 'n_neighbors': 10, 'weights': 'distance'}"
      ]
     },
     "execution_count": 7,
     "metadata": {},
     "output_type": "execute_result"
    }
   ],
   "source": [
    "knn_grid_model.best_params_"
   ]
  },
  {
   "cell_type": "code",
   "execution_count": null,
   "metadata": {},
   "outputs": [],
   "source": [
    "print_model_classification_report(knn_grid_model.best_estimator_, X_test, y_test)"
   ]
  },
  {
   "cell_type": "code",
   "execution_count": null,
   "metadata": {},
   "outputs": [],
   "source": [
    "print_top_rankings(knn_grid_model.best_estimator_, 5)"
   ]
  },
  {
   "cell_type": "code",
   "execution_count": 8,
   "metadata": {},
   "outputs": [],
   "source": [
    "knn_best_model = knn_grid_model.best_estimator_"
   ]
  },
  {
   "cell_type": "code",
   "execution_count": 9,
   "metadata": {},
   "outputs": [
    {
     "data": {
      "text/plain": [
       "<AxesSubplot:>"
      ]
     },
     "execution_count": 9,
     "metadata": {},
     "output_type": "execute_result"
    },
    {
     "data": {
      "image/png": "[encoded data removed]",
      "text/plain": [
       "<Figure size 432x288 with 2 Axes>"
      ]
     },
     "metadata": {
      "needs_background": "light"
     },
     "output_type": "display_data"
    }
   ],
   "source": [
    "knn_preds = knn_best_model.predict(X_test)\n",
    "sns.heatmap(confusion_matrix(y_test, knn_preds), annot=True, cmap=\"cool\");"
   ]
  },
  {
   "cell_type": "markdown",
   "metadata": {},
   "source": [
    "## Model2: RandomForest Model"
   ]
  },
  {
   "cell_type": "code",
   "execution_count": 13,
   "metadata": {},
   "outputs": [],
   "source": [
    "rf_tmp_model = RandomForestClassifier()\n",
    "\n",
    "rf_grid_params = {\n",
    "    \"criterion\": [\"gini\"],\n",
    "    \"max_depth\": [90],\n",
    "    \"min_samples_split\": [7],\n",
    "    \"min_samples_leaf\": [6],\n",
    "    \"n_estimators\": [700],\n",
    "    \"max_samples\": [0.9],\n",
    "    \"bootstrap\": [True]\n",
    "}\n",
    "\n",
    "rf_grid_model = GridSearchCV(rf_tmp_model, rf_grid_params, cv=5, scoring=\"recall\", verbose=3)\n",
    "\n",
    "rf_grid_model.fit(X_train, y_train);"
   ]
  },
  {
   "cell_type": "code",
   "execution_count": 16,
   "metadata": {},
   "outputs": [
    {
     "data": {
      "text/plain": [
       "{'bootstrap': True,\n",
       " 'criterion': 'gini',\n",
       " 'max_depth': 90,\n",
       " 'max_samples': 0.9,\n",
       " 'min_samples_leaf': 6,\n",
       " 'min_samples_split': 7,\n",
       " 'n_estimators': 700}"
      ]
     },
     "execution_count": 16,
     "metadata": {},
     "output_type": "execute_result"
    }
   ],
   "source": [
    "rf_grid_model.best_params_"
   ]
  },
  {
   "cell_type": "code",
   "execution_count": null,
   "metadata": {},
   "outputs": [],
   "source": [
    "print_model_classification_report(rf_grid_model.best_estimator_, X_test, y_test)"
   ]
  },
  {
   "cell_type": "code",
   "execution_count": null,
   "metadata": {},
   "outputs": [],
   "source": [
    "print_top_rankings(rf_grid_model.best_estimator_, 10)"
   ]
  },
  {
   "cell_type": "code",
   "execution_count": 17,
   "metadata": {},
   "outputs": [],
   "source": [
    "rf_best_model = rf_grid_model.best_estimator_"
   ]
  },
  {
   "cell_type": "markdown",
   "metadata": {},
   "source": [
    "## Model3: SVM Model"
   ]
  },
  {
   "cell_type": "code",
   "execution_count": 22,
   "metadata": {},
   "outputs": [],
   "source": [
    "svm_tmp_model = SVC()\n",
    "\n",
    "svm_grid_params = {\n",
    "    \"C\": [7],\n",
    "    \"gamma\": [\"auto\"],\n",
    "    \"kernel\": [\"rbf\"],\n",
    "    \"degree\": [1.5],\n",
    "    \"coef0\": [0.8]\n",
    "}\n",
    "\n",
    "svm_grid_model = GridSearchCV(svm_tmp_model, svm_grid_params, cv=5, scoring=\"recall\", verbose=3)\n",
    "\n",
    "svm_grid_model.fit(X_train, y_train);"
   ]
  },
  {
   "cell_type": "code",
   "execution_count": 25,
   "metadata": {},
   "outputs": [
    {
     "data": {
      "text/plain": [
       "{'C': 7, 'coef0': 0.8, 'degree': 1.5, 'gamma': 'auto', 'kernel': 'rbf'}"
      ]
     },
     "execution_count": 25,
     "metadata": {},
     "output_type": "execute_result"
    }
   ],
   "source": [
    "svm_grid_model.best_params_"
   ]
  },
  {
   "cell_type": "code",
   "execution_count": null,
   "metadata": {},
   "outputs": [],
   "source": [
    "print_model_classification_report(svm_grid_model.best_estimator_, X_test, y_test)"
   ]
  },
  {
   "cell_type": "code",
   "execution_count": null,
   "metadata": {},
   "outputs": [],
   "source": [
    "print_top_rankings(svm_grid_model.best_estimator_, 10)"
   ]
  },
  {
   "cell_type": "code",
   "execution_count": 26,
   "metadata": {},
   "outputs": [],
   "source": [
    "svm_best_model = svm_grid_model.best_estimator_"
   ]
  },
  {
   "cell_type": "markdown",
   "metadata": {},
   "source": [
    "## Model4: GradientBoost Model"
   ]
  },
  {
   "cell_type": "code",
   "execution_count": 31,
   "metadata": {},
   "outputs": [],
   "source": [
    "xgb_tmp_model = XGBClassifier(nthread=-1,)\n",
    "\n",
    "xgb_grid_params = {\n",
    "    \"eval_metric\": [\"logloss\"],\n",
    "    \"learning_rate\": [0.005],\n",
    "    \"min_child_weight\": [7],\n",
    "    \"n_estimators\": [700],\n",
    "    \"eta\": [0.05],\n",
    "    \"gamma\": [4],\n",
    "    \"subsample\": [0.55],\n",
    "    \"max_depth\": [10],\n",
    "    \"colsample_bytree\": [0.65]\n",
    "}\n",
    "\n",
    "xgb_grid_model = GridSearchCV(xgb_tmp_model, xgb_grid_params, cv=5, scoring=\"recall\", verbose=3)\n",
    "\n",
    "xgb_grid_model.fit(X_train, y_train);"
   ]
  },
  {
   "cell_type": "code",
   "execution_count": 34,
   "metadata": {},
   "outputs": [
    {
     "data": {
      "text/plain": [
       "{'colsample_bytree': 0.65,\n",
       " 'eta': 0.05,\n",
       " 'eval_metric': 'logloss',\n",
       " 'gamma': 4,\n",
       " 'learning_rate': 0.005,\n",
       " 'max_depth': 10,\n",
       " 'min_child_weight': 7,\n",
       " 'n_estimators': 700,\n",
       " 'subsample': 0.55}"
      ]
     },
     "execution_count": 34,
     "metadata": {},
     "output_type": "execute_result"
    }
   ],
   "source": [
    "xgb_grid_model.best_params_"
   ]
  },
  {
   "cell_type": "code",
   "execution_count": null,
   "metadata": {},
   "outputs": [],
   "source": [
    "print_model_classification_report(xgb_grid_model.best_estimator_, X_test, y_test)"
   ]
  },
  {
   "cell_type": "code",
   "execution_count": null,
   "metadata": {},
   "outputs": [],
   "source": [
    "print_top_rankings(xgb_grid_model.best_estimator_, 10)"
   ]
  },
  {
   "cell_type": "code",
   "execution_count": 35,
   "metadata": {},
   "outputs": [],
   "source": [
    "xgb_best_model = xgb_grid_model.best_estimator_"
   ]
  },
  {
   "cell_type": "markdown",
   "metadata": {},
   "source": [
    "## Model5-7: Ensemble Model"
   ]
  },
  {
   "cell_type": "markdown",
   "metadata": {},
   "source": [
    "#### Best Recall-Ensemble-Model"
   ]
  },
  {
   "cell_type": "code",
   "execution_count": 40,
   "metadata": {},
   "outputs": [
    {
     "data": {
      "text/plain": [
       "KNN             0.991857\n",
       "SVM             0.988599\n",
       "XGBoost         0.987378\n",
       "RandomForest    0.978013\n",
       "dtype: float64"
      ]
     },
     "execution_count": 40,
     "metadata": {},
     "output_type": "execute_result"
    }
   ],
   "source": [
    "recall_models = Series(\n",
    "    data=[\n",
    "        recall_score(y_test, knn_best_model.predict(X_test)),\n",
    "        recall_score(y_test, rf_best_model.predict(X_test)),\n",
    "        recall_score(y_test, svm_best_model.predict(X_test)),\n",
    "        recall_score(y_test, xgb_best_model.predict(X_test)),\n",
    "    ],\n",
    "    index=[\"KNN\", \"RandomForest\", \"SVM\", \"XGBoost\"]\n",
    ")\n",
    "\n",
    "recall_models.sort_values(ascending=False)"
   ]
  },
  {
   "cell_type": "code",
   "execution_count": 41,
   "metadata": {},
   "outputs": [],
   "source": [
    "knn_model_tuple = (\"knn_best_model\", knn_best_model)\n",
    "xgb_model_tuple = (\"xgb_best_model\", xgb_best_model)\n",
    "svm_model_tuple = (\"svm_best_model\", svm_best_model)\n",
    "rf_model_tuple = (\"rf_best_model\", rf_best_model)\n",
    "\n",
    "model_combo_1 = [knn_model_tuple, xgb_model_tuple, svm_model_tuple]\n",
    "model_combo_2 = [knn_model_tuple, xgb_model_tuple, svm_model_tuple, rf_model_tuple]\n",
    "model_combo_3 = [knn_model_tuple, xgb_model_tuple, rf_model_tuple]\n",
    "\n",
    "ensemble_recall_model_1 = VotingClassifier(estimators=model_combo_1)\n",
    "ensemble_recall_model_2 = VotingClassifier(estimators=model_combo_2)\n",
    "test_best_model = VotingClassifier(estimators=model_combo_3)\n",
    "\n",
    "ensemble_recall_model_1.fit(X_train, y_train)\n",
    "ensemble_recall_model_2.fit(X_train, y_train)\n",
    "test_best_model.fit(X_train, y_train);"
   ]
  },
  {
   "cell_type": "code",
   "execution_count": null,
   "metadata": {},
   "outputs": [],
   "source": [
    "print_model_classification_report(ensemble_recall_model_1, X_test, y_test)\n",
    "print_model_classification_report(ensemble_recall_model_2, X_test, y_test)\n",
    "print_model_classification_report(test_best_model, X_test, y_test)"
   ]
  },
  {
   "cell_type": "code",
   "execution_count": 48,
   "metadata": {},
   "outputs": [],
   "source": [
    "ensemble_best_recall_model = ensemble_recall_model_1"
   ]
  },
  {
   "cell_type": "code",
   "execution_count": 49,
   "metadata": {},
   "outputs": [
    {
     "data": {
      "text/plain": [
       "Ensemble_KNN_XGB_SVM    0.994707\n",
       "KNN                     0.991857\n",
       "Ensemble_KNN_XGB_RF     0.989821\n",
       "SVM                     0.988599\n",
       "XGBoost                 0.987378\n",
       "RandomForest            0.978013\n",
       "dtype: float64"
      ]
     },
     "execution_count": 49,
     "metadata": {},
     "output_type": "execute_result"
    }
   ],
   "source": [
    "recall_models = Series(\n",
    "    data=[\n",
    "        recall_score(y_test, knn_best_model.predict(X_test)),\n",
    "        recall_score(y_test, rf_best_model.predict(X_test)),\n",
    "        recall_score(y_test, svm_best_model.predict(X_test)),\n",
    "        recall_score(y_test, xgb_best_model.predict(X_test)),\n",
    "        recall_score(y_test, ensemble_best_recall_model.predict(X_test)),\n",
    "        recall_score(y_test, test_best_model.predict(X_test)),\n",
    "    ],\n",
    "    index=[\"KNN\", \"RandomForest\", \"SVM\", \"XGBoost\", \"Ensemble_KNN_XGB_SVM\", \"Ensemble_KNN_XGB_RF\"]\n",
    ")\n",
    "\n",
    "recall_models.sort_values(ascending=False)"
   ]
  },
  {
   "cell_type": "code",
   "execution_count": 50,
   "metadata": {},
   "outputs": [],
   "source": [
    "best_recall_model = ensemble_best_recall_model"
   ]
  },
  {
   "cell_type": "markdown",
   "metadata": {},
   "source": [
    "#### Best Accuracy-Ensemble-Model"
   ]
  },
  {
   "cell_type": "code",
   "execution_count": 51,
   "metadata": {},
   "outputs": [
    {
     "data": {
      "text/plain": [
       "RandomForest           0.925626\n",
       "KNN                    0.920983\n",
       "Ensemble_KNN_XGB_RF    0.916494\n",
       "XGBoost                0.894999\n",
       "SVM                    0.884678\n",
       "dtype: float64"
      ]
     },
     "execution_count": 51,
     "metadata": {},
     "output_type": "execute_result"
    }
   ],
   "source": [
    "accuracy_models = Series(\n",
    "    data=[\n",
    "        f1_score(y_test, knn_best_model.predict(X_test)),\n",
    "        f1_score(y_test, rf_best_model.predict(X_test)),\n",
    "        f1_score(y_test, svm_best_model.predict(X_test)),\n",
    "        f1_score(y_test, xgb_best_model.predict(X_test)),\n",
    "        f1_score(y_test, test_best_model.predict(X_test)),\n",
    "    ],\n",
    "    index=[\"KNN\", \"RandomForest\", \"SVM\", \"XGBoost\", \"Ensemble_KNN_XGB_RF\"]\n",
    ")\n",
    "\n",
    "accuracy_models.sort_values(ascending=False)"
   ]
  },
  {
   "cell_type": "code",
   "execution_count": 52,
   "metadata": {},
   "outputs": [],
   "source": [
    "knn_model_tuple = (\"knn_best_model\", knn_best_model)\n",
    "xgb_model_tuple = (\"xgb_best_model\", xgb_best_model)\n",
    "svm_model_tuple = (\"svm_best_model\", svm_best_model)\n",
    "rf_model_tuple = (\"rf_best_model\", rf_best_model)\n",
    "\n",
    "model_combo_1 = [rf_model_tuple, knn_model_tuple, xgb_model_tuple]\n",
    "model_combo_2 = [rf_model_tuple, knn_model_tuple, xgb_model_tuple, svm_model_tuple]\n",
    "\n",
    "ensemble_accuracy_model_1 = VotingClassifier(estimators=model_combo_1)\n",
    "ensemble_accuracy_model_2 = VotingClassifier(estimators=model_combo_2)\n",
    "\n",
    "ensemble_accuracy_model_1.fit(X_train, y_train)\n",
    "ensemble_accuracy_model_2.fit(X_train, y_train);"
   ]
  },
  {
   "cell_type": "code",
   "execution_count": null,
   "metadata": {},
   "outputs": [],
   "source": [
    "print_model_classification_report(ensemble_accuracy_model_1, X_test, y_test)\n",
    "print_model_classification_report(ensemble_accuracy_model_2, X_test, y_test)"
   ]
  },
  {
   "cell_type": "code",
   "execution_count": 57,
   "metadata": {},
   "outputs": [],
   "source": [
    "ensemble_best_accuracy_model = ensemble_accuracy_model_2"
   ]
  },
  {
   "cell_type": "code",
   "execution_count": 58,
   "metadata": {},
   "outputs": [
    {
     "data": {
      "text/plain": [
       "RandomForest               0.925626\n",
       "KNN                        0.920983\n",
       "Ensemble_RF_KNN_XGB_SVM    0.916856\n",
       "Ensemble_KNN_XGB_RF        0.916494\n",
       "XGBoost                    0.894999\n",
       "SVM                        0.884678\n",
       "dtype: float64"
      ]
     },
     "execution_count": 58,
     "metadata": {},
     "output_type": "execute_result"
    }
   ],
   "source": [
    "accuracy_models = Series(\n",
    "    data=[\n",
    "        f1_score(y_test, knn_best_model.predict(X_test)),\n",
    "        f1_score(y_test, rf_best_model.predict(X_test)),\n",
    "        f1_score(y_test, svm_best_model.predict(X_test)),\n",
    "        f1_score(y_test, xgb_best_model.predict(X_test)),\n",
    "        f1_score(y_test, ensemble_best_accuracy_model.predict(X_test)),\n",
    "        f1_score(y_test, test_best_model.predict(X_test)),\n",
    "    ],\n",
    "    index=[\"KNN\", \"RandomForest\", \"SVM\", \"XGBoost\", \"Ensemble_RF_KNN_XGB_SVM\", \"Ensemble_KNN_XGB_RF\"]\n",
    ")\n",
    "\n",
    "accuracy_models.sort_values(ascending=False)"
   ]
  },
  {
   "cell_type": "code",
   "execution_count": 59,
   "metadata": {},
   "outputs": [],
   "source": [
    "best_accuracy_model = rf_best_model"
   ]
  },
  {
   "cell_type": "markdown",
   "metadata": {},
   "source": [
    "# Final Model Selection"
   ]
  },
  {
   "cell_type": "markdown",
   "metadata": {},
   "source": [
    "## Validate Models"
   ]
  },
  {
   "cell_type": "code",
   "execution_count": 60,
   "metadata": {},
   "outputs": [
    {
     "data": {
      "text/plain": [
       "Best_Recall_Model      0.996891\n",
       "KNN                    0.994559\n",
       "Ensemble_KNN_XGB_RF    0.994170\n",
       "XGBoost                0.992616\n",
       "SVM                    0.991450\n",
       "RandomForest           0.980956\n",
       "dtype: float64"
      ]
     },
     "execution_count": 60,
     "metadata": {},
     "output_type": "execute_result"
    }
   ],
   "source": [
    "recall_models = Series(\n",
    "    data=[\n",
    "        recall_score(y_val, knn_best_model.predict(X_val)),\n",
    "        recall_score(y_val, rf_best_model.predict(X_val)),\n",
    "        recall_score(y_val, svm_best_model.predict(X_val)),\n",
    "        recall_score(y_val, xgb_best_model.predict(X_val)),\n",
    "        recall_score(y_val, best_recall_model.predict(X_val)),\n",
    "        recall_score(y_val, test_best_model.predict(X_val)),\n",
    "    ],\n",
    "    index=[\"KNN\", \"RandomForest\", \"SVM\", \"XGBoost\", \"Best_Recall_Model\", \"Ensemble_KNN_XGB_RF\"]\n",
    ")\n",
    "\n",
    "recall_models.sort_values(ascending=False)"
   ]
  },
  {
   "cell_type": "code",
   "execution_count": 61,
   "metadata": {},
   "outputs": [
    {
     "data": {
      "text/plain": [
       "RandomForest           0.933605\n",
       "KNN                    0.931731\n",
       "Ensemble_KNN_XGB_RF    0.930182\n",
       "XGBoost                0.914265\n",
       "Best_Recall_Model      0.912487\n",
       "SVM                    0.901413\n",
       "dtype: float64"
      ]
     },
     "execution_count": 61,
     "metadata": {},
     "output_type": "execute_result"
    }
   ],
   "source": [
    "accuracy_models = Series(\n",
    "    data=[\n",
    "        f1_score(y_val, knn_best_model.predict(X_val)),\n",
    "        f1_score(y_val, rf_best_model.predict(X_val)),\n",
    "        f1_score(y_val, svm_best_model.predict(X_val)),\n",
    "        f1_score(y_val, xgb_best_model.predict(X_val)),\n",
    "        f1_score(y_val, best_recall_model.predict(X_val)),\n",
    "        f1_score(y_val, test_best_model.predict(X_val)),\n",
    "    ],\n",
    "    index=[\"KNN\", \"RandomForest\", \"SVM\", \"XGBoost\", \"Best_Recall_Model\", \"Ensemble_KNN_XGB_RF\"]\n",
    ")\n",
    "\n",
    "accuracy_models.sort_values(ascending=False)"
   ]
  },
  {
   "cell_type": "code",
   "execution_count": null,
   "metadata": {},
   "outputs": [],
   "source": [
    "print_model_classification_report(test_best_model, X_val, y_val)\n",
    "print_model_classification_report(best_recall_model, X_val, y_val)\n",
    "print_model_classification_report(knn_best_model, X_val, y_val)\n",
    "print_model_classification_report(rf_best_model, X_val, y_val)"
   ]
  },
  {
   "cell_type": "markdown",
   "metadata": {},
   "source": [
    "## Select Model"
   ]
  },
  {
   "cell_type": "code",
   "execution_count": 63,
   "metadata": {},
   "outputs": [
    {
     "name": "stdout",
     "output_type": "stream",
     "text": [
      "REPORT:               precision    recall  f1-score   support\n",
      "\n",
      "           0       0.99      0.85      0.92      2477\n",
      "           1       0.88      0.99      0.93      2573\n",
      "\n",
      "    accuracy                           0.93      5050\n",
      "   macro avg       0.93      0.92      0.93      5050\n",
      "weighted avg       0.93      0.93      0.93      5050\n",
      "\n",
      "RECALL_SCORE:\t 99.456%\n",
      "F1_SCORE:\t 93.173%\n"
     ]
    }
   ],
   "source": [
    "CHOSEN_BEST_MODEL = knn_best_model\n",
    "MODEL_PREDICTIONS = CHOSEN_BEST_MODEL.predict(X_val)\n",
    "MODEL_REPORT = classification_report(y_val, MODEL_PREDICTIONS)\n",
    "RECALL_SCORE = f\"{np.round(recall_score(y_val, MODEL_PREDICTIONS) * 100, 3)}%\"\n",
    "F1_SCORE = f\"{np.round(f1_score(y_val, MODEL_PREDICTIONS) * 100, 3)}%\"\n",
    "\n",
    "print(\"REPORT:\", MODEL_REPORT)\n",
    "print(\"RECALL_SCORE:\\t\", RECALL_SCORE)\n",
    "print(\"F1_SCORE:\\t\", F1_SCORE)"
   ]
  },
  {
   "cell_type": "markdown",
   "metadata": {},
   "source": [
    "# Export the Model"
   ]
  },
  {
   "cell_type": "markdown",
   "metadata": {},
   "source": [
    "## Export"
   ]
  },
  {
   "cell_type": "code",
   "execution_count": 69,
   "metadata": {},
   "outputs": [],
   "source": [
    "# import pickle\n",
    "# from datetime import datetime\n",
    "# timestamp_string = str(datetime.now())[:19].replace(\" \", \"\").replace(\":\", \"\").replace(\"-\", \"\")\n",
    "\n",
    "# with open(f\"../trained_models/{timestamp_string}_knn_best_model\", \"wb\") as model_file:\n",
    "#     pickle.dump(CHOSEN_BEST_MODEL, model_file)"
   ]
  },
  {
   "cell_type": "markdown",
   "metadata": {},
   "source": [
    "## Test Import"
   ]
  },
  {
   "cell_type": "code",
   "execution_count": 70,
   "metadata": {},
   "outputs": [
    {
     "data": {
      "text/html": [
       "<style>#sk-container-id-12 {color: black;background-color: white;}#sk-container-id-12 pre{padding: 0;}#sk-container-id-12 div.sk-toggleable {background-color: white;}#sk-container-id-12 label.sk-toggleable__label {cursor: pointer;display: block;width: 100%;margin-bottom: 0;padding: 0.3em;box-sizing: border-box;text-align: center;}#sk-container-id-12 label.sk-toggleable__label-arrow:before {content: \"▸\";float: left;margin-right: 0.25em;color: #696969;}#sk-container-id-12 label.sk-toggleable__label-arrow:hover:before {color: black;}#sk-container-id-12 div.sk-estimator:hover label.sk-toggleable__label-arrow:before {color: black;}#sk-container-id-12 div.sk-toggleable__content {max-height: 0;max-width: 0;overflow: hidden;text-align: left;background-color: #f0f8ff;}#sk-container-id-12 div.sk-toggleable__content pre {margin: 0.2em;color: black;border-radius: 0.25em;background-color: #f0f8ff;}#sk-container-id-12 input.sk-toggleable__control:checked~div.sk-toggleable__content {max-height: 200px;max-width: 100%;overflow: auto;}#sk-container-id-12 input.sk-toggleable__control:checked~label.sk-toggleable__label-arrow:before {content: \"▾\";}#sk-container-id-12 div.sk-estimator input.sk-toggleable__control:checked~label.sk-toggleable__label {background-color: #d4ebff;}#sk-container-id-12 div.sk-label input.sk-toggleable__control:checked~label.sk-toggleable__label {background-color: #d4ebff;}#sk-container-id-12 input.sk-hidden--visually {border: 0;clip: rect(1px 1px 1px 1px);clip: rect(1px, 1px, 1px, 1px);height: 1px;margin: -1px;overflow: hidden;padding: 0;position: absolute;width: 1px;}#sk-container-id-12 div.sk-estimator {font-family: monospace;background-color: #f0f8ff;border: 1px dotted black;border-radius: 0.25em;box-sizing: border-box;margin-bottom: 0.5em;}#sk-container-id-12 div.sk-estimator:hover {background-color: #d4ebff;}#sk-container-id-12 div.sk-parallel-item::after {content: \"\";width: 100%;border-bottom: 1px solid gray;flex-grow: 1;}#sk-container-id-12 div.sk-label:hover label.sk-toggleable__label {background-color: #d4ebff;}#sk-container-id-12 div.sk-serial::before {content: \"\";position: absolute;border-left: 1px solid gray;box-sizing: border-box;top: 0;bottom: 0;left: 50%;z-index: 0;}#sk-container-id-12 div.sk-serial {display: flex;flex-direction: column;align-items: center;background-color: white;padding-right: 0.2em;padding-left: 0.2em;position: relative;}#sk-container-id-12 div.sk-item {position: relative;z-index: 1;}#sk-container-id-12 div.sk-parallel {display: flex;align-items: stretch;justify-content: center;background-color: white;position: relative;}#sk-container-id-12 div.sk-item::before, #sk-container-id-12 div.sk-parallel-item::before {content: \"\";position: absolute;border-left: 1px solid gray;box-sizing: border-box;top: 0;bottom: 0;left: 50%;z-index: -1;}#sk-container-id-12 div.sk-parallel-item {display: flex;flex-direction: column;z-index: 1;position: relative;background-color: white;}#sk-container-id-12 div.sk-parallel-item:first-child::after {align-self: flex-end;width: 50%;}#sk-container-id-12 div.sk-parallel-item:last-child::after {align-self: flex-start;width: 50%;}#sk-container-id-12 div.sk-parallel-item:only-child::after {width: 0;}#sk-container-id-12 div.sk-dashed-wrapped {border: 1px dashed gray;margin: 0 0.4em 0.5em 0.4em;box-sizing: border-box;padding-bottom: 0.4em;background-color: white;}#sk-container-id-12 div.sk-label label {font-family: monospace;font-weight: bold;display: inline-block;line-height: 1.2em;}#sk-container-id-12 div.sk-label-container {text-align: center;}#sk-container-id-12 div.sk-container {/* jupyter's `normalize.less` sets `[hidden] { display: none; }` but bootstrap.min.css set `[hidden] { display: none !important; }` so we also need the `!important` here to be able to override the default hidden behavior on the sphinx rendered scikit-learn.org. See: https://github.com/scikit-learn/scikit-learn/issues/21755 */display: inline-block !important;position: relative;}#sk-container-id-12 div.sk-text-repr-fallback {display: none;}</style><div id=\"sk-container-id-12\" class=\"sk-top-container\"><div class=\"sk-text-repr-fallback\"><pre>KNeighborsClassifier(metric=&#x27;euclidean&#x27;, n_neighbors=10, weights=&#x27;distance&#x27;)</pre><b>In a Jupyter environment, please rerun this cell to show the HTML representation or trust the notebook. <br />On GitHub, the HTML representation is unable to render, please try loading this page with nbviewer.org.</b></div><div class=\"sk-container\" hidden><div class=\"sk-item\"><div class=\"sk-estimator sk-toggleable\"><input class=\"sk-toggleable__control sk-hidden--visually\" id=\"sk-estimator-id-37\" type=\"checkbox\" checked><label for=\"sk-estimator-id-37\" class=\"sk-toggleable__label sk-toggleable__label-arrow\">KNeighborsClassifier</label><div class=\"sk-toggleable__content\"><pre>KNeighborsClassifier(metric=&#x27;euclidean&#x27;, n_neighbors=10, weights=&#x27;distance&#x27;)</pre></div></div></div></div></div>"
      ],
      "text/plain": [
       "KNeighborsClassifier(metric='euclidean', n_neighbors=10, weights='distance')"
      ]
     },
     "execution_count": 70,
     "metadata": {},
     "output_type": "execute_result"
    }
   ],
   "source": [
    "# with open(f\"../trained_models/{timestamp_string}_knn_best_model\", \"rb\") as model_file:\n",
    "#     my_imported_model = pickle.load(model_file)\n",
    "\n",
    "# print(classification_report(y_val, my_imported_model.predict(X_val)))"
   ]
  },
  {
   "cell_type": "markdown",
   "metadata": {},
   "source": [
    "# Test Model-Export in Class"
   ]
  },
  {
   "cell_type": "code",
   "execution_count": 72,
   "metadata": {},
   "outputs": [],
   "source": [
    "# class ModelWrapper:\n",
    "#     def __init__(self, model, scaler):\n",
    "#         self.model = model\n",
    "#         self.scaler = scaler\n",
    "    \n",
    "#     def predict(self, values):\n",
    "#         prep_values = self.preprocess_values(values)\n",
    "#         pass\n",
    "\n",
    "#     def preprocess_values(self, values):\n",
    "#         pass\n",
    "\n",
    "# my_wrapper_model = ModelWrapper(my_imported_model, None)\n",
    "# timestamp_string = str(datetime.now())[:19].replace(\" \", \"\").replace(\":\", \"\").replace(\"-\", \"\")\n",
    "\n",
    "# with open(f\"../trained_models/{timestamp_string}_wrapper_model_best_model\", \"wb\") as model_file:\n",
    "#     pickle.dump(my_wrapper_model, model_file)"
   ]
  },
  {
   "cell_type": "code",
   "execution_count": 73,
   "metadata": {},
   "outputs": [
    {
     "data": {
      "text/html": [
       "<style>#sk-container-id-13 {color: black;background-color: white;}#sk-container-id-13 pre{padding: 0;}#sk-container-id-13 div.sk-toggleable {background-color: white;}#sk-container-id-13 label.sk-toggleable__label {cursor: pointer;display: block;width: 100%;margin-bottom: 0;padding: 0.3em;box-sizing: border-box;text-align: center;}#sk-container-id-13 label.sk-toggleable__label-arrow:before {content: \"▸\";float: left;margin-right: 0.25em;color: #696969;}#sk-container-id-13 label.sk-toggleable__label-arrow:hover:before {color: black;}#sk-container-id-13 div.sk-estimator:hover label.sk-toggleable__label-arrow:before {color: black;}#sk-container-id-13 div.sk-toggleable__content {max-height: 0;max-width: 0;overflow: hidden;text-align: left;background-color: #f0f8ff;}#sk-container-id-13 div.sk-toggleable__content pre {margin: 0.2em;color: black;border-radius: 0.25em;background-color: #f0f8ff;}#sk-container-id-13 input.sk-toggleable__control:checked~div.sk-toggleable__content {max-height: 200px;max-width: 100%;overflow: auto;}#sk-container-id-13 input.sk-toggleable__control:checked~label.sk-toggleable__label-arrow:before {content: \"▾\";}#sk-container-id-13 div.sk-estimator input.sk-toggleable__control:checked~label.sk-toggleable__label {background-color: #d4ebff;}#sk-container-id-13 div.sk-label input.sk-toggleable__control:checked~label.sk-toggleable__label {background-color: #d4ebff;}#sk-container-id-13 input.sk-hidden--visually {border: 0;clip: rect(1px 1px 1px 1px);clip: rect(1px, 1px, 1px, 1px);height: 1px;margin: -1px;overflow: hidden;padding: 0;position: absolute;width: 1px;}#sk-container-id-13 div.sk-estimator {font-family: monospace;background-color: #f0f8ff;border: 1px dotted black;border-radius: 0.25em;box-sizing: border-box;margin-bottom: 0.5em;}#sk-container-id-13 div.sk-estimator:hover {background-color: #d4ebff;}#sk-container-id-13 div.sk-parallel-item::after {content: \"\";width: 100%;border-bottom: 1px solid gray;flex-grow: 1;}#sk-container-id-13 div.sk-label:hover label.sk-toggleable__label {background-color: #d4ebff;}#sk-container-id-13 div.sk-serial::before {content: \"\";position: absolute;border-left: 1px solid gray;box-sizing: border-box;top: 0;bottom: 0;left: 50%;z-index: 0;}#sk-container-id-13 div.sk-serial {display: flex;flex-direction: column;align-items: center;background-color: white;padding-right: 0.2em;padding-left: 0.2em;position: relative;}#sk-container-id-13 div.sk-item {position: relative;z-index: 1;}#sk-container-id-13 div.sk-parallel {display: flex;align-items: stretch;justify-content: center;background-color: white;position: relative;}#sk-container-id-13 div.sk-item::before, #sk-container-id-13 div.sk-parallel-item::before {content: \"\";position: absolute;border-left: 1px solid gray;box-sizing: border-box;top: 0;bottom: 0;left: 50%;z-index: -1;}#sk-container-id-13 div.sk-parallel-item {display: flex;flex-direction: column;z-index: 1;position: relative;background-color: white;}#sk-container-id-13 div.sk-parallel-item:first-child::after {align-self: flex-end;width: 50%;}#sk-container-id-13 div.sk-parallel-item:last-child::after {align-self: flex-start;width: 50%;}#sk-container-id-13 div.sk-parallel-item:only-child::after {width: 0;}#sk-container-id-13 div.sk-dashed-wrapped {border: 1px dashed gray;margin: 0 0.4em 0.5em 0.4em;box-sizing: border-box;padding-bottom: 0.4em;background-color: white;}#sk-container-id-13 div.sk-label label {font-family: monospace;font-weight: bold;display: inline-block;line-height: 1.2em;}#sk-container-id-13 div.sk-label-container {text-align: center;}#sk-container-id-13 div.sk-container {/* jupyter's `normalize.less` sets `[hidden] { display: none; }` but bootstrap.min.css set `[hidden] { display: none !important; }` so we also need the `!important` here to be able to override the default hidden behavior on the sphinx rendered scikit-learn.org. See: https://github.com/scikit-learn/scikit-learn/issues/21755 */display: inline-block !important;position: relative;}#sk-container-id-13 div.sk-text-repr-fallback {display: none;}</style><div id=\"sk-container-id-13\" class=\"sk-top-container\"><div class=\"sk-text-repr-fallback\"><pre>KNeighborsClassifier(metric=&#x27;euclidean&#x27;, n_neighbors=10, weights=&#x27;distance&#x27;)</pre><b>In a Jupyter environment, please rerun this cell to show the HTML representation or trust the notebook. <br />On GitHub, the HTML representation is unable to render, please try loading this page with nbviewer.org.</b></div><div class=\"sk-container\" hidden><div class=\"sk-item\"><div class=\"sk-estimator sk-toggleable\"><input class=\"sk-toggleable__control sk-hidden--visually\" id=\"sk-estimator-id-38\" type=\"checkbox\" checked><label for=\"sk-estimator-id-38\" class=\"sk-toggleable__label sk-toggleable__label-arrow\">KNeighborsClassifier</label><div class=\"sk-toggleable__content\"><pre>KNeighborsClassifier(metric=&#x27;euclidean&#x27;, n_neighbors=10, weights=&#x27;distance&#x27;)</pre></div></div></div></div></div>"
      ],
      "text/plain": [
       "KNeighborsClassifier(metric='euclidean', n_neighbors=10, weights='distance')"
      ]
     },
     "execution_count": 73,
     "metadata": {},
     "output_type": "execute_result"
    }
   ],
   "source": [
    "# with open(f\"../trained_models/{timestamp_string}_wrapper_model_best_model\", \"rb\") as model_file:\n",
    "#     my_imported_wrapper_model = pickle.load(model_file)\n",
    "\n",
    "# print(my_imported_wrapper_model.model)"
   ]
  }
 ],
 "metadata": {
  "kernelspec": {
   "display_name": "Python 3.10.3 64-bit",
   "language": "python",
   "name": "python3"
  },
  "language_info": {
   "codemirror_mode": {
    "name": "ipython",
    "version": 3
   },
   "file_extension": ".py",
   "mimetype": "text/x-python",
   "name": "python",
   "nbconvert_exporter": "python",
   "pygments_lexer": "ipython3",
   "version": "3.10.3"
  },
  "orig_nbformat": 4,
  "vscode": {
   "interpreter": {
    "hash": "aee8b7b246df8f9039afb4144a1f6fd8d2ca17a180786b69acc140d282b71a49"
   }
  }
 },
 "nbformat": 4,
 "nbformat_minor": 2
}
