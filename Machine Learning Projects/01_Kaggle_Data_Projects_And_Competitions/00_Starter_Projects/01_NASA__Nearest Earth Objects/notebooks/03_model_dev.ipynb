{
 "cells": [
  {
   "cell_type": "markdown",
   "metadata": {},
   "source": [
    "# Model Development: NASA - Nearest Earth Objects\n",
    "<img src=\"../assets/nasa.jpg\" alt=\"Title-Pic\">"
   ]
  },
  {
   "cell_type": "markdown",
   "metadata": {},
   "source": [
    "# Imports"
   ]
  },
  {
   "cell_type": "code",
   "execution_count": 118,
   "metadata": {},
   "outputs": [],
   "source": [
    "import numpy as np\n",
    "import pandas as pd\n",
    "import matplotlib.pyplot as plt\n",
    "import seaborn as sns\n",
    "import pickle\n",
    "import warnings\n",
    "\n",
    "from pandas import Series, DataFrame\n",
    "from xgboost import XGBClassifier\n",
    "from sklearn.ensemble import VotingClassifier, RandomForestClassifier\n",
    "from sklearn.neighbors import KNeighborsClassifier\n",
    "from sklearn.svm import SVC\n",
    "from sklearn.preprocessing import StandardScaler\n",
    "from sklearn.model_selection import train_test_split, GridSearchCV\n",
    "from sklearn.metrics import classification_report, confusion_matrix, recall_score, f1_score\n",
    "\n",
    "\n",
    "np.set_printoptions(suppress=True)\n",
    "sns.set(rc={\"figure.figsize\": (12, 7), \"axes.titlesize\": 20, \"axes.titleweight\": \"bold\", \"axes.labelsize\": 15})\n",
    "warnings.filterwarnings('ignore')"
   ]
  },
  {
   "cell_type": "markdown",
   "metadata": {},
   "source": [
    "# Data"
   ]
  },
  {
   "cell_type": "code",
   "execution_count": 119,
   "metadata": {},
   "outputs": [
    {
     "data": {
      "text/plain": [
       "(((40400, 4), (5050, 4), (5050, 4)), ((40400,), (5050, 1), (5050, 1)))"
      ]
     },
     "execution_count": 119,
     "metadata": {},
     "output_type": "execute_result"
    }
   ],
   "source": [
    "MODEL_DATA = np.load(\"../model_data/nasa_prep_data.npz\", allow_pickle=True)\n",
    "inputs = MODEL_DATA[\"inputs\"]\n",
    "targets = MODEL_DATA[\"targets\"]\n",
    "DATA_COLUMN_NAMES = MODEL_DATA[\"input_column_names\"]\n",
    "\n",
    "X_train, X_tmp_test, y_train, y_tmp_test = train_test_split(inputs, targets, test_size=0.2, random_state=101)\n",
    "X_test, X_val, y_test, y_val = train_test_split(X_tmp_test, y_tmp_test, test_size=0.5, random_state=101)\n",
    "\n",
    "y_train = y_train.reshape(-1)\n",
    "\n",
    "(X_train.shape, X_test.shape, X_val.shape), (y_train.shape, y_test.shape, y_val.shape)"
   ]
  },
  {
   "cell_type": "markdown",
   "metadata": {},
   "source": [
    "# Build the Model"
   ]
  },
  {
   "cell_type": "markdown",
   "metadata": {},
   "source": [
    "## Helper Functions"
   ]
  },
  {
   "cell_type": "code",
   "execution_count": 120,
   "metadata": {},
   "outputs": [],
   "source": [
    "def export_model(model, model_name):\n",
    "    timestamp_string = str(datetime.now())[:19].replace(\" \", \"\").replace(\":\", \"\").replace(\"-\", \"\")\n",
    "    export_path = f\"../trained_models/{timestamp_string}_{model_name}\"\n",
    "    with open(export_path, \"wb\") as model_file:\n",
    "        pickle.dump(model, model_file)\n",
    "    \n",
    "    return export_path\n",
    "\n",
    "def load_model(model_path):\n",
    "    with open(model_path, \"rb\") as model_file:\n",
    "        return pickle.load(model_file)"
   ]
  },
  {
   "cell_type": "code",
   "execution_count": 121,
   "metadata": {},
   "outputs": [],
   "source": [
    "def print_top_rankings(grid_model, top=10):\n",
    "    sorted_zipped_report = sorted(\n",
    "        zip(\n",
    "            grid_model.cv_results_[\"params\"], \n",
    "            grid_model.cv_results_[\"mean_test_score\"], \n",
    "            grid_model.cv_results_[\"rank_test_score\"]\n",
    "        ), key=lambda item: item[2]\n",
    "    )\n",
    "    for (i, (params, score, rank)) in enumerate(sorted_zipped_report):\n",
    "        if i >= top:\n",
    "            break\n",
    "\n",
    "        print(f\"Rank: {rank}\\tScore: {score}\\nParam: {params}\\n\")\n",
    "\n",
    "def print_model_classification_report(model, X_data, y_data):\n",
    "    preds_test = model.predict(X_data)\n",
    "    preds_train = model.predict(X_train)\n",
    "\n",
    "    f1_score_test = f1_score(y_data, preds_test, average=\"macro\")\n",
    "    recall_score_test = recall_score(y_data, preds_test)\n",
    "    f1_score_train = f1_score(y_train, preds_train, average=\"macro\")\n",
    "    recall_score_train = recall_score(y_train, preds_train)\n",
    "\n",
    "    print(f\"Recall-Score:\\t{recall_score_test}\\t|\\tTrain-Accuracy:\\t{recall_score_train}\")\n",
    "    print(f\"F1-Score:\\t{f1_score_test}\\t|\\tTrain-F1-Score:\\t{f1_score_train}\\n\")\n",
    "    print(classification_report(y_data, preds_test))\n",
    "\n",
    "    plt.figure(figsize=(8, 6))\n",
    "    sns.heatmap(confusion_matrix(y_data, preds_test), annot=True, cmap=\"cool\", fmt='.5g')\n",
    "\n",
    "def print_feature_importance(model):\n",
    "    return Series(data=model.feature_importances_, index=DATA_COLUMN_NAMES).sort_values(ascending=False)"
   ]
  },
  {
   "cell_type": "markdown",
   "metadata": {},
   "source": [
    "## Model1: KNN Model"
   ]
  },
  {
   "cell_type": "code",
   "execution_count": 122,
   "metadata": {},
   "outputs": [
    {
     "name": "stdout",
     "output_type": "stream",
     "text": [
      "Fitting 5 folds for each of 8 candidates, totalling 40 fits\n",
      "[CV 1/5] END metric=manhattan, n_neighbors=8, weights=uniform;, score=0.983 total time=   0.1s\n",
      "[CV 2/5] END metric=manhattan, n_neighbors=8, weights=uniform;, score=0.985 total time=   0.1s\n",
      "[CV 3/5] END metric=manhattan, n_neighbors=8, weights=uniform;, score=0.985 total time=   0.1s\n",
      "[CV 4/5] END metric=manhattan, n_neighbors=8, weights=uniform;, score=0.980 total time=   0.1s\n",
      "[CV 5/5] END metric=manhattan, n_neighbors=8, weights=uniform;, score=0.979 total time=   0.1s\n",
      "[CV 1/5] END metric=manhattan, n_neighbors=8, weights=distance;, score=0.991 total time=   0.0s\n",
      "[CV 2/5] END metric=manhattan, n_neighbors=8, weights=distance;, score=0.993 total time=   0.0s\n",
      "[CV 3/5] END metric=manhattan, n_neighbors=8, weights=distance;, score=0.993 total time=   0.0s\n",
      "[CV 4/5] END metric=manhattan, n_neighbors=8, weights=distance;, score=0.986 total time=   0.0s\n",
      "[CV 5/5] END metric=manhattan, n_neighbors=8, weights=distance;, score=0.992 total time=   0.0s\n",
      "[CV 1/5] END metric=manhattan, n_neighbors=10, weights=uniform;, score=0.985 total time=   0.1s\n",
      "[CV 2/5] END metric=manhattan, n_neighbors=10, weights=uniform;, score=0.985 total time=   0.1s\n",
      "[CV 3/5] END metric=manhattan, n_neighbors=10, weights=uniform;, score=0.986 total time=   0.1s\n",
      "[CV 4/5] END metric=manhattan, n_neighbors=10, weights=uniform;, score=0.982 total time=   0.1s\n",
      "[CV 5/5] END metric=manhattan, n_neighbors=10, weights=uniform;, score=0.981 total time=   0.1s\n",
      "[CV 1/5] END metric=manhattan, n_neighbors=10, weights=distance;, score=0.992 total time=   0.0s\n",
      "[CV 2/5] END metric=manhattan, n_neighbors=10, weights=distance;, score=0.994 total time=   0.0s\n",
      "[CV 3/5] END metric=manhattan, n_neighbors=10, weights=distance;, score=0.994 total time=   0.0s\n",
      "[CV 4/5] END metric=manhattan, n_neighbors=10, weights=distance;, score=0.988 total time=   0.0s\n",
      "[CV 5/5] END metric=manhattan, n_neighbors=10, weights=distance;, score=0.992 total time=   0.0s\n",
      "[CV 1/5] END metric=euclidean, n_neighbors=8, weights=uniform;, score=0.984 total time=   0.1s\n",
      "[CV 2/5] END metric=euclidean, n_neighbors=8, weights=uniform;, score=0.985 total time=   0.1s\n",
      "[CV 3/5] END metric=euclidean, n_neighbors=8, weights=uniform;, score=0.987 total time=   0.1s\n",
      "[CV 4/5] END metric=euclidean, n_neighbors=8, weights=uniform;, score=0.980 total time=   0.1s\n",
      "[CV 5/5] END metric=euclidean, n_neighbors=8, weights=uniform;, score=0.979 total time=   0.1s\n",
      "[CV 1/5] END metric=euclidean, n_neighbors=8, weights=distance;, score=0.992 total time=   0.0s\n",
      "[CV 2/5] END metric=euclidean, n_neighbors=8, weights=distance;, score=0.994 total time=   0.0s\n",
      "[CV 3/5] END metric=euclidean, n_neighbors=8, weights=distance;, score=0.992 total time=   0.0s\n",
      "[CV 4/5] END metric=euclidean, n_neighbors=8, weights=distance;, score=0.989 total time=   0.0s\n",
      "[CV 5/5] END metric=euclidean, n_neighbors=8, weights=distance;, score=0.992 total time=   0.0s\n",
      "[CV 1/5] END metric=euclidean, n_neighbors=10, weights=uniform;, score=0.985 total time=   0.1s\n",
      "[CV 2/5] END metric=euclidean, n_neighbors=10, weights=uniform;, score=0.985 total time=   0.1s\n",
      "[CV 3/5] END metric=euclidean, n_neighbors=10, weights=uniform;, score=0.988 total time=   0.1s\n",
      "[CV 4/5] END metric=euclidean, n_neighbors=10, weights=uniform;, score=0.982 total time=   0.1s\n",
      "[CV 5/5] END metric=euclidean, n_neighbors=10, weights=uniform;, score=0.981 total time=   0.1s\n",
      "[CV 1/5] END metric=euclidean, n_neighbors=10, weights=distance;, score=0.993 total time=   0.0s\n",
      "[CV 2/5] END metric=euclidean, n_neighbors=10, weights=distance;, score=0.994 total time=   0.0s\n",
      "[CV 3/5] END metric=euclidean, n_neighbors=10, weights=distance;, score=0.994 total time=   0.0s\n",
      "[CV 4/5] END metric=euclidean, n_neighbors=10, weights=distance;, score=0.989 total time=   0.0s\n",
      "[CV 5/5] END metric=euclidean, n_neighbors=10, weights=distance;, score=0.993 total time=   0.0s\n"
     ]
    }
   ],
   "source": [
    "knn_tmp_model = KNeighborsClassifier()\n",
    "\n",
    "knn_grid_params = {\n",
    "    \"n_neighbors\": np.arange(8, 12, 2),\n",
    "    \"metric\": [\"manhattan\", \"euclidean\"],\n",
    "    \"weights\": [\"uniform\", \"distance\"]\n",
    "}\n",
    "\n",
    "knn_grid_model = GridSearchCV(knn_tmp_model, knn_grid_params, cv=5, scoring=\"recall\", verbose=3)\n",
    "\n",
    "knn_grid_model.fit(X_train, y_train);"
   ]
  },
  {
   "cell_type": "code",
   "execution_count": 123,
   "metadata": {},
   "outputs": [
    {
     "data": {
      "text/plain": [
       "{'metric': 'euclidean', 'n_neighbors': 10, 'weights': 'distance'}"
      ]
     },
     "execution_count": 123,
     "metadata": {},
     "output_type": "execute_result"
    }
   ],
   "source": [
    "knn_grid_model.best_params_"
   ]
  },
  {
   "cell_type": "code",
   "execution_count": 124,
   "metadata": {},
   "outputs": [
    {
     "name": "stdout",
     "output_type": "stream",
     "text": [
      "Recall-Score:\t0.99185667752443\t|\tTrain-Accuracy:\t1.0\n",
      "F1-Score:\t0.9170403499325994\t|\tTrain-F1-Score:\t1.0\n",
      "\n",
      "              precision    recall  f1-score   support\n",
      "\n",
      "           0       0.99      0.85      0.91      2594\n",
      "           1       0.86      0.99      0.92      2456\n",
      "\n",
      "    accuracy                           0.92      5050\n",
      "   macro avg       0.93      0.92      0.92      5050\n",
      "weighted avg       0.93      0.92      0.92      5050\n",
      "\n"
     ]
    },
    {
     "data": {
      "image/png": "[encoded data removed]",
      "text/plain": [
       "<Figure size 576x432 with 2 Axes>"
      ]
     },
     "metadata": {},
     "output_type": "display_data"
    }
   ],
   "source": [
    "print_model_classification_report(knn_grid_model.best_estimator_, X_test, y_test)"
   ]
  },
  {
   "cell_type": "code",
   "execution_count": 125,
   "metadata": {},
   "outputs": [
    {
     "name": "stdout",
     "output_type": "stream",
     "text": [
      "Rank: 1\tScore: 0.9925325009567196\n",
      "Param: {'metric': 'euclidean', 'n_neighbors': 10, 'weights': 'distance'}\n",
      "\n",
      "Rank: 2\tScore: 0.9919390780524246\n",
      "Param: {'metric': 'manhattan', 'n_neighbors': 10, 'weights': 'distance'}\n",
      "\n",
      "Rank: 3\tScore: 0.9918896098418021\n",
      "Param: {'metric': 'euclidean', 'n_neighbors': 8, 'weights': 'distance'}\n",
      "\n",
      "Rank: 4\tScore: 0.9910488581108424\n",
      "Param: {'metric': 'manhattan', 'n_neighbors': 8, 'weights': 'distance'}\n",
      "\n",
      "Rank: 5\tScore: 0.9841750387272757\n",
      "Param: {'metric': 'euclidean', 'n_neighbors': 10, 'weights': 'uniform'}\n",
      "\n"
     ]
    }
   ],
   "source": [
    "print_top_rankings(knn_grid_model, 5)"
   ]
  },
  {
   "cell_type": "code",
   "execution_count": 126,
   "metadata": {},
   "outputs": [],
   "source": [
    "knn_best_model = knn_grid_model.best_estimator_"
   ]
  },
  {
   "cell_type": "markdown",
   "metadata": {},
   "source": [
    "## Model2: RandomForest Model"
   ]
  },
  {
   "cell_type": "code",
   "execution_count": 127,
   "metadata": {},
   "outputs": [
    {
     "name": "stdout",
     "output_type": "stream",
     "text": [
      "Fitting 5 folds for each of 1 candidates, totalling 5 fits\n",
      "[CV 1/5] END bootstrap=True, criterion=gini, max_depth=90, max_samples=0.9, min_samples_leaf=6, min_samples_split=7, n_estimators=700;, score=0.982 total time=  24.1s\n",
      "[CV 2/5] END bootstrap=True, criterion=gini, max_depth=90, max_samples=0.9, min_samples_leaf=6, min_samples_split=7, n_estimators=700;, score=0.983 total time=  22.9s\n",
      "[CV 3/5] END bootstrap=True, criterion=gini, max_depth=90, max_samples=0.9, min_samples_leaf=6, min_samples_split=7, n_estimators=700;, score=0.982 total time=  22.8s\n",
      "[CV 4/5] END bootstrap=True, criterion=gini, max_depth=90, max_samples=0.9, min_samples_leaf=6, min_samples_split=7, n_estimators=700;, score=0.976 total time=  22.6s\n",
      "[CV 5/5] END bootstrap=True, criterion=gini, max_depth=90, max_samples=0.9, min_samples_leaf=6, min_samples_split=7, n_estimators=700;, score=0.976 total time=  22.4s\n"
     ]
    }
   ],
   "source": [
    "rf_tmp_model = RandomForestClassifier()\n",
    "\n",
    "rf_grid_params = {\n",
    "    \"criterion\": [\"gini\"],\n",
    "    \"max_depth\": [90],\n",
    "    \"min_samples_split\": [7],\n",
    "    \"min_samples_leaf\": [6],\n",
    "    \"n_estimators\": [700],\n",
    "    \"max_samples\": [0.9],\n",
    "    \"bootstrap\": [True]\n",
    "}\n",
    "\n",
    "rf_grid_model = GridSearchCV(rf_tmp_model, rf_grid_params, cv=5, scoring=\"recall\", verbose=3)\n",
    "\n",
    "rf_grid_model.fit(X_train, y_train);"
   ]
  },
  {
   "cell_type": "code",
   "execution_count": 128,
   "metadata": {},
   "outputs": [
    {
     "data": {
      "text/plain": [
       "{'bootstrap': True,\n",
       " 'criterion': 'gini',\n",
       " 'max_depth': 90,\n",
       " 'max_samples': 0.9,\n",
       " 'min_samples_leaf': 6,\n",
       " 'min_samples_split': 7,\n",
       " 'n_estimators': 700}"
      ]
     },
     "execution_count": 128,
     "metadata": {},
     "output_type": "execute_result"
    }
   ],
   "source": [
    "rf_grid_model.best_params_"
   ]
  },
  {
   "cell_type": "code",
   "execution_count": 129,
   "metadata": {},
   "outputs": [
    {
     "name": "stdout",
     "output_type": "stream",
     "text": [
      "Recall-Score:\t0.9780130293159609\t|\tTrain-Accuracy:\t0.9904554670886702\n",
      "F1-Score:\t0.9235055664779126\t|\tTrain-F1-Score:\t0.9528755505591163\n",
      "\n",
      "              precision    recall  f1-score   support\n",
      "\n",
      "           0       0.98      0.87      0.92      2594\n",
      "           1       0.88      0.98      0.93      2456\n",
      "\n",
      "    accuracy                           0.92      5050\n",
      "   macro avg       0.93      0.93      0.92      5050\n",
      "weighted avg       0.93      0.92      0.92      5050\n",
      "\n"
     ]
    },
    {
     "data": {
      "image/png": "[encoded data removed]",
      "text/plain": [
       "<Figure size 576x432 with 2 Axes>"
      ]
     },
     "metadata": {},
     "output_type": "display_data"
    }
   ],
   "source": [
    "print_model_classification_report(rf_grid_model.best_estimator_, X_test, y_test)"
   ]
  },
  {
   "cell_type": "code",
   "execution_count": 130,
   "metadata": {},
   "outputs": [
    {
     "name": "stdout",
     "output_type": "stream",
     "text": [
      "Rank: 1\tScore: 0.979773700664752\n",
      "Param: {'bootstrap': True, 'criterion': 'gini', 'max_depth': 90, 'max_samples': 0.9, 'min_samples_leaf': 6, 'min_samples_split': 7, 'n_estimators': 700}\n",
      "\n"
     ]
    }
   ],
   "source": [
    "print_top_rankings(rf_grid_model, 10)"
   ]
  },
  {
   "cell_type": "code",
   "execution_count": 131,
   "metadata": {},
   "outputs": [],
   "source": [
    "rf_best_model = rf_grid_model.best_estimator_"
   ]
  },
  {
   "cell_type": "markdown",
   "metadata": {},
   "source": [
    "## Model3: SVM Model"
   ]
  },
  {
   "cell_type": "code",
   "execution_count": 132,
   "metadata": {},
   "outputs": [
    {
     "name": "stdout",
     "output_type": "stream",
     "text": [
      "Fitting 5 folds for each of 1 candidates, totalling 5 fits\n",
      "[CV 1/5] END C=7, coef0=0.8, degree=1.5, gamma=auto, kernel=rbf;, score=0.994 total time=  10.3s\n",
      "[CV 2/5] END C=7, coef0=0.8, degree=1.5, gamma=auto, kernel=rbf;, score=0.990 total time=  10.2s\n",
      "[CV 3/5] END C=7, coef0=0.8, degree=1.5, gamma=auto, kernel=rbf;, score=0.989 total time=   9.8s\n",
      "[CV 4/5] END C=7, coef0=0.8, degree=1.5, gamma=auto, kernel=rbf;, score=0.990 total time=   9.9s\n",
      "[CV 5/5] END C=7, coef0=0.8, degree=1.5, gamma=auto, kernel=rbf;, score=0.992 total time=   9.8s\n"
     ]
    }
   ],
   "source": [
    "svm_tmp_model = SVC()\n",
    "\n",
    "svm_grid_params = {\n",
    "    \"C\": [7],\n",
    "    \"gamma\": [\"auto\"],\n",
    "    \"kernel\": [\"rbf\"],\n",
    "    \"degree\": [1.5],\n",
    "    \"coef0\": [0.8]\n",
    "}\n",
    "\n",
    "svm_grid_model = GridSearchCV(svm_tmp_model, svm_grid_params, cv=5, scoring=\"recall\", verbose=3)\n",
    "\n",
    "svm_grid_model.fit(X_train, y_train);"
   ]
  },
  {
   "cell_type": "code",
   "execution_count": 133,
   "metadata": {},
   "outputs": [
    {
     "data": {
      "text/plain": [
       "{'C': 7, 'coef0': 0.8, 'degree': 1.5, 'gamma': 'auto', 'kernel': 'rbf'}"
      ]
     },
     "execution_count": 133,
     "metadata": {},
     "output_type": "execute_result"
    }
   ],
   "source": [
    "svm_grid_model.best_params_"
   ]
  },
  {
   "cell_type": "code",
   "execution_count": 134,
   "metadata": {},
   "outputs": [
    {
     "name": "stdout",
     "output_type": "stream",
     "text": [
      "Recall-Score:\t0.988599348534202\t|\tTrain-Accuracy:\t0.9908510953958756\n",
      "F1-Score:\t0.8736990157045623\t|\tTrain-F1-Score:\t0.8779123124066535\n",
      "\n",
      "              precision    recall  f1-score   support\n",
      "\n",
      "           0       0.99      0.77      0.86      2594\n",
      "           1       0.80      0.99      0.88      2456\n",
      "\n",
      "    accuracy                           0.87      5050\n",
      "   macro avg       0.89      0.88      0.87      5050\n",
      "weighted avg       0.90      0.87      0.87      5050\n",
      "\n"
     ]
    },
    {
     "data": {
      "image/png": "[encoded data removed]",
      "text/plain": [
       "<Figure size 576x432 with 2 Axes>"
      ]
     },
     "metadata": {},
     "output_type": "display_data"
    }
   ],
   "source": [
    "print_model_classification_report(svm_grid_model.best_estimator_, X_test, y_test)"
   ]
  },
  {
   "cell_type": "code",
   "execution_count": 135,
   "metadata": {},
   "outputs": [
    {
     "name": "stdout",
     "output_type": "stream",
     "text": [
      "Rank: 1\tScore: 0.9908510586270433\n",
      "Param: {'C': 7, 'coef0': 0.8, 'degree': 1.5, 'gamma': 'auto', 'kernel': 'rbf'}\n",
      "\n"
     ]
    }
   ],
   "source": [
    "print_top_rankings(svm_grid_model, 10)"
   ]
  },
  {
   "cell_type": "code",
   "execution_count": 136,
   "metadata": {},
   "outputs": [],
   "source": [
    "svm_best_model = svm_grid_model.best_estimator_"
   ]
  },
  {
   "cell_type": "markdown",
   "metadata": {},
   "source": [
    "## Model4: GradientBoost Model"
   ]
  },
  {
   "cell_type": "code",
   "execution_count": 137,
   "metadata": {},
   "outputs": [
    {
     "name": "stdout",
     "output_type": "stream",
     "text": [
      "Fitting 5 folds for each of 1 candidates, totalling 5 fits\n",
      "[CV 1/5] END colsample_bytree=0.65, eta=0.05, eval_metric=logloss, gamma=4, learning_rate=0.005, max_depth=10, min_child_weight=7, n_estimators=700, subsample=0.55;, score=0.997 total time=   7.7s\n",
      "[CV 2/5] END colsample_bytree=0.65, eta=0.05, eval_metric=logloss, gamma=4, learning_rate=0.005, max_depth=10, min_child_weight=7, n_estimators=700, subsample=0.55;, score=0.992 total time=   7.7s\n",
      "[CV 3/5] END colsample_bytree=0.65, eta=0.05, eval_metric=logloss, gamma=4, learning_rate=0.005, max_depth=10, min_child_weight=7, n_estimators=700, subsample=0.55;, score=0.992 total time=   8.6s\n"
     ]
    },
    {
     "ename": "KeyboardInterrupt",
     "evalue": "",
     "output_type": "error",
     "traceback": [
      "\u001b[0;31m---------------------------------------------------------------------------\u001b[0m",
      "\u001b[0;31mKeyboardInterrupt\u001b[0m                         Traceback (most recent call last)",
      "\u001b[1;32m/Users/enricogoerlitz/Desktop/Data-Science/Projects/ML-Models/Machine Learning Projects/01_Kaggle_Data_Projects_And_Competitions/00_Starter_Projects/01_NASA__Nearest Earth Objects/notebooks/03_model_dev.ipynb Cell 29\u001b[0m in \u001b[0;36m<cell line: 17>\u001b[0;34m()\u001b[0m\n\u001b[1;32m      <a href='vscode-notebook-cell:/Users/enricogoerlitz/Desktop/Data-Science/Projects/ML-Models/Machine%20Learning%20Projects/01_Kaggle_Data_Projects_And_Competitions/00_Starter_Projects/01_NASA__Nearest%20Earth%20Objects/notebooks/03_model_dev.ipynb#ch0000029?line=2'>3</a>\u001b[0m xgb_grid_params \u001b[39m=\u001b[39m {\n\u001b[1;32m      <a href='vscode-notebook-cell:/Users/enricogoerlitz/Desktop/Data-Science/Projects/ML-Models/Machine%20Learning%20Projects/01_Kaggle_Data_Projects_And_Competitions/00_Starter_Projects/01_NASA__Nearest%20Earth%20Objects/notebooks/03_model_dev.ipynb#ch0000029?line=3'>4</a>\u001b[0m     \u001b[39m\"\u001b[39m\u001b[39meval_metric\u001b[39m\u001b[39m\"\u001b[39m: [\u001b[39m\"\u001b[39m\u001b[39mlogloss\u001b[39m\u001b[39m\"\u001b[39m],\n\u001b[1;32m      <a href='vscode-notebook-cell:/Users/enricogoerlitz/Desktop/Data-Science/Projects/ML-Models/Machine%20Learning%20Projects/01_Kaggle_Data_Projects_And_Competitions/00_Starter_Projects/01_NASA__Nearest%20Earth%20Objects/notebooks/03_model_dev.ipynb#ch0000029?line=4'>5</a>\u001b[0m     \u001b[39m\"\u001b[39m\u001b[39mlearning_rate\u001b[39m\u001b[39m\"\u001b[39m: [\u001b[39m0.005\u001b[39m],\n\u001b[0;32m   (...)\u001b[0m\n\u001b[1;32m     <a href='vscode-notebook-cell:/Users/enricogoerlitz/Desktop/Data-Science/Projects/ML-Models/Machine%20Learning%20Projects/01_Kaggle_Data_Projects_And_Competitions/00_Starter_Projects/01_NASA__Nearest%20Earth%20Objects/notebooks/03_model_dev.ipynb#ch0000029?line=11'>12</a>\u001b[0m     \u001b[39m\"\u001b[39m\u001b[39mcolsample_bytree\u001b[39m\u001b[39m\"\u001b[39m: [\u001b[39m0.65\u001b[39m]\n\u001b[1;32m     <a href='vscode-notebook-cell:/Users/enricogoerlitz/Desktop/Data-Science/Projects/ML-Models/Machine%20Learning%20Projects/01_Kaggle_Data_Projects_And_Competitions/00_Starter_Projects/01_NASA__Nearest%20Earth%20Objects/notebooks/03_model_dev.ipynb#ch0000029?line=12'>13</a>\u001b[0m }\n\u001b[1;32m     <a href='vscode-notebook-cell:/Users/enricogoerlitz/Desktop/Data-Science/Projects/ML-Models/Machine%20Learning%20Projects/01_Kaggle_Data_Projects_And_Competitions/00_Starter_Projects/01_NASA__Nearest%20Earth%20Objects/notebooks/03_model_dev.ipynb#ch0000029?line=14'>15</a>\u001b[0m xgb_grid_model \u001b[39m=\u001b[39m GridSearchCV(xgb_tmp_model, xgb_grid_params, cv\u001b[39m=\u001b[39m\u001b[39m5\u001b[39m, scoring\u001b[39m=\u001b[39m\u001b[39m\"\u001b[39m\u001b[39mrecall\u001b[39m\u001b[39m\"\u001b[39m, verbose\u001b[39m=\u001b[39m\u001b[39m3\u001b[39m)\n\u001b[0;32m---> <a href='vscode-notebook-cell:/Users/enricogoerlitz/Desktop/Data-Science/Projects/ML-Models/Machine%20Learning%20Projects/01_Kaggle_Data_Projects_And_Competitions/00_Starter_Projects/01_NASA__Nearest%20Earth%20Objects/notebooks/03_model_dev.ipynb#ch0000029?line=16'>17</a>\u001b[0m xgb_grid_model\u001b[39m.\u001b[39;49mfit(X_train, y_train)\n",
      "File \u001b[0;32m/Library/Frameworks/Python.framework/Versions/3.10/lib/python3.10/site-packages/sklearn/model_selection/_search.py:875\u001b[0m, in \u001b[0;36mBaseSearchCV.fit\u001b[0;34m(self, X, y, groups, **fit_params)\u001b[0m\n\u001b[1;32m    869\u001b[0m     results \u001b[39m=\u001b[39m \u001b[39mself\u001b[39m\u001b[39m.\u001b[39m_format_results(\n\u001b[1;32m    870\u001b[0m         all_candidate_params, n_splits, all_out, all_more_results\n\u001b[1;32m    871\u001b[0m     )\n\u001b[1;32m    873\u001b[0m     \u001b[39mreturn\u001b[39;00m results\n\u001b[0;32m--> 875\u001b[0m \u001b[39mself\u001b[39;49m\u001b[39m.\u001b[39;49m_run_search(evaluate_candidates)\n\u001b[1;32m    877\u001b[0m \u001b[39m# multimetric is determined here because in the case of a callable\u001b[39;00m\n\u001b[1;32m    878\u001b[0m \u001b[39m# self.scoring the return type is only known after calling\u001b[39;00m\n\u001b[1;32m    879\u001b[0m first_test_score \u001b[39m=\u001b[39m all_out[\u001b[39m0\u001b[39m][\u001b[39m\"\u001b[39m\u001b[39mtest_scores\u001b[39m\u001b[39m\"\u001b[39m]\n",
      "File \u001b[0;32m/Library/Frameworks/Python.framework/Versions/3.10/lib/python3.10/site-packages/sklearn/model_selection/_search.py:1375\u001b[0m, in \u001b[0;36mGridSearchCV._run_search\u001b[0;34m(self, evaluate_candidates)\u001b[0m\n\u001b[1;32m   1373\u001b[0m \u001b[39mdef\u001b[39;00m \u001b[39m_run_search\u001b[39m(\u001b[39mself\u001b[39m, evaluate_candidates):\n\u001b[1;32m   1374\u001b[0m     \u001b[39m\"\"\"Search all candidates in param_grid\"\"\"\u001b[39;00m\n\u001b[0;32m-> 1375\u001b[0m     evaluate_candidates(ParameterGrid(\u001b[39mself\u001b[39;49m\u001b[39m.\u001b[39;49mparam_grid))\n",
      "File \u001b[0;32m/Library/Frameworks/Python.framework/Versions/3.10/lib/python3.10/site-packages/sklearn/model_selection/_search.py:822\u001b[0m, in \u001b[0;36mBaseSearchCV.fit.<locals>.evaluate_candidates\u001b[0;34m(candidate_params, cv, more_results)\u001b[0m\n\u001b[1;32m    814\u001b[0m \u001b[39mif\u001b[39;00m \u001b[39mself\u001b[39m\u001b[39m.\u001b[39mverbose \u001b[39m>\u001b[39m \u001b[39m0\u001b[39m:\n\u001b[1;32m    815\u001b[0m     \u001b[39mprint\u001b[39m(\n\u001b[1;32m    816\u001b[0m         \u001b[39m\"\u001b[39m\u001b[39mFitting \u001b[39m\u001b[39m{0}\u001b[39;00m\u001b[39m folds for each of \u001b[39m\u001b[39m{1}\u001b[39;00m\u001b[39m candidates,\u001b[39m\u001b[39m\"\u001b[39m\n\u001b[1;32m    817\u001b[0m         \u001b[39m\"\u001b[39m\u001b[39m totalling \u001b[39m\u001b[39m{2}\u001b[39;00m\u001b[39m fits\u001b[39m\u001b[39m\"\u001b[39m\u001b[39m.\u001b[39mformat(\n\u001b[1;32m    818\u001b[0m             n_splits, n_candidates, n_candidates \u001b[39m*\u001b[39m n_splits\n\u001b[1;32m    819\u001b[0m         )\n\u001b[1;32m    820\u001b[0m     )\n\u001b[0;32m--> 822\u001b[0m out \u001b[39m=\u001b[39m parallel(\n\u001b[1;32m    823\u001b[0m     delayed(_fit_and_score)(\n\u001b[1;32m    824\u001b[0m         clone(base_estimator),\n\u001b[1;32m    825\u001b[0m         X,\n\u001b[1;32m    826\u001b[0m         y,\n\u001b[1;32m    827\u001b[0m         train\u001b[39m=\u001b[39;49mtrain,\n\u001b[1;32m    828\u001b[0m         test\u001b[39m=\u001b[39;49mtest,\n\u001b[1;32m    829\u001b[0m         parameters\u001b[39m=\u001b[39;49mparameters,\n\u001b[1;32m    830\u001b[0m         split_progress\u001b[39m=\u001b[39;49m(split_idx, n_splits),\n\u001b[1;32m    831\u001b[0m         candidate_progress\u001b[39m=\u001b[39;49m(cand_idx, n_candidates),\n\u001b[1;32m    832\u001b[0m         \u001b[39m*\u001b[39;49m\u001b[39m*\u001b[39;49mfit_and_score_kwargs,\n\u001b[1;32m    833\u001b[0m     )\n\u001b[1;32m    834\u001b[0m     \u001b[39mfor\u001b[39;49;00m (cand_idx, parameters), (split_idx, (train, test)) \u001b[39min\u001b[39;49;00m product(\n\u001b[1;32m    835\u001b[0m         \u001b[39menumerate\u001b[39;49m(candidate_params), \u001b[39menumerate\u001b[39;49m(cv\u001b[39m.\u001b[39;49msplit(X, y, groups))\n\u001b[1;32m    836\u001b[0m     )\n\u001b[1;32m    837\u001b[0m )\n\u001b[1;32m    839\u001b[0m \u001b[39mif\u001b[39;00m \u001b[39mlen\u001b[39m(out) \u001b[39m<\u001b[39m \u001b[39m1\u001b[39m:\n\u001b[1;32m    840\u001b[0m     \u001b[39mraise\u001b[39;00m \u001b[39mValueError\u001b[39;00m(\n\u001b[1;32m    841\u001b[0m         \u001b[39m\"\u001b[39m\u001b[39mNo fits were performed. \u001b[39m\u001b[39m\"\u001b[39m\n\u001b[1;32m    842\u001b[0m         \u001b[39m\"\u001b[39m\u001b[39mWas the CV iterator empty? \u001b[39m\u001b[39m\"\u001b[39m\n\u001b[1;32m    843\u001b[0m         \u001b[39m\"\u001b[39m\u001b[39mWere there no candidates?\u001b[39m\u001b[39m\"\u001b[39m\n\u001b[1;32m    844\u001b[0m     )\n",
      "File \u001b[0;32m/Library/Frameworks/Python.framework/Versions/3.10/lib/python3.10/site-packages/joblib/parallel.py:1046\u001b[0m, in \u001b[0;36mParallel.__call__\u001b[0;34m(self, iterable)\u001b[0m\n\u001b[1;32m   1043\u001b[0m \u001b[39mif\u001b[39;00m \u001b[39mself\u001b[39m\u001b[39m.\u001b[39mdispatch_one_batch(iterator):\n\u001b[1;32m   1044\u001b[0m     \u001b[39mself\u001b[39m\u001b[39m.\u001b[39m_iterating \u001b[39m=\u001b[39m \u001b[39mself\u001b[39m\u001b[39m.\u001b[39m_original_iterator \u001b[39mis\u001b[39;00m \u001b[39mnot\u001b[39;00m \u001b[39mNone\u001b[39;00m\n\u001b[0;32m-> 1046\u001b[0m \u001b[39mwhile\u001b[39;00m \u001b[39mself\u001b[39;49m\u001b[39m.\u001b[39;49mdispatch_one_batch(iterator):\n\u001b[1;32m   1047\u001b[0m     \u001b[39mpass\u001b[39;00m\n\u001b[1;32m   1049\u001b[0m \u001b[39mif\u001b[39;00m pre_dispatch \u001b[39m==\u001b[39m \u001b[39m\"\u001b[39m\u001b[39mall\u001b[39m\u001b[39m\"\u001b[39m \u001b[39mor\u001b[39;00m n_jobs \u001b[39m==\u001b[39m \u001b[39m1\u001b[39m:\n\u001b[1;32m   1050\u001b[0m     \u001b[39m# The iterable was consumed all at once by the above for loop.\u001b[39;00m\n\u001b[1;32m   1051\u001b[0m     \u001b[39m# No need to wait for async callbacks to trigger to\u001b[39;00m\n\u001b[1;32m   1052\u001b[0m     \u001b[39m# consumption.\u001b[39;00m\n",
      "File \u001b[0;32m/Library/Frameworks/Python.framework/Versions/3.10/lib/python3.10/site-packages/joblib/parallel.py:861\u001b[0m, in \u001b[0;36mParallel.dispatch_one_batch\u001b[0;34m(self, iterator)\u001b[0m\n\u001b[1;32m    859\u001b[0m     \u001b[39mreturn\u001b[39;00m \u001b[39mFalse\u001b[39;00m\n\u001b[1;32m    860\u001b[0m \u001b[39melse\u001b[39;00m:\n\u001b[0;32m--> 861\u001b[0m     \u001b[39mself\u001b[39;49m\u001b[39m.\u001b[39;49m_dispatch(tasks)\n\u001b[1;32m    862\u001b[0m     \u001b[39mreturn\u001b[39;00m \u001b[39mTrue\u001b[39;00m\n",
      "File \u001b[0;32m/Library/Frameworks/Python.framework/Versions/3.10/lib/python3.10/site-packages/joblib/parallel.py:779\u001b[0m, in \u001b[0;36mParallel._dispatch\u001b[0;34m(self, batch)\u001b[0m\n\u001b[1;32m    777\u001b[0m \u001b[39mwith\u001b[39;00m \u001b[39mself\u001b[39m\u001b[39m.\u001b[39m_lock:\n\u001b[1;32m    778\u001b[0m     job_idx \u001b[39m=\u001b[39m \u001b[39mlen\u001b[39m(\u001b[39mself\u001b[39m\u001b[39m.\u001b[39m_jobs)\n\u001b[0;32m--> 779\u001b[0m     job \u001b[39m=\u001b[39m \u001b[39mself\u001b[39;49m\u001b[39m.\u001b[39;49m_backend\u001b[39m.\u001b[39;49mapply_async(batch, callback\u001b[39m=\u001b[39;49mcb)\n\u001b[1;32m    780\u001b[0m     \u001b[39m# A job can complete so quickly than its callback is\u001b[39;00m\n\u001b[1;32m    781\u001b[0m     \u001b[39m# called before we get here, causing self._jobs to\u001b[39;00m\n\u001b[1;32m    782\u001b[0m     \u001b[39m# grow. To ensure correct results ordering, .insert is\u001b[39;00m\n\u001b[1;32m    783\u001b[0m     \u001b[39m# used (rather than .append) in the following line\u001b[39;00m\n\u001b[1;32m    784\u001b[0m     \u001b[39mself\u001b[39m\u001b[39m.\u001b[39m_jobs\u001b[39m.\u001b[39minsert(job_idx, job)\n",
      "File \u001b[0;32m/Library/Frameworks/Python.framework/Versions/3.10/lib/python3.10/site-packages/joblib/_parallel_backends.py:208\u001b[0m, in \u001b[0;36mSequentialBackend.apply_async\u001b[0;34m(self, func, callback)\u001b[0m\n\u001b[1;32m    206\u001b[0m \u001b[39mdef\u001b[39;00m \u001b[39mapply_async\u001b[39m(\u001b[39mself\u001b[39m, func, callback\u001b[39m=\u001b[39m\u001b[39mNone\u001b[39;00m):\n\u001b[1;32m    207\u001b[0m     \u001b[39m\"\"\"Schedule a func to be run\"\"\"\u001b[39;00m\n\u001b[0;32m--> 208\u001b[0m     result \u001b[39m=\u001b[39m ImmediateResult(func)\n\u001b[1;32m    209\u001b[0m     \u001b[39mif\u001b[39;00m callback:\n\u001b[1;32m    210\u001b[0m         callback(result)\n",
      "File \u001b[0;32m/Library/Frameworks/Python.framework/Versions/3.10/lib/python3.10/site-packages/joblib/_parallel_backends.py:572\u001b[0m, in \u001b[0;36mImmediateResult.__init__\u001b[0;34m(self, batch)\u001b[0m\n\u001b[1;32m    569\u001b[0m \u001b[39mdef\u001b[39;00m \u001b[39m__init__\u001b[39m(\u001b[39mself\u001b[39m, batch):\n\u001b[1;32m    570\u001b[0m     \u001b[39m# Don't delay the application, to avoid keeping the input\u001b[39;00m\n\u001b[1;32m    571\u001b[0m     \u001b[39m# arguments in memory\u001b[39;00m\n\u001b[0;32m--> 572\u001b[0m     \u001b[39mself\u001b[39m\u001b[39m.\u001b[39mresults \u001b[39m=\u001b[39m batch()\n",
      "File \u001b[0;32m/Library/Frameworks/Python.framework/Versions/3.10/lib/python3.10/site-packages/joblib/parallel.py:262\u001b[0m, in \u001b[0;36mBatchedCalls.__call__\u001b[0;34m(self)\u001b[0m\n\u001b[1;32m    258\u001b[0m \u001b[39mdef\u001b[39;00m \u001b[39m__call__\u001b[39m(\u001b[39mself\u001b[39m):\n\u001b[1;32m    259\u001b[0m     \u001b[39m# Set the default nested backend to self._backend but do not set the\u001b[39;00m\n\u001b[1;32m    260\u001b[0m     \u001b[39m# change the default number of processes to -1\u001b[39;00m\n\u001b[1;32m    261\u001b[0m     \u001b[39mwith\u001b[39;00m parallel_backend(\u001b[39mself\u001b[39m\u001b[39m.\u001b[39m_backend, n_jobs\u001b[39m=\u001b[39m\u001b[39mself\u001b[39m\u001b[39m.\u001b[39m_n_jobs):\n\u001b[0;32m--> 262\u001b[0m         \u001b[39mreturn\u001b[39;00m [func(\u001b[39m*\u001b[39margs, \u001b[39m*\u001b[39m\u001b[39m*\u001b[39mkwargs)\n\u001b[1;32m    263\u001b[0m                 \u001b[39mfor\u001b[39;00m func, args, kwargs \u001b[39min\u001b[39;00m \u001b[39mself\u001b[39m\u001b[39m.\u001b[39mitems]\n",
      "File \u001b[0;32m/Library/Frameworks/Python.framework/Versions/3.10/lib/python3.10/site-packages/joblib/parallel.py:262\u001b[0m, in \u001b[0;36m<listcomp>\u001b[0;34m(.0)\u001b[0m\n\u001b[1;32m    258\u001b[0m \u001b[39mdef\u001b[39;00m \u001b[39m__call__\u001b[39m(\u001b[39mself\u001b[39m):\n\u001b[1;32m    259\u001b[0m     \u001b[39m# Set the default nested backend to self._backend but do not set the\u001b[39;00m\n\u001b[1;32m    260\u001b[0m     \u001b[39m# change the default number of processes to -1\u001b[39;00m\n\u001b[1;32m    261\u001b[0m     \u001b[39mwith\u001b[39;00m parallel_backend(\u001b[39mself\u001b[39m\u001b[39m.\u001b[39m_backend, n_jobs\u001b[39m=\u001b[39m\u001b[39mself\u001b[39m\u001b[39m.\u001b[39m_n_jobs):\n\u001b[0;32m--> 262\u001b[0m         \u001b[39mreturn\u001b[39;00m [func(\u001b[39m*\u001b[39;49margs, \u001b[39m*\u001b[39;49m\u001b[39m*\u001b[39;49mkwargs)\n\u001b[1;32m    263\u001b[0m                 \u001b[39mfor\u001b[39;00m func, args, kwargs \u001b[39min\u001b[39;00m \u001b[39mself\u001b[39m\u001b[39m.\u001b[39mitems]\n",
      "File \u001b[0;32m/Library/Frameworks/Python.framework/Versions/3.10/lib/python3.10/site-packages/sklearn/utils/fixes.py:117\u001b[0m, in \u001b[0;36m_FuncWrapper.__call__\u001b[0;34m(self, *args, **kwargs)\u001b[0m\n\u001b[1;32m    115\u001b[0m \u001b[39mdef\u001b[39;00m \u001b[39m__call__\u001b[39m(\u001b[39mself\u001b[39m, \u001b[39m*\u001b[39margs, \u001b[39m*\u001b[39m\u001b[39m*\u001b[39mkwargs):\n\u001b[1;32m    116\u001b[0m     \u001b[39mwith\u001b[39;00m config_context(\u001b[39m*\u001b[39m\u001b[39m*\u001b[39m\u001b[39mself\u001b[39m\u001b[39m.\u001b[39mconfig):\n\u001b[0;32m--> 117\u001b[0m         \u001b[39mreturn\u001b[39;00m \u001b[39mself\u001b[39;49m\u001b[39m.\u001b[39;49mfunction(\u001b[39m*\u001b[39;49margs, \u001b[39m*\u001b[39;49m\u001b[39m*\u001b[39;49mkwargs)\n",
      "File \u001b[0;32m/Library/Frameworks/Python.framework/Versions/3.10/lib/python3.10/site-packages/sklearn/model_selection/_validation.py:686\u001b[0m, in \u001b[0;36m_fit_and_score\u001b[0;34m(estimator, X, y, scorer, train, test, verbose, parameters, fit_params, return_train_score, return_parameters, return_n_test_samples, return_times, return_estimator, split_progress, candidate_progress, error_score)\u001b[0m\n\u001b[1;32m    684\u001b[0m         estimator\u001b[39m.\u001b[39mfit(X_train, \u001b[39m*\u001b[39m\u001b[39m*\u001b[39mfit_params)\n\u001b[1;32m    685\u001b[0m     \u001b[39melse\u001b[39;00m:\n\u001b[0;32m--> 686\u001b[0m         estimator\u001b[39m.\u001b[39;49mfit(X_train, y_train, \u001b[39m*\u001b[39;49m\u001b[39m*\u001b[39;49mfit_params)\n\u001b[1;32m    688\u001b[0m \u001b[39mexcept\u001b[39;00m \u001b[39mException\u001b[39;00m:\n\u001b[1;32m    689\u001b[0m     \u001b[39m# Note fit time as time until error\u001b[39;00m\n\u001b[1;32m    690\u001b[0m     fit_time \u001b[39m=\u001b[39m time\u001b[39m.\u001b[39mtime() \u001b[39m-\u001b[39m start_time\n",
      "File \u001b[0;32m/Library/Frameworks/Python.framework/Versions/3.10/lib/python3.10/site-packages/xgboost/core.py:532\u001b[0m, in \u001b[0;36m_deprecate_positional_args.<locals>.inner_f\u001b[0;34m(*args, **kwargs)\u001b[0m\n\u001b[1;32m    530\u001b[0m \u001b[39mfor\u001b[39;00m k, arg \u001b[39min\u001b[39;00m \u001b[39mzip\u001b[39m(sig\u001b[39m.\u001b[39mparameters, args):\n\u001b[1;32m    531\u001b[0m     kwargs[k] \u001b[39m=\u001b[39m arg\n\u001b[0;32m--> 532\u001b[0m \u001b[39mreturn\u001b[39;00m f(\u001b[39m*\u001b[39;49m\u001b[39m*\u001b[39;49mkwargs)\n",
      "File \u001b[0;32m/Library/Frameworks/Python.framework/Versions/3.10/lib/python3.10/site-packages/xgboost/sklearn.py:1400\u001b[0m, in \u001b[0;36mXGBClassifier.fit\u001b[0;34m(self, X, y, sample_weight, base_margin, eval_set, eval_metric, early_stopping_rounds, verbose, xgb_model, sample_weight_eval_set, base_margin_eval_set, feature_weights, callbacks)\u001b[0m\n\u001b[1;32m   1379\u001b[0m model, metric, params, early_stopping_rounds, callbacks \u001b[39m=\u001b[39m \u001b[39mself\u001b[39m\u001b[39m.\u001b[39m_configure_fit(\n\u001b[1;32m   1380\u001b[0m     xgb_model, eval_metric, params, early_stopping_rounds, callbacks\n\u001b[1;32m   1381\u001b[0m )\n\u001b[1;32m   1382\u001b[0m train_dmatrix, evals \u001b[39m=\u001b[39m _wrap_evaluation_matrices(\n\u001b[1;32m   1383\u001b[0m     missing\u001b[39m=\u001b[39m\u001b[39mself\u001b[39m\u001b[39m.\u001b[39mmissing,\n\u001b[1;32m   1384\u001b[0m     X\u001b[39m=\u001b[39mX,\n\u001b[0;32m   (...)\u001b[0m\n\u001b[1;32m   1397\u001b[0m     enable_categorical\u001b[39m=\u001b[39m\u001b[39mself\u001b[39m\u001b[39m.\u001b[39menable_categorical,\n\u001b[1;32m   1398\u001b[0m )\n\u001b[0;32m-> 1400\u001b[0m \u001b[39mself\u001b[39m\u001b[39m.\u001b[39m_Booster \u001b[39m=\u001b[39m train(\n\u001b[1;32m   1401\u001b[0m     params,\n\u001b[1;32m   1402\u001b[0m     train_dmatrix,\n\u001b[1;32m   1403\u001b[0m     \u001b[39mself\u001b[39;49m\u001b[39m.\u001b[39;49mget_num_boosting_rounds(),\n\u001b[1;32m   1404\u001b[0m     evals\u001b[39m=\u001b[39;49mevals,\n\u001b[1;32m   1405\u001b[0m     early_stopping_rounds\u001b[39m=\u001b[39;49mearly_stopping_rounds,\n\u001b[1;32m   1406\u001b[0m     evals_result\u001b[39m=\u001b[39;49mevals_result,\n\u001b[1;32m   1407\u001b[0m     obj\u001b[39m=\u001b[39;49mobj,\n\u001b[1;32m   1408\u001b[0m     custom_metric\u001b[39m=\u001b[39;49mmetric,\n\u001b[1;32m   1409\u001b[0m     verbose_eval\u001b[39m=\u001b[39;49mverbose,\n\u001b[1;32m   1410\u001b[0m     xgb_model\u001b[39m=\u001b[39;49mmodel,\n\u001b[1;32m   1411\u001b[0m     callbacks\u001b[39m=\u001b[39;49mcallbacks,\n\u001b[1;32m   1412\u001b[0m )\n\u001b[1;32m   1414\u001b[0m \u001b[39mif\u001b[39;00m \u001b[39mnot\u001b[39;00m callable(\u001b[39mself\u001b[39m\u001b[39m.\u001b[39mobjective):\n\u001b[1;32m   1415\u001b[0m     \u001b[39mself\u001b[39m\u001b[39m.\u001b[39mobjective \u001b[39m=\u001b[39m params[\u001b[39m\"\u001b[39m\u001b[39mobjective\u001b[39m\u001b[39m\"\u001b[39m]\n",
      "File \u001b[0;32m/Library/Frameworks/Python.framework/Versions/3.10/lib/python3.10/site-packages/xgboost/core.py:532\u001b[0m, in \u001b[0;36m_deprecate_positional_args.<locals>.inner_f\u001b[0;34m(*args, **kwargs)\u001b[0m\n\u001b[1;32m    530\u001b[0m \u001b[39mfor\u001b[39;00m k, arg \u001b[39min\u001b[39;00m \u001b[39mzip\u001b[39m(sig\u001b[39m.\u001b[39mparameters, args):\n\u001b[1;32m    531\u001b[0m     kwargs[k] \u001b[39m=\u001b[39m arg\n\u001b[0;32m--> 532\u001b[0m \u001b[39mreturn\u001b[39;00m f(\u001b[39m*\u001b[39;49m\u001b[39m*\u001b[39;49mkwargs)\n",
      "File \u001b[0;32m/Library/Frameworks/Python.framework/Versions/3.10/lib/python3.10/site-packages/xgboost/training.py:181\u001b[0m, in \u001b[0;36mtrain\u001b[0;34m(params, dtrain, num_boost_round, evals, obj, feval, maximize, early_stopping_rounds, evals_result, verbose_eval, xgb_model, callbacks, custom_metric)\u001b[0m\n\u001b[1;32m    179\u001b[0m \u001b[39mif\u001b[39;00m cb_container\u001b[39m.\u001b[39mbefore_iteration(bst, i, dtrain, evals):\n\u001b[1;32m    180\u001b[0m     \u001b[39mbreak\u001b[39;00m\n\u001b[0;32m--> 181\u001b[0m bst\u001b[39m.\u001b[39;49mupdate(dtrain, i, obj)\n\u001b[1;32m    182\u001b[0m \u001b[39mif\u001b[39;00m cb_container\u001b[39m.\u001b[39mafter_iteration(bst, i, dtrain, evals):\n\u001b[1;32m    183\u001b[0m     \u001b[39mbreak\u001b[39;00m\n",
      "File \u001b[0;32m/Library/Frameworks/Python.framework/Versions/3.10/lib/python3.10/site-packages/xgboost/core.py:1733\u001b[0m, in \u001b[0;36mBooster.update\u001b[0;34m(self, dtrain, iteration, fobj)\u001b[0m\n\u001b[1;32m   1730\u001b[0m \u001b[39mself\u001b[39m\u001b[39m.\u001b[39m_validate_features(dtrain)\n\u001b[1;32m   1732\u001b[0m \u001b[39mif\u001b[39;00m fobj \u001b[39mis\u001b[39;00m \u001b[39mNone\u001b[39;00m:\n\u001b[0;32m-> 1733\u001b[0m     _check_call(_LIB\u001b[39m.\u001b[39;49mXGBoosterUpdateOneIter(\u001b[39mself\u001b[39;49m\u001b[39m.\u001b[39;49mhandle,\n\u001b[1;32m   1734\u001b[0m                                             ctypes\u001b[39m.\u001b[39;49mc_int(iteration),\n\u001b[1;32m   1735\u001b[0m                                             dtrain\u001b[39m.\u001b[39;49mhandle))\n\u001b[1;32m   1736\u001b[0m \u001b[39melse\u001b[39;00m:\n\u001b[1;32m   1737\u001b[0m     pred \u001b[39m=\u001b[39m \u001b[39mself\u001b[39m\u001b[39m.\u001b[39mpredict(dtrain, output_margin\u001b[39m=\u001b[39m\u001b[39mTrue\u001b[39;00m, training\u001b[39m=\u001b[39m\u001b[39mTrue\u001b[39;00m)\n",
      "\u001b[0;31mKeyboardInterrupt\u001b[0m: "
     ]
    }
   ],
   "source": [
    "xgb_tmp_model = XGBClassifier(nthread=-1,)\n",
    "\n",
    "xgb_grid_params = {\n",
    "    \"eval_metric\": [\"logloss\"],\n",
    "    \"learning_rate\": [0.005],\n",
    "    \"min_child_weight\": [7],\n",
    "    \"n_estimators\": [700],\n",
    "    \"eta\": [0.05],\n",
    "    \"gamma\": [4],\n",
    "    \"subsample\": [0.55],\n",
    "    \"max_depth\": [10],\n",
    "    \"colsample_bytree\": [0.65]\n",
    "}\n",
    "\n",
    "xgb_grid_model = GridSearchCV(xgb_tmp_model, xgb_grid_params, cv=5, scoring=\"recall\", verbose=3)\n",
    "\n",
    "xgb_grid_model.fit(X_train, y_train);"
   ]
  },
  {
   "cell_type": "code",
   "execution_count": null,
   "metadata": {},
   "outputs": [
    {
     "data": {
      "text/plain": [
       "{'colsample_bytree': 0.65,\n",
       " 'eta': 0.05,\n",
       " 'eval_metric': 'logloss',\n",
       " 'gamma': 4,\n",
       " 'learning_rate': 0.005,\n",
       " 'max_depth': 10,\n",
       " 'min_child_weight': 7,\n",
       " 'n_estimators': 700,\n",
       " 'subsample': 0.55}"
      ]
     },
     "execution_count": 68,
     "metadata": {},
     "output_type": "execute_result"
    }
   ],
   "source": [
    "xgb_grid_model.best_params_"
   ]
  },
  {
   "cell_type": "code",
   "execution_count": null,
   "metadata": {},
   "outputs": [
    {
     "name": "stdout",
     "output_type": "stream",
     "text": [
      "Recall-Score:\t0.9873778501628665\t|\tTrain-Accuracy:\t0.9943622966223233\n",
      "F1-Score:\t0.886721927038821\t|\tTrain-F1-Score:\t0.8989542933047826\n",
      "\n",
      "              precision    recall  f1-score   support\n",
      "\n",
      "           0       0.99      0.79      0.88      2594\n",
      "           1       0.82      0.99      0.89      2456\n",
      "\n",
      "    accuracy                           0.89      5050\n",
      "   macro avg       0.90      0.89      0.89      5050\n",
      "weighted avg       0.90      0.89      0.89      5050\n",
      "\n"
     ]
    },
    {
     "data": {
      "image/png": "[encoded data removed]",
      "text/plain": [
       "<Figure size 576x432 with 2 Axes>"
      ]
     },
     "metadata": {},
     "output_type": "display_data"
    }
   ],
   "source": [
    "print_model_classification_report(xgb_grid_model.best_estimator_, X_test, y_test)"
   ]
  },
  {
   "cell_type": "code",
   "execution_count": null,
   "metadata": {},
   "outputs": [
    {
     "name": "stdout",
     "output_type": "stream",
     "text": [
      "Rank: 1\tScore: 0.9921863824261921\n",
      "Param: {'colsample_bytree': 0.65, 'eta': 0.05, 'eval_metric': 'logloss', 'gamma': 4, 'learning_rate': 0.005, 'max_depth': 10, 'min_child_weight': 7, 'n_estimators': 700, 'subsample': 0.55}\n",
      "\n"
     ]
    }
   ],
   "source": [
    "print_top_rankings(xgb_grid_model, 10)"
   ]
  },
  {
   "cell_type": "code",
   "execution_count": null,
   "metadata": {},
   "outputs": [],
   "source": [
    "xgb_best_model = xgb_grid_model.best_estimator_"
   ]
  },
  {
   "cell_type": "markdown",
   "metadata": {},
   "source": [
    "## Ensemble Models"
   ]
  },
  {
   "cell_type": "markdown",
   "metadata": {},
   "source": [
    "#### Best Recall-Ensemble-Model"
   ]
  },
  {
   "cell_type": "code",
   "execution_count": null,
   "metadata": {},
   "outputs": [
    {
     "data": {
      "text/plain": [
       "KNN             0.991857\n",
       "SVM             0.988599\n",
       "XGBoost         0.987378\n",
       "RandomForest    0.977199\n",
       "dtype: float64"
      ]
     },
     "execution_count": 72,
     "metadata": {},
     "output_type": "execute_result"
    }
   ],
   "source": [
    "recall_models = Series(\n",
    "    data=[\n",
    "        recall_score(y_test, knn_best_model.predict(X_test)),\n",
    "        recall_score(y_test, rf_best_model.predict(X_test)),\n",
    "        recall_score(y_test, svm_best_model.predict(X_test)),\n",
    "        recall_score(y_test, xgb_best_model.predict(X_test)),\n",
    "    ],\n",
    "    index=[\"KNN\", \"RandomForest\", \"SVM\", \"XGBoost\"]\n",
    ")\n",
    "\n",
    "recall_models.sort_values(ascending=False)"
   ]
  },
  {
   "cell_type": "code",
   "execution_count": null,
   "metadata": {},
   "outputs": [],
   "source": [
    "knn_model_tuple = (\"knn_best_model\", knn_best_model)\n",
    "xgb_model_tuple = (\"xgb_best_model\", xgb_best_model)\n",
    "svm_model_tuple = (\"svm_best_model\", svm_best_model)\n",
    "rf_model_tuple = (\"rf_best_model\", rf_best_model)\n",
    "\n",
    "model_combo_1 = [knn_model_tuple, xgb_model_tuple, svm_model_tuple]\n",
    "model_combo_2 = [knn_model_tuple, xgb_model_tuple, svm_model_tuple, rf_model_tuple]\n",
    "model_best_combo = [knn_model_tuple, xgb_model_tuple, rf_model_tuple]\n",
    "\n",
    "ensemble_recall_model_1 = VotingClassifier(estimators=model_combo_1)\n",
    "ensemble_recall_model_2 = VotingClassifier(estimators=model_combo_2)\n",
    "best_combo_test_model = VotingClassifier(estimators=model_best_combo)\n",
    "\n",
    "ensemble_recall_model_1.fit(X_train, y_train)\n",
    "ensemble_recall_model_2.fit(X_train, y_train)\n",
    "best_combo_test_model.fit(X_train, y_train);"
   ]
  },
  {
   "cell_type": "code",
   "execution_count": null,
   "metadata": {},
   "outputs": [
    {
     "data": {
      "text/plain": [
       "RECALL_COMBO1           0.994707\n",
       "TEST_BEST_COMBO_F1_R    0.989414\n",
       "RECALL_COMBO2           0.988192\n",
       "dtype: float64"
      ]
     },
     "execution_count": 74,
     "metadata": {},
     "output_type": "execute_result"
    }
   ],
   "source": [
    "recall_ensemble_models = Series(\n",
    "    data=[\n",
    "        recall_score(y_test, ensemble_recall_model_1.predict(X_test)),\n",
    "        recall_score(y_test, ensemble_recall_model_2.predict(X_test)),\n",
    "        recall_score(y_test, best_combo_test_model.predict(X_test)),\n",
    "    ],\n",
    "    index=[\"RECALL_COMBO1\", \"RECALL_COMBO2\", \"TEST_BEST_COMBO_F1_R\"]\n",
    ")\n",
    "\n",
    "recall_ensemble_models.sort_values(ascending=False)"
   ]
  },
  {
   "cell_type": "code",
   "execution_count": null,
   "metadata": {},
   "outputs": [],
   "source": [
    "ensemble_best_recall_model = ensemble_recall_model_1"
   ]
  },
  {
   "cell_type": "code",
   "execution_count": null,
   "metadata": {},
   "outputs": [
    {
     "data": {
      "text/plain": [
       "Ensemble_KNN_XGB_SVM    0.994707\n",
       "KNN                     0.991857\n",
       "Ensemble_KNN_XGB_RF     0.989414\n",
       "SVM                     0.988599\n",
       "XGBoost                 0.987378\n",
       "RandomForest            0.977199\n",
       "dtype: float64"
      ]
     },
     "execution_count": 76,
     "metadata": {},
     "output_type": "execute_result"
    }
   ],
   "source": [
    "recall_models = Series(\n",
    "    data=[\n",
    "        recall_score(y_test, knn_best_model.predict(X_test)),\n",
    "        recall_score(y_test, rf_best_model.predict(X_test)),\n",
    "        recall_score(y_test, svm_best_model.predict(X_test)),\n",
    "        recall_score(y_test, xgb_best_model.predict(X_test)),\n",
    "        recall_score(y_test, ensemble_best_recall_model.predict(X_test)),\n",
    "        recall_score(y_test, best_combo_test_model.predict(X_test)),\n",
    "    ],\n",
    "    index=[\"KNN\", \"RandomForest\", \"SVM\", \"XGBoost\", \"Ensemble_KNN_XGB_SVM\", \"Ensemble_KNN_XGB_RF\"]\n",
    ")\n",
    "\n",
    "recall_models.sort_values(ascending=False)"
   ]
  },
  {
   "cell_type": "code",
   "execution_count": null,
   "metadata": {},
   "outputs": [],
   "source": [
    "best_recall_model = ensemble_best_recall_model"
   ]
  },
  {
   "cell_type": "markdown",
   "metadata": {},
   "source": [
    "#### Best F1-Accuracy-Ensemble-Model"
   ]
  },
  {
   "cell_type": "code",
   "execution_count": null,
   "metadata": {},
   "outputs": [
    {
     "data": {
      "text/plain": [
       "RandomForest            0.924677\n",
       "KNN                     0.920983\n",
       "Ensemble_KNN_XGB_RF     0.917154\n",
       "Ensemble_KNN_XGB_SVM    0.896843\n",
       "XGBoost                 0.894999\n",
       "SVM                     0.884678\n",
       "dtype: float64"
      ]
     },
     "execution_count": 78,
     "metadata": {},
     "output_type": "execute_result"
    }
   ],
   "source": [
    "f1_accuracy_models = Series(\n",
    "    data=[\n",
    "        f1_score(y_test, knn_best_model.predict(X_test)),\n",
    "        f1_score(y_test, rf_best_model.predict(X_test)),\n",
    "        f1_score(y_test, svm_best_model.predict(X_test)),\n",
    "        f1_score(y_test, xgb_best_model.predict(X_test)),\n",
    "        f1_score(y_test, ensemble_best_recall_model.predict(X_test)),\n",
    "        f1_score(y_test, best_combo_test_model.predict(X_test)),\n",
    "    ],\n",
    "    index=[\"KNN\", \"RandomForest\", \"SVM\", \"XGBoost\", \"Ensemble_KNN_XGB_SVM\", \"Ensemble_KNN_XGB_RF\"]\n",
    ")\n",
    "\n",
    "f1_accuracy_models.sort_values(ascending=False)"
   ]
  },
  {
   "cell_type": "code",
   "execution_count": null,
   "metadata": {},
   "outputs": [],
   "source": [
    "knn_model_tuple = (\"knn_best_model\", knn_best_model)\n",
    "xgb_model_tuple = (\"xgb_best_model\", xgb_best_model)\n",
    "svm_model_tuple = (\"svm_best_model\", svm_best_model)\n",
    "rf_model_tuple = (\"rf_best_model\", rf_best_model)\n",
    "\n",
    "model_combo_1 = [rf_model_tuple, knn_model_tuple, xgb_model_tuple]\n",
    "model_combo_2 = [rf_model_tuple, knn_model_tuple, xgb_model_tuple, svm_model_tuple]\n",
    "\n",
    "ensemble_accuracy_model_1 = VotingClassifier(estimators=model_combo_1)\n",
    "ensemble_accuracy_model_2 = VotingClassifier(estimators=model_combo_2)\n",
    "\n",
    "ensemble_accuracy_model_1.fit(X_train, y_train)\n",
    "ensemble_accuracy_model_2.fit(X_train, y_train);"
   ]
  },
  {
   "cell_type": "code",
   "execution_count": null,
   "metadata": {},
   "outputs": [
    {
     "data": {
      "text/plain": [
       "Ensemble_RF_KNN_XGB        0.917012\n",
       "Ensemble_RF_KNN_XGB_SVM    0.916226\n",
       "dtype: float64"
      ]
     },
     "execution_count": 80,
     "metadata": {},
     "output_type": "execute_result"
    }
   ],
   "source": [
    "f1_accuracy_ensemble_models = Series(\n",
    "    data=[\n",
    "        f1_score(y_test, ensemble_accuracy_model_1.predict(X_test)),\n",
    "        f1_score(y_test, ensemble_accuracy_model_2.predict(X_test)),\n",
    "    ],\n",
    "    index=[\"Ensemble_RF_KNN_XGB\", \"Ensemble_RF_KNN_XGB_SVM\"]\n",
    ")\n",
    "\n",
    "f1_accuracy_ensemble_models.sort_values(ascending=False)"
   ]
  },
  {
   "cell_type": "code",
   "execution_count": null,
   "metadata": {},
   "outputs": [
    {
     "name": "stdout",
     "output_type": "stream",
     "text": [
      "Recall-Score:\t0.9898208469055375\t|\tTrain-Accuracy:\t0.9967855200039563\n",
      "F1-Score:\t0.9126537855503417\t|\tTrain-F1-Score:\t0.9564106666676486\n",
      "\n",
      "              precision    recall  f1-score   support\n",
      "\n",
      "           0       0.99      0.84      0.91      2594\n",
      "           1       0.85      0.99      0.92      2456\n",
      "\n",
      "    accuracy                           0.91      5050\n",
      "   macro avg       0.92      0.91      0.91      5050\n",
      "weighted avg       0.92      0.91      0.91      5050\n",
      "\n",
      "Recall-Score:\t0.988599348534202\t|\tTrain-Accuracy:\t0.9955986350823401\n",
      "F1-Score:\t0.9118632075471698\t|\tTrain-F1-Score:\t0.9563153754960942\n",
      "\n",
      "              precision    recall  f1-score   support\n",
      "\n",
      "           0       0.99      0.84      0.91      2594\n",
      "           1       0.85      0.99      0.92      2456\n",
      "\n",
      "    accuracy                           0.91      5050\n",
      "   macro avg       0.92      0.91      0.91      5050\n",
      "weighted avg       0.92      0.91      0.91      5050\n",
      "\n"
     ]
    },
    {
     "data": {
      "image/png": "[encoded data removed]",
      "text/plain": [
       "<Figure size 576x432 with 2 Axes>"
      ]
     },
     "metadata": {},
     "output_type": "display_data"
    },
    {
     "data": {
      "image/png": "[encoded data removed]",
      "text/plain": [
       "<Figure size 576x432 with 2 Axes>"
      ]
     },
     "metadata": {},
     "output_type": "display_data"
    }
   ],
   "source": [
    "print_model_classification_report(ensemble_accuracy_model_1, X_test, y_test)\n",
    "print_model_classification_report(ensemble_accuracy_model_2, X_test, y_test)"
   ]
  },
  {
   "cell_type": "code",
   "execution_count": null,
   "metadata": {},
   "outputs": [],
   "source": [
    "ensemble_best_f1_accuracy_model = ensemble_accuracy_model_2"
   ]
  },
  {
   "cell_type": "code",
   "execution_count": null,
   "metadata": {},
   "outputs": [
    {
     "data": {
      "text/plain": [
       "RandomForest               0.924677\n",
       "KNN                        0.920983\n",
       "Ensemble_KNN_XGB_RF        0.917154\n",
       "Ensemble_RF_KNN_XGB_SVM    0.916226\n",
       "XGBoost                    0.894999\n",
       "SVM                        0.884678\n",
       "dtype: float64"
      ]
     },
     "execution_count": 83,
     "metadata": {},
     "output_type": "execute_result"
    }
   ],
   "source": [
    "accuracy_models = Series(\n",
    "    data=[\n",
    "        f1_score(y_test, knn_best_model.predict(X_test)),\n",
    "        f1_score(y_test, rf_best_model.predict(X_test)),\n",
    "        f1_score(y_test, svm_best_model.predict(X_test)),\n",
    "        f1_score(y_test, xgb_best_model.predict(X_test)),\n",
    "        f1_score(y_test, ensemble_best_f1_accuracy_model.predict(X_test)),\n",
    "        f1_score(y_test, best_combo_test_model.predict(X_test)),\n",
    "    ],\n",
    "    index=[\"KNN\", \"RandomForest\", \"SVM\", \"XGBoost\", \"Ensemble_RF_KNN_XGB_SVM\", \"Ensemble_KNN_XGB_RF\"]\n",
    ")\n",
    "\n",
    "accuracy_models.sort_values(ascending=False)"
   ]
  },
  {
   "cell_type": "code",
   "execution_count": null,
   "metadata": {},
   "outputs": [
    {
     "name": "stdout",
     "output_type": "stream",
     "text": [
      "Recall-Score:\t0.9771986970684039\t|\tTrain-Accuracy:\t0.9904554670886702\n",
      "F1-Score:\t0.9225138515001147\t|\tTrain-F1-Score:\t0.952776031985489\n",
      "\n",
      "              precision    recall  f1-score   support\n",
      "\n",
      "           0       0.98      0.87      0.92      2594\n",
      "           1       0.88      0.98      0.92      2456\n",
      "\n",
      "    accuracy                           0.92      5050\n",
      "   macro avg       0.93      0.92      0.92      5050\n",
      "weighted avg       0.93      0.92      0.92      5050\n",
      "\n",
      "Recall-Score:\t0.99185667752443\t|\tTrain-Accuracy:\t1.0\n",
      "F1-Score:\t0.9170403499325994\t|\tTrain-F1-Score:\t1.0\n",
      "\n",
      "              precision    recall  f1-score   support\n",
      "\n",
      "           0       0.99      0.85      0.91      2594\n",
      "           1       0.86      0.99      0.92      2456\n",
      "\n",
      "    accuracy                           0.92      5050\n",
      "   macro avg       0.93      0.92      0.92      5050\n",
      "weighted avg       0.93      0.92      0.92      5050\n",
      "\n",
      "Recall-Score:\t0.988599348534202\t|\tTrain-Accuracy:\t0.9955986350823401\n",
      "F1-Score:\t0.9118632075471698\t|\tTrain-F1-Score:\t0.9563153754960942\n",
      "\n",
      "              precision    recall  f1-score   support\n",
      "\n",
      "           0       0.99      0.84      0.91      2594\n",
      "           1       0.85      0.99      0.92      2456\n",
      "\n",
      "    accuracy                           0.91      5050\n",
      "   macro avg       0.92      0.91      0.91      5050\n",
      "weighted avg       0.92      0.91      0.91      5050\n",
      "\n"
     ]
    },
    {
     "data": {
      "image/png": "[encoded data removed]",
      "text/plain": [
       "<Figure size 576x432 with 2 Axes>"
      ]
     },
     "metadata": {},
     "output_type": "display_data"
    },
    {
     "data": {
      "image/png": "[encoded data removed]",
      "text/plain": [
       "<Figure size 576x432 with 2 Axes>"
      ]
     },
     "metadata": {},
     "output_type": "display_data"
    },
    {
     "data": {
      "image/png": "[encoded data removed]",
      "text/plain": [
       "<Figure size 576x432 with 2 Axes>"
      ]
     },
     "metadata": {},
     "output_type": "display_data"
    }
   ],
   "source": [
    "print_model_classification_report(rf_best_model, X_test, y_test)\n",
    "print_model_classification_report(knn_best_model, X_test, y_test)\n",
    "print_model_classification_report(ensemble_best_f1_accuracy_model, X_test, y_test)"
   ]
  },
  {
   "cell_type": "code",
   "execution_count": null,
   "metadata": {},
   "outputs": [],
   "source": [
    "best_accuracy_model = rf_best_model"
   ]
  },
  {
   "cell_type": "markdown",
   "metadata": {},
   "source": [
    "# Final Model Selection"
   ]
  },
  {
   "cell_type": "markdown",
   "metadata": {},
   "source": [
    "## Validate Models"
   ]
  },
  {
   "cell_type": "code",
   "execution_count": null,
   "metadata": {},
   "outputs": [
    {
     "data": {
      "text/plain": [
       "Best_Recall_Model          0.996891\n",
       "KNN                        0.994559\n",
       "XGBoost                    0.992616\n",
       "Ensemble_RF_KNN_XGB_SVM    0.991838\n",
       "SVM                        0.991450\n",
       "RandomForest               0.980956\n",
       "dtype: float64"
      ]
     },
     "execution_count": 94,
     "metadata": {},
     "output_type": "execute_result"
    }
   ],
   "source": [
    "recall_models = Series(\n",
    "    data=[\n",
    "        recall_score(y_val, knn_best_model.predict(X_val)),\n",
    "        recall_score(y_val, rf_best_model.predict(X_val)),\n",
    "        recall_score(y_val, svm_best_model.predict(X_val)),\n",
    "        recall_score(y_val, xgb_best_model.predict(X_val)),\n",
    "        recall_score(y_val, best_recall_model.predict(X_val)),\n",
    "        recall_score(y_val, ensemble_best_f1_accuracy_model.predict(X_val)),\n",
    "    ],\n",
    "    index=[\"KNN\", \"RandomForest\", \"SVM\", \"XGBoost\", \"Best_Recall_Model\", \"Ensemble_RF_KNN_XGB_SVM\"]\n",
    ")\n",
    "\n",
    "recall_models.sort_values(ascending=False)"
   ]
  },
  {
   "cell_type": "code",
   "execution_count": null,
   "metadata": {},
   "outputs": [
    {
     "data": {
      "text/plain": [
       "RandomForest               0.933432\n",
       "KNN                        0.931731\n",
       "Ensemble_RF_KNN_XGB_SVM    0.929352\n",
       "XGBoost                    0.914265\n",
       "Best_Recall_Model          0.912487\n",
       "SVM                        0.901413\n",
       "dtype: float64"
      ]
     },
     "execution_count": 96,
     "metadata": {},
     "output_type": "execute_result"
    }
   ],
   "source": [
    "accuracy_models = Series(\n",
    "    data=[\n",
    "        f1_score(y_val, knn_best_model.predict(X_val)),\n",
    "        f1_score(y_val, rf_best_model.predict(X_val)),\n",
    "        f1_score(y_val, svm_best_model.predict(X_val)),\n",
    "        f1_score(y_val, xgb_best_model.predict(X_val)),\n",
    "        f1_score(y_val, best_recall_model.predict(X_val)),\n",
    "        f1_score(y_val, ensemble_best_f1_accuracy_model.predict(X_val)),\n",
    "    ],\n",
    "    index=[\"KNN\", \"RandomForest\", \"SVM\", \"XGBoost\", \"Best_Recall_Model\", \"Ensemble_RF_KNN_XGB_SVM\"]\n",
    ")\n",
    "\n",
    "accuracy_models.sort_values(ascending=False)"
   ]
  },
  {
   "cell_type": "code",
   "execution_count": null,
   "metadata": {},
   "outputs": [
    {
     "name": "stdout",
     "output_type": "stream",
     "text": [
      "Recall-Score:\t0.9968907889623008\t|\tTrain-Accuracy:\t0.9976756836951683\n",
      "F1-Score:\t0.9013080908299225\t|\tTrain-F1-Score:\t0.9029377190753729\n",
      "\n",
      "              precision    recall  f1-score   support\n",
      "\n",
      "           0       1.00      0.80      0.89      2477\n",
      "           1       0.84      1.00      0.91      2573\n",
      "\n",
      "    accuracy                           0.90      5050\n",
      "   macro avg       0.92      0.90      0.90      5050\n",
      "weighted avg       0.92      0.90      0.90      5050\n",
      "\n",
      "Recall-Score:\t0.9945588806840264\t|\tTrain-Accuracy:\t1.0\n",
      "F1-Score:\t0.9251667107862005\t|\tTrain-F1-Score:\t1.0\n",
      "\n",
      "              precision    recall  f1-score   support\n",
      "\n",
      "           0       0.99      0.85      0.92      2477\n",
      "           1       0.88      0.99      0.93      2573\n",
      "\n",
      "    accuracy                           0.93      5050\n",
      "   macro avg       0.93      0.92      0.93      5050\n",
      "weighted avg       0.93      0.93      0.93      5050\n",
      "\n",
      "Recall-Score:\t0.9926156237854644\t|\tTrain-Accuracy:\t0.9943622966223233\n",
      "F1-Score:\t0.9040637172861519\t|\tTrain-F1-Score:\t0.8989542933047826\n",
      "\n",
      "              precision    recall  f1-score   support\n",
      "\n",
      "           0       0.99      0.81      0.89      2477\n",
      "           1       0.85      0.99      0.91      2573\n",
      "\n",
      "    accuracy                           0.91      5050\n",
      "   macro avg       0.92      0.90      0.90      5050\n",
      "weighted avg       0.92      0.91      0.90      5050\n",
      "\n",
      "Recall-Score:\t0.9918383210260396\t|\tTrain-Accuracy:\t0.9955986350823401\n",
      "F1-Score:\t0.9225751977624019\t|\tTrain-F1-Score:\t0.9563153754960942\n",
      "\n",
      "              precision    recall  f1-score   support\n",
      "\n",
      "           0       0.99      0.85      0.92      2477\n",
      "           1       0.87      0.99      0.93      2573\n",
      "\n",
      "    accuracy                           0.92      5050\n",
      "   macro avg       0.93      0.92      0.92      5050\n",
      "weighted avg       0.93      0.92      0.92      5050\n",
      "\n"
     ]
    },
    {
     "data": {
      "image/png": "[encoded data removed]",
      "text/plain": [
       "<Figure size 576x432 with 2 Axes>"
      ]
     },
     "metadata": {},
     "output_type": "display_data"
    },
    {
     "data": {
      "image/png": "[encoded data removed]",
      "text/plain": [
       "<Figure size 576x432 with 2 Axes>"
      ]
     },
     "metadata": {},
     "output_type": "display_data"
    },
    {
     "data": {
      "image/png": "[encoded data removed]",
      "text/plain": [
       "<Figure size 576x432 with 2 Axes>"
      ]
     },
     "metadata": {},
     "output_type": "display_data"
    },
    {
     "data": {
      "image/png": "[encoded data removed]",
      "text/plain": [
       "<Figure size 576x432 with 2 Axes>"
      ]
     },
     "metadata": {},
     "output_type": "display_data"
    }
   ],
   "source": [
    "print_model_classification_report(best_recall_model, X_val, y_val)\n",
    "print_model_classification_report(knn_best_model, X_val, y_val)\n",
    "print_model_classification_report(xgb_best_model, X_val, y_val)\n",
    "print_model_classification_report(ensemble_best_f1_accuracy_model, X_val, y_val)"
   ]
  },
  {
   "cell_type": "markdown",
   "metadata": {},
   "source": [
    "**We choose the best_recall_model, because it is the least overfitted model an has the best Recall-Score, witch is our primary KPI!**"
   ]
  },
  {
   "cell_type": "markdown",
   "metadata": {},
   "source": [
    "## Select Model"
   ]
  },
  {
   "cell_type": "code",
   "execution_count": null,
   "metadata": {},
   "outputs": [
    {
     "name": "stdout",
     "output_type": "stream",
     "text": [
      "REPORT:               precision    recall  f1-score   support\n",
      "\n",
      "           0       1.00      0.80      0.89      2477\n",
      "           1       0.84      1.00      0.91      2573\n",
      "\n",
      "    accuracy                           0.90      5050\n",
      "   macro avg       0.92      0.90      0.90      5050\n",
      "weighted avg       0.92      0.90      0.90      5050\n",
      "\n",
      "RECALL_SCORE:\t 99.689%\n",
      "F1_SCORE:\t 91.249%\n"
     ]
    }
   ],
   "source": [
    "CHOSEN_BEST_MODEL = best_recall_model\n",
    "MODEL_PREDICTIONS = CHOSEN_BEST_MODEL.predict(X_val)\n",
    "MODEL_REPORT = classification_report(y_val, MODEL_PREDICTIONS)\n",
    "RECALL_SCORE = f\"{np.round(recall_score(y_val, MODEL_PREDICTIONS) * 100, 3)}%\"\n",
    "F1_SCORE = f\"{np.round(f1_score(y_val, MODEL_PREDICTIONS) * 100, 3)}%\"\n",
    "\n",
    "print(\"REPORT:\", MODEL_REPORT)\n",
    "print(\"RECALL_SCORE:\\t\", RECALL_SCORE)\n",
    "print(\"F1_SCORE:\\t\", F1_SCORE)"
   ]
  },
  {
   "cell_type": "markdown",
   "metadata": {},
   "source": [
    "# Export the Model"
   ]
  },
  {
   "cell_type": "markdown",
   "metadata": {},
   "source": [
    "## Export"
   ]
  },
  {
   "cell_type": "code",
   "execution_count": null,
   "metadata": {},
   "outputs": [],
   "source": [
    "# import pickle\n",
    "# from datetime import datetime\n",
    "# timestamp_string = str(datetime.now())[:19].replace(\" \", \"\").replace(\":\", \"\").replace(\"-\", \"\")\n",
    "\n",
    "# with open(f\"../trained_models/{timestamp_string}_knn_best_model\", \"wb\") as model_file:\n",
    "#     pickle.dump(CHOSEN_BEST_MODEL, model_file)"
   ]
  },
  {
   "cell_type": "markdown",
   "metadata": {},
   "source": [
    "## Test Import"
   ]
  },
  {
   "cell_type": "code",
   "execution_count": null,
   "metadata": {},
   "outputs": [],
   "source": [
    "# with open(f\"../trained_models/{timestamp_string}_knn_best_model\", \"rb\") as model_file:\n",
    "#     my_imported_model = pickle.load(model_file)\n",
    "\n",
    "# print(classification_report(y_val, my_imported_model.predict(X_val)))"
   ]
  },
  {
   "cell_type": "markdown",
   "metadata": {},
   "source": [
    "# Test Model-Export in Class"
   ]
  },
  {
   "cell_type": "code",
   "execution_count": null,
   "metadata": {},
   "outputs": [],
   "source": [
    "# class ModelWrapper:\n",
    "#     def __init__(self, model, scaler):\n",
    "#         self.model = model\n",
    "#         self.scaler = scaler\n",
    "    \n",
    "#     def predict(self, values):\n",
    "#         prep_values = self.preprocess_values(values)\n",
    "#         pass\n",
    "\n",
    "#     def preprocess_values(self, values):\n",
    "#         pass\n",
    "\n",
    "# my_wrapper_model = ModelWrapper(my_imported_model, None)\n",
    "# timestamp_string = str(datetime.now())[:19].replace(\" \", \"\").replace(\":\", \"\").replace(\"-\", \"\")\n",
    "\n",
    "# with open(f\"../trained_models/{timestamp_string}_wrapper_model_best_model\", \"wb\") as model_file:\n",
    "#     pickle.dump(my_wrapper_model, model_file)"
   ]
  },
  {
   "cell_type": "code",
   "execution_count": null,
   "metadata": {},
   "outputs": [],
   "source": [
    "# with open(f\"../trained_models/{timestamp_string}_wrapper_model_best_model\", \"rb\") as model_file:\n",
    "#     my_imported_wrapper_model = pickle.load(model_file)\n",
    "\n",
    "# print(my_imported_wrapper_model.model)"
   ]
  }
 ],
 "metadata": {
  "kernelspec": {
   "display_name": "Python 3.10.3 64-bit",
   "language": "python",
   "name": "python3"
  },
  "language_info": {
   "codemirror_mode": {
    "name": "ipython",
    "version": 3
   },
   "file_extension": ".py",
   "mimetype": "text/x-python",
   "name": "python",
   "nbconvert_exporter": "python",
   "pygments_lexer": "ipython3",
   "version": "3.10.3"
  },
  "orig_nbformat": 4,
  "vscode": {
   "interpreter": {
    "hash": "aee8b7b246df8f9039afb4144a1f6fd8d2ca17a180786b69acc140d282b71a49"
   }
  }
 },
 "nbformat": 4,
 "nbformat_minor": 2
}
