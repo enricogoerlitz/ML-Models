{
 "cells": [
  {
   "cell_type": "markdown",
   "metadata": {},
   "source": [
    "# Model Development: NASA - Nearest Earth Objects\n",
    "<img src=\"../assets/nasa.jpg\" alt=\"Title-Pic\">"
   ]
  },
  {
   "cell_type": "markdown",
   "metadata": {},
   "source": [
    "# Imports"
   ]
  },
  {
   "cell_type": "code",
   "execution_count": 10,
   "metadata": {},
   "outputs": [],
   "source": [
    "import numpy as np\n",
    "import pandas as pd\n",
    "import matplotlib.pyplot as plt\n",
    "import seaborn as sns\n",
    "import pickle\n",
    "import warnings\n",
    "\n",
    "from datetime import datetime\n",
    "from pandas import Series, DataFrame\n",
    "from xgboost import XGBClassifier\n",
    "from sklearn.ensemble import VotingClassifier, RandomForestClassifier\n",
    "from sklearn.neighbors import KNeighborsClassifier\n",
    "from sklearn.svm import SVC\n",
    "from sklearn.preprocessing import StandardScaler\n",
    "from sklearn.model_selection import train_test_split, GridSearchCV\n",
    "from sklearn.metrics import classification_report, confusion_matrix, recall_score, f1_score\n",
    "\n",
    "\n",
    "np.set_printoptions(suppress=True)\n",
    "sns.set(rc={\"figure.figsize\": (12, 7), \"axes.titlesize\": 20, \"axes.titleweight\": \"bold\", \"axes.labelsize\": 15})\n",
    "warnings.filterwarnings('ignore')"
   ]
  },
  {
   "cell_type": "markdown",
   "metadata": {},
   "source": [
    "# Data"
   ]
  },
  {
   "cell_type": "code",
   "execution_count": 11,
   "metadata": {},
   "outputs": [
    {
     "data": {
      "text/plain": [
       "(((40400, 4), (5050, 4), (5050, 4)), ((40400,), (5050, 1), (5050, 1)))"
      ]
     },
     "execution_count": 11,
     "metadata": {},
     "output_type": "execute_result"
    }
   ],
   "source": [
    "MODEL_DATA = np.load(\"../model_data/nasa_prep_data.npz\", allow_pickle=True)\n",
    "inputs = MODEL_DATA[\"inputs\"]\n",
    "targets = MODEL_DATA[\"targets\"]\n",
    "DATA_COLUMN_NAMES = MODEL_DATA[\"input_column_names\"]\n",
    "\n",
    "X_train, X_tmp_test, y_train, y_tmp_test = train_test_split(inputs, targets, test_size=0.2, random_state=101)\n",
    "X_test, X_val, y_test, y_val = train_test_split(X_tmp_test, y_tmp_test, test_size=0.5, random_state=101)\n",
    "\n",
    "y_train = y_train.reshape(-1)\n",
    "\n",
    "(X_train.shape, X_test.shape, X_val.shape), (y_train.shape, y_test.shape, y_val.shape)"
   ]
  },
  {
   "cell_type": "markdown",
   "metadata": {},
   "source": [
    "# Build the Model"
   ]
  },
  {
   "cell_type": "markdown",
   "metadata": {},
   "source": [
    "## Helper Functions"
   ]
  },
  {
   "cell_type": "code",
   "execution_count": 12,
   "metadata": {},
   "outputs": [],
   "source": [
    "def export_model(model, model_name):\n",
    "    timestamp_string = str(datetime.now())[:19].replace(\" \", \"\").replace(\":\", \"\").replace(\"-\", \"\")\n",
    "    export_path = f\"../trained_models/{timestamp_string}_{model_name}\"\n",
    "    with open(export_path, \"wb\") as model_file:\n",
    "        pickle.dump(model, model_file)\n",
    "    \n",
    "    return export_path\n",
    "\n",
    "def load_model(model_path):\n",
    "    with open(model_path, \"rb\") as model_file:\n",
    "        return pickle.load(model_file)"
   ]
  },
  {
   "cell_type": "code",
   "execution_count": 13,
   "metadata": {},
   "outputs": [],
   "source": [
    "def print_top_rankings(grid_model, top=10):\n",
    "    sorted_zipped_report = sorted(\n",
    "        zip(\n",
    "            grid_model.cv_results_[\"params\"], \n",
    "            grid_model.cv_results_[\"mean_test_score\"], \n",
    "            grid_model.cv_results_[\"rank_test_score\"]\n",
    "        ), key=lambda item: item[2]\n",
    "    )\n",
    "    for (i, (params, score, rank)) in enumerate(sorted_zipped_report):\n",
    "        if i >= top:\n",
    "            break\n",
    "\n",
    "        print(f\"Rank: {rank}\\tScore: {score}\\nParam: {params}\\n\")\n",
    "\n",
    "def print_model_classification_report(model, X_data, y_data):\n",
    "    preds_test = model.predict(X_data)\n",
    "    preds_train = model.predict(X_train)\n",
    "\n",
    "    f1_score_test = f1_score(y_data, preds_test, average=\"macro\")\n",
    "    recall_score_test = recall_score(y_data, preds_test)\n",
    "    f1_score_train = f1_score(y_train, preds_train, average=\"macro\")\n",
    "    recall_score_train = recall_score(y_train, preds_train)\n",
    "\n",
    "    print(f\"Recall-Score:\\t{recall_score_test}\\t|\\tTrain-Recall-Score:\\t{recall_score_train}\")\n",
    "    print(f\"F1-Score:\\t{f1_score_test}\\t|\\tTrain-F1-Score:\\t\\t{f1_score_train}\\n\")\n",
    "    print(classification_report(y_data, preds_test))\n",
    "\n",
    "    plt.figure(figsize=(8, 6))\n",
    "    sns.heatmap(confusion_matrix(y_data, preds_test), annot=True, cmap=\"cool\", fmt='.5g')\n",
    "\n",
    "def print_feature_importance(model):\n",
    "    return Series(data=model.feature_importances_, index=DATA_COLUMN_NAMES).sort_values(ascending=False)"
   ]
  },
  {
   "cell_type": "markdown",
   "metadata": {},
   "source": [
    "## Model1: KNN Model"
   ]
  },
  {
   "cell_type": "code",
   "execution_count": 14,
   "metadata": {},
   "outputs": [
    {
     "name": "stdout",
     "output_type": "stream",
     "text": [
      "Fitting 5 folds for each of 8 candidates, totalling 40 fits\n",
      "[CV 1/5] END metric=manhattan, n_neighbors=8, weights=uniform;, score=0.983 total time=   0.1s\n",
      "[CV 2/5] END metric=manhattan, n_neighbors=8, weights=uniform;, score=0.985 total time=   0.1s\n",
      "[CV 3/5] END metric=manhattan, n_neighbors=8, weights=uniform;, score=0.985 total time=   0.1s\n",
      "[CV 4/5] END metric=manhattan, n_neighbors=8, weights=uniform;, score=0.980 total time=   0.1s\n",
      "[CV 5/5] END metric=manhattan, n_neighbors=8, weights=uniform;, score=0.979 total time=   0.1s\n",
      "[CV 1/5] END metric=manhattan, n_neighbors=8, weights=distance;, score=0.991 total time=   0.0s\n",
      "[CV 2/5] END metric=manhattan, n_neighbors=8, weights=distance;, score=0.993 total time=   0.0s\n",
      "[CV 3/5] END metric=manhattan, n_neighbors=8, weights=distance;, score=0.993 total time=   0.0s\n",
      "[CV 4/5] END metric=manhattan, n_neighbors=8, weights=distance;, score=0.986 total time=   0.0s\n",
      "[CV 5/5] END metric=manhattan, n_neighbors=8, weights=distance;, score=0.992 total time=   0.0s\n",
      "[CV 1/5] END metric=manhattan, n_neighbors=10, weights=uniform;, score=0.985 total time=   0.1s\n",
      "[CV 2/5] END metric=manhattan, n_neighbors=10, weights=uniform;, score=0.985 total time=   0.1s\n",
      "[CV 3/5] END metric=manhattan, n_neighbors=10, weights=uniform;, score=0.986 total time=   0.1s\n",
      "[CV 4/5] END metric=manhattan, n_neighbors=10, weights=uniform;, score=0.982 total time=   0.1s\n",
      "[CV 5/5] END metric=manhattan, n_neighbors=10, weights=uniform;, score=0.981 total time=   0.1s\n",
      "[CV 1/5] END metric=manhattan, n_neighbors=10, weights=distance;, score=0.992 total time=   0.0s\n",
      "[CV 2/5] END metric=manhattan, n_neighbors=10, weights=distance;, score=0.994 total time=   0.0s\n",
      "[CV 3/5] END metric=manhattan, n_neighbors=10, weights=distance;, score=0.994 total time=   0.0s\n",
      "[CV 4/5] END metric=manhattan, n_neighbors=10, weights=distance;, score=0.988 total time=   0.0s\n",
      "[CV 5/5] END metric=manhattan, n_neighbors=10, weights=distance;, score=0.992 total time=   0.0s\n",
      "[CV 1/5] END metric=euclidean, n_neighbors=8, weights=uniform;, score=0.984 total time=   0.1s\n",
      "[CV 2/5] END metric=euclidean, n_neighbors=8, weights=uniform;, score=0.985 total time=   0.1s\n",
      "[CV 3/5] END metric=euclidean, n_neighbors=8, weights=uniform;, score=0.987 total time=   0.1s\n",
      "[CV 4/5] END metric=euclidean, n_neighbors=8, weights=uniform;, score=0.980 total time=   0.1s\n",
      "[CV 5/5] END metric=euclidean, n_neighbors=8, weights=uniform;, score=0.979 total time=   0.1s\n",
      "[CV 1/5] END metric=euclidean, n_neighbors=8, weights=distance;, score=0.992 total time=   0.0s\n",
      "[CV 2/5] END metric=euclidean, n_neighbors=8, weights=distance;, score=0.994 total time=   0.0s\n",
      "[CV 3/5] END metric=euclidean, n_neighbors=8, weights=distance;, score=0.992 total time=   0.0s\n",
      "[CV 4/5] END metric=euclidean, n_neighbors=8, weights=distance;, score=0.989 total time=   0.0s\n",
      "[CV 5/5] END metric=euclidean, n_neighbors=8, weights=distance;, score=0.992 total time=   0.0s\n",
      "[CV 1/5] END metric=euclidean, n_neighbors=10, weights=uniform;, score=0.985 total time=   0.1s\n",
      "[CV 2/5] END metric=euclidean, n_neighbors=10, weights=uniform;, score=0.985 total time=   0.1s\n",
      "[CV 3/5] END metric=euclidean, n_neighbors=10, weights=uniform;, score=0.988 total time=   0.1s\n",
      "[CV 4/5] END metric=euclidean, n_neighbors=10, weights=uniform;, score=0.982 total time=   0.1s\n",
      "[CV 5/5] END metric=euclidean, n_neighbors=10, weights=uniform;, score=0.981 total time=   0.1s\n",
      "[CV 1/5] END metric=euclidean, n_neighbors=10, weights=distance;, score=0.993 total time=   0.0s\n",
      "[CV 2/5] END metric=euclidean, n_neighbors=10, weights=distance;, score=0.994 total time=   0.0s\n",
      "[CV 3/5] END metric=euclidean, n_neighbors=10, weights=distance;, score=0.994 total time=   0.0s\n",
      "[CV 4/5] END metric=euclidean, n_neighbors=10, weights=distance;, score=0.989 total time=   0.0s\n",
      "[CV 5/5] END metric=euclidean, n_neighbors=10, weights=distance;, score=0.993 total time=   0.0s\n"
     ]
    }
   ],
   "source": [
    "knn_tmp_model = KNeighborsClassifier()\n",
    "\n",
    "knn_grid_params = {\n",
    "    \"n_neighbors\": np.arange(8, 12, 2),\n",
    "    \"metric\": [\"manhattan\", \"euclidean\"],\n",
    "    \"weights\": [\"uniform\", \"distance\"]\n",
    "}\n",
    "\n",
    "knn_grid_model = GridSearchCV(knn_tmp_model, knn_grid_params, cv=5, scoring=\"recall\", verbose=3)\n",
    "\n",
    "knn_grid_model.fit(X_train, y_train);"
   ]
  },
  {
   "cell_type": "code",
   "execution_count": 15,
   "metadata": {},
   "outputs": [
    {
     "data": {
      "text/plain": [
       "{'metric': 'euclidean', 'n_neighbors': 10, 'weights': 'distance'}"
      ]
     },
     "execution_count": 15,
     "metadata": {},
     "output_type": "execute_result"
    }
   ],
   "source": [
    "knn_grid_model.best_params_"
   ]
  },
  {
   "cell_type": "code",
   "execution_count": 16,
   "metadata": {},
   "outputs": [
    {
     "name": "stdout",
     "output_type": "stream",
     "text": [
      "Recall-Score:\t0.99185667752443\t|\tTrain-Recall-Score:\t1.0\n",
      "F1-Score:\t0.9170403499325994\t|\tTrain-F1-Score:\t\t1.0\n",
      "\n",
      "              precision    recall  f1-score   support\n",
      "\n",
      "           0       0.99      0.85      0.91      2594\n",
      "           1       0.86      0.99      0.92      2456\n",
      "\n",
      "    accuracy                           0.92      5050\n",
      "   macro avg       0.93      0.92      0.92      5050\n",
      "weighted avg       0.93      0.92      0.92      5050\n",
      "\n"
     ]
    },
    {
     "data": {
      "image/png": "[encoded data removed]",
      "text/plain": [
       "<Figure size 576x432 with 2 Axes>"
      ]
     },
     "metadata": {},
     "output_type": "display_data"
    }
   ],
   "source": [
    "print_model_classification_report(knn_grid_model.best_estimator_, X_test, y_test)"
   ]
  },
  {
   "cell_type": "code",
   "execution_count": 17,
   "metadata": {},
   "outputs": [
    {
     "name": "stdout",
     "output_type": "stream",
     "text": [
      "Rank: 1\tScore: 0.9925325009567196\n",
      "Param: {'metric': 'euclidean', 'n_neighbors': 10, 'weights': 'distance'}\n",
      "\n",
      "Rank: 2\tScore: 0.9919390780524246\n",
      "Param: {'metric': 'manhattan', 'n_neighbors': 10, 'weights': 'distance'}\n",
      "\n",
      "Rank: 3\tScore: 0.9918896098418021\n",
      "Param: {'metric': 'euclidean', 'n_neighbors': 8, 'weights': 'distance'}\n",
      "\n",
      "Rank: 4\tScore: 0.9910488581108424\n",
      "Param: {'metric': 'manhattan', 'n_neighbors': 8, 'weights': 'distance'}\n",
      "\n",
      "Rank: 5\tScore: 0.9841750387272757\n",
      "Param: {'metric': 'euclidean', 'n_neighbors': 10, 'weights': 'uniform'}\n",
      "\n"
     ]
    }
   ],
   "source": [
    "print_top_rankings(knn_grid_model, 5)"
   ]
  },
  {
   "cell_type": "code",
   "execution_count": 18,
   "metadata": {},
   "outputs": [],
   "source": [
    "knn_best_model = knn_grid_model.best_estimator_"
   ]
  },
  {
   "cell_type": "markdown",
   "metadata": {},
   "source": [
    "## Model2: RandomForest Model"
   ]
  },
  {
   "cell_type": "code",
   "execution_count": 19,
   "metadata": {},
   "outputs": [
    {
     "name": "stdout",
     "output_type": "stream",
     "text": [
      "Fitting 5 folds for each of 1 candidates, totalling 5 fits\n",
      "[CV 1/5] END bootstrap=True, criterion=gini, max_depth=90, max_samples=0.9, min_samples_leaf=6, min_samples_split=7, n_estimators=700;, score=0.982 total time=  23.1s\n",
      "[CV 2/5] END bootstrap=True, criterion=gini, max_depth=90, max_samples=0.9, min_samples_leaf=6, min_samples_split=7, n_estimators=700;, score=0.982 total time=  23.1s\n",
      "[CV 3/5] END bootstrap=True, criterion=gini, max_depth=90, max_samples=0.9, min_samples_leaf=6, min_samples_split=7, n_estimators=700;, score=0.982 total time=  22.7s\n",
      "[CV 4/5] END bootstrap=True, criterion=gini, max_depth=90, max_samples=0.9, min_samples_leaf=6, min_samples_split=7, n_estimators=700;, score=0.976 total time=  22.9s\n",
      "[CV 5/5] END bootstrap=True, criterion=gini, max_depth=90, max_samples=0.9, min_samples_leaf=6, min_samples_split=7, n_estimators=700;, score=0.976 total time=  22.8s\n"
     ]
    }
   ],
   "source": [
    "rf_tmp_model = RandomForestClassifier()\n",
    "\n",
    "rf_grid_params = {\n",
    "    \"criterion\": [\"gini\"],\n",
    "    \"max_depth\": [90],\n",
    "    \"min_samples_split\": [7],\n",
    "    \"min_samples_leaf\": [6],\n",
    "    \"n_estimators\": [700],\n",
    "    \"max_samples\": [0.9],\n",
    "    \"bootstrap\": [True]\n",
    "}\n",
    "\n",
    "rf_grid_model = GridSearchCV(rf_tmp_model, rf_grid_params, cv=5, scoring=\"recall\", verbose=3)\n",
    "\n",
    "rf_grid_model.fit(X_train, y_train);"
   ]
  },
  {
   "cell_type": "code",
   "execution_count": 20,
   "metadata": {},
   "outputs": [
    {
     "data": {
      "text/plain": [
       "{'bootstrap': True,\n",
       " 'criterion': 'gini',\n",
       " 'max_depth': 90,\n",
       " 'max_samples': 0.9,\n",
       " 'min_samples_leaf': 6,\n",
       " 'min_samples_split': 7,\n",
       " 'n_estimators': 700}"
      ]
     },
     "execution_count": 20,
     "metadata": {},
     "output_type": "execute_result"
    }
   ],
   "source": [
    "rf_grid_model.best_params_"
   ]
  },
  {
   "cell_type": "code",
   "execution_count": 21,
   "metadata": {},
   "outputs": [
    {
     "name": "stdout",
     "output_type": "stream",
     "text": [
      "Recall-Score:\t0.9784201954397395\t|\tTrain-Recall-Score:\t0.9904554670886702\n",
      "F1-Score:\t0.9231057944026166\t|\tTrain-F1-Score:\t\t0.9530497021796187\n",
      "\n",
      "              precision    recall  f1-score   support\n",
      "\n",
      "           0       0.98      0.87      0.92      2594\n",
      "           1       0.88      0.98      0.93      2456\n",
      "\n",
      "    accuracy                           0.92      5050\n",
      "   macro avg       0.93      0.92      0.92      5050\n",
      "weighted avg       0.93      0.92      0.92      5050\n",
      "\n"
     ]
    },
    {
     "data": {
      "image/png": "[encoded data removed]",
      "text/plain": [
       "<Figure size 576x432 with 2 Axes>"
      ]
     },
     "metadata": {},
     "output_type": "display_data"
    }
   ],
   "source": [
    "print_model_classification_report(rf_grid_model.best_estimator_, X_test, y_test)"
   ]
  },
  {
   "cell_type": "code",
   "execution_count": 22,
   "metadata": {},
   "outputs": [
    {
     "name": "stdout",
     "output_type": "stream",
     "text": [
      "Rank: 1\tScore: 0.979476976986156\n",
      "Param: {'bootstrap': True, 'criterion': 'gini', 'max_depth': 90, 'max_samples': 0.9, 'min_samples_leaf': 6, 'min_samples_split': 7, 'n_estimators': 700}\n",
      "\n"
     ]
    }
   ],
   "source": [
    "print_top_rankings(rf_grid_model, 10)"
   ]
  },
  {
   "cell_type": "code",
   "execution_count": 23,
   "metadata": {},
   "outputs": [],
   "source": [
    "rf_best_model = rf_grid_model.best_estimator_"
   ]
  },
  {
   "cell_type": "markdown",
   "metadata": {},
   "source": [
    "## Model3: SVM Model"
   ]
  },
  {
   "cell_type": "code",
   "execution_count": 24,
   "metadata": {},
   "outputs": [
    {
     "name": "stdout",
     "output_type": "stream",
     "text": [
      "Fitting 5 folds for each of 1 candidates, totalling 5 fits\n",
      "[CV 1/5] END C=7, coef0=0.8, degree=1.5, gamma=auto, kernel=rbf;, score=0.994 total time=  10.0s\n",
      "[CV 2/5] END C=7, coef0=0.8, degree=1.5, gamma=auto, kernel=rbf;, score=0.990 total time=  10.1s\n",
      "[CV 3/5] END C=7, coef0=0.8, degree=1.5, gamma=auto, kernel=rbf;, score=0.989 total time=   9.6s\n",
      "[CV 4/5] END C=7, coef0=0.8, degree=1.5, gamma=auto, kernel=rbf;, score=0.990 total time=  10.0s\n",
      "[CV 5/5] END C=7, coef0=0.8, degree=1.5, gamma=auto, kernel=rbf;, score=0.992 total time=   9.8s\n"
     ]
    }
   ],
   "source": [
    "svm_tmp_model = SVC()\n",
    "\n",
    "svm_grid_params = {\n",
    "    \"C\": [7],\n",
    "    \"gamma\": [\"auto\"],\n",
    "    \"kernel\": [\"rbf\"],\n",
    "    \"degree\": [1.5],\n",
    "    \"coef0\": [0.8]\n",
    "}\n",
    "\n",
    "svm_grid_model = GridSearchCV(svm_tmp_model, svm_grid_params, cv=5, scoring=\"recall\", verbose=3)\n",
    "\n",
    "svm_grid_model.fit(X_train, y_train);"
   ]
  },
  {
   "cell_type": "code",
   "execution_count": 25,
   "metadata": {},
   "outputs": [
    {
     "data": {
      "text/plain": [
       "{'C': 7, 'coef0': 0.8, 'degree': 1.5, 'gamma': 'auto', 'kernel': 'rbf'}"
      ]
     },
     "execution_count": 25,
     "metadata": {},
     "output_type": "execute_result"
    }
   ],
   "source": [
    "svm_grid_model.best_params_"
   ]
  },
  {
   "cell_type": "code",
   "execution_count": 26,
   "metadata": {},
   "outputs": [
    {
     "name": "stdout",
     "output_type": "stream",
     "text": [
      "Recall-Score:\t0.988599348534202\t|\tTrain-Recall-Score:\t0.9908510953958756\n",
      "F1-Score:\t0.8736990157045623\t|\tTrain-F1-Score:\t\t0.8779123124066535\n",
      "\n",
      "              precision    recall  f1-score   support\n",
      "\n",
      "           0       0.99      0.77      0.86      2594\n",
      "           1       0.80      0.99      0.88      2456\n",
      "\n",
      "    accuracy                           0.87      5050\n",
      "   macro avg       0.89      0.88      0.87      5050\n",
      "weighted avg       0.90      0.87      0.87      5050\n",
      "\n"
     ]
    },
    {
     "data": {
      "image/png": "[encoded data removed]",
      "text/plain": [
       "<Figure size 576x432 with 2 Axes>"
      ]
     },
     "metadata": {},
     "output_type": "display_data"
    }
   ],
   "source": [
    "print_model_classification_report(svm_grid_model.best_estimator_, X_test, y_test)"
   ]
  },
  {
   "cell_type": "code",
   "execution_count": 27,
   "metadata": {},
   "outputs": [
    {
     "name": "stdout",
     "output_type": "stream",
     "text": [
      "Rank: 1\tScore: 0.9908510586270433\n",
      "Param: {'C': 7, 'coef0': 0.8, 'degree': 1.5, 'gamma': 'auto', 'kernel': 'rbf'}\n",
      "\n"
     ]
    }
   ],
   "source": [
    "print_top_rankings(svm_grid_model, 10)"
   ]
  },
  {
   "cell_type": "code",
   "execution_count": 28,
   "metadata": {},
   "outputs": [],
   "source": [
    "svm_best_model = svm_grid_model.best_estimator_"
   ]
  },
  {
   "cell_type": "markdown",
   "metadata": {},
   "source": [
    "## Model4: GradientBoost Model"
   ]
  },
  {
   "cell_type": "code",
   "execution_count": 29,
   "metadata": {},
   "outputs": [
    {
     "name": "stdout",
     "output_type": "stream",
     "text": [
      "Fitting 5 folds for each of 1 candidates, totalling 5 fits\n",
      "[CV 1/5] END colsample_bytree=0.65, eta=0.05, eval_metric=logloss, gamma=4, learning_rate=0.005, max_depth=10, min_child_weight=7, n_estimators=700, subsample=0.55;, score=0.997 total time=   7.4s\n",
      "[CV 2/5] END colsample_bytree=0.65, eta=0.05, eval_metric=logloss, gamma=4, learning_rate=0.005, max_depth=10, min_child_weight=7, n_estimators=700, subsample=0.55;, score=0.992 total time=   7.3s\n",
      "[CV 3/5] END colsample_bytree=0.65, eta=0.05, eval_metric=logloss, gamma=4, learning_rate=0.005, max_depth=10, min_child_weight=7, n_estimators=700, subsample=0.55;, score=0.992 total time=   7.4s\n",
      "[CV 4/5] END colsample_bytree=0.65, eta=0.05, eval_metric=logloss, gamma=4, learning_rate=0.005, max_depth=10, min_child_weight=7, n_estimators=700, subsample=0.55;, score=0.990 total time=   7.2s\n",
      "[CV 5/5] END colsample_bytree=0.65, eta=0.05, eval_metric=logloss, gamma=4, learning_rate=0.005, max_depth=10, min_child_weight=7, n_estimators=700, subsample=0.55;, score=0.991 total time=   7.5s\n"
     ]
    }
   ],
   "source": [
    "xgb_tmp_model = XGBClassifier(nthread=-1,)\n",
    "\n",
    "xgb_grid_params = {\n",
    "    \"eval_metric\": [\"logloss\"],\n",
    "    \"learning_rate\": [0.005],\n",
    "    \"min_child_weight\": [7],\n",
    "    \"n_estimators\": [700],\n",
    "    \"eta\": [0.05],\n",
    "    \"gamma\": [4],\n",
    "    \"subsample\": [0.55],\n",
    "    \"max_depth\": [10],\n",
    "    \"colsample_bytree\": [0.65]\n",
    "}\n",
    "\n",
    "xgb_grid_model = GridSearchCV(xgb_tmp_model, xgb_grid_params, cv=5, scoring=\"recall\", verbose=3)\n",
    "\n",
    "xgb_grid_model.fit(X_train, y_train);"
   ]
  },
  {
   "cell_type": "code",
   "execution_count": 30,
   "metadata": {},
   "outputs": [
    {
     "data": {
      "text/plain": [
       "{'colsample_bytree': 0.65,\n",
       " 'eta': 0.05,\n",
       " 'eval_metric': 'logloss',\n",
       " 'gamma': 4,\n",
       " 'learning_rate': 0.005,\n",
       " 'max_depth': 10,\n",
       " 'min_child_weight': 7,\n",
       " 'n_estimators': 700,\n",
       " 'subsample': 0.55}"
      ]
     },
     "execution_count": 30,
     "metadata": {},
     "output_type": "execute_result"
    }
   ],
   "source": [
    "xgb_grid_model.best_params_"
   ]
  },
  {
   "cell_type": "code",
   "execution_count": 31,
   "metadata": {},
   "outputs": [
    {
     "name": "stdout",
     "output_type": "stream",
     "text": [
      "Recall-Score:\t0.9873778501628665\t|\tTrain-Recall-Score:\t0.9943622966223233\n",
      "F1-Score:\t0.886721927038821\t|\tTrain-F1-Score:\t\t0.8989542933047826\n",
      "\n",
      "              precision    recall  f1-score   support\n",
      "\n",
      "           0       0.99      0.79      0.88      2594\n",
      "           1       0.82      0.99      0.89      2456\n",
      "\n",
      "    accuracy                           0.89      5050\n",
      "   macro avg       0.90      0.89      0.89      5050\n",
      "weighted avg       0.90      0.89      0.89      5050\n",
      "\n"
     ]
    },
    {
     "data": {
      "image/png": "[encoded data removed]",
      "text/plain": [
       "<Figure size 576x432 with 2 Axes>"
      ]
     },
     "metadata": {},
     "output_type": "display_data"
    }
   ],
   "source": [
    "print_model_classification_report(xgb_grid_model.best_estimator_, X_test, y_test)"
   ]
  },
  {
   "cell_type": "code",
   "execution_count": 32,
   "metadata": {},
   "outputs": [
    {
     "name": "stdout",
     "output_type": "stream",
     "text": [
      "Rank: 1\tScore: 0.9921863824261921\n",
      "Param: {'colsample_bytree': 0.65, 'eta': 0.05, 'eval_metric': 'logloss', 'gamma': 4, 'learning_rate': 0.005, 'max_depth': 10, 'min_child_weight': 7, 'n_estimators': 700, 'subsample': 0.55}\n",
      "\n"
     ]
    }
   ],
   "source": [
    "print_top_rankings(xgb_grid_model, 10)"
   ]
  },
  {
   "cell_type": "code",
   "execution_count": 33,
   "metadata": {},
   "outputs": [],
   "source": [
    "xgb_best_model = xgb_grid_model.best_estimator_"
   ]
  },
  {
   "cell_type": "markdown",
   "metadata": {},
   "source": [
    "## Ensemble Models"
   ]
  },
  {
   "cell_type": "markdown",
   "metadata": {},
   "source": [
    "#### Best Recall-Ensemble-Model"
   ]
  },
  {
   "cell_type": "code",
   "execution_count": 34,
   "metadata": {},
   "outputs": [
    {
     "data": {
      "text/plain": [
       "KNN             0.991857\n",
       "SVM             0.988599\n",
       "XGBoost         0.987378\n",
       "RandomForest    0.978420\n",
       "dtype: float64"
      ]
     },
     "execution_count": 34,
     "metadata": {},
     "output_type": "execute_result"
    }
   ],
   "source": [
    "recall_models = Series(\n",
    "    data=[\n",
    "        recall_score(y_test, knn_best_model.predict(X_test)),\n",
    "        recall_score(y_test, rf_best_model.predict(X_test)),\n",
    "        recall_score(y_test, svm_best_model.predict(X_test)),\n",
    "        recall_score(y_test, xgb_best_model.predict(X_test)),\n",
    "    ],\n",
    "    index=[\"KNN\", \"RandomForest\", \"SVM\", \"XGBoost\"]\n",
    ")\n",
    "\n",
    "recall_models.sort_values(ascending=False)"
   ]
  },
  {
   "cell_type": "code",
   "execution_count": 35,
   "metadata": {},
   "outputs": [],
   "source": [
    "knn_model_tuple = (\"knn_best_model\", knn_best_model)\n",
    "xgb_model_tuple = (\"xgb_best_model\", xgb_best_model)\n",
    "svm_model_tuple = (\"svm_best_model\", svm_best_model)\n",
    "rf_model_tuple = (\"rf_best_model\", rf_best_model)\n",
    "\n",
    "model_combo_1 = [knn_model_tuple, xgb_model_tuple, svm_model_tuple]\n",
    "model_combo_2 = [knn_model_tuple, xgb_model_tuple, svm_model_tuple, rf_model_tuple]\n",
    "model_best_combo = [knn_model_tuple, xgb_model_tuple, rf_model_tuple]\n",
    "\n",
    "ensemble_recall_model_1 = VotingClassifier(estimators=model_combo_1)\n",
    "ensemble_recall_model_2 = VotingClassifier(estimators=model_combo_2)\n",
    "best_combo_test_model = VotingClassifier(estimators=model_best_combo)\n",
    "\n",
    "ensemble_recall_model_1.fit(X_train, y_train)\n",
    "ensemble_recall_model_2.fit(X_train, y_train)\n",
    "best_combo_test_model.fit(X_train, y_train);"
   ]
  },
  {
   "cell_type": "code",
   "execution_count": 36,
   "metadata": {},
   "outputs": [
    {
     "data": {
      "text/plain": [
       "RECALL_COMBO1           0.994707\n",
       "TEST_BEST_COMBO_F1_R    0.989414\n",
       "RECALL_COMBO2           0.988192\n",
       "dtype: float64"
      ]
     },
     "execution_count": 36,
     "metadata": {},
     "output_type": "execute_result"
    }
   ],
   "source": [
    "recall_ensemble_models = Series(\n",
    "    data=[\n",
    "        recall_score(y_test, ensemble_recall_model_1.predict(X_test)),\n",
    "        recall_score(y_test, ensemble_recall_model_2.predict(X_test)),\n",
    "        recall_score(y_test, best_combo_test_model.predict(X_test)),\n",
    "    ],\n",
    "    index=[\"RECALL_COMBO1\", \"RECALL_COMBO2\", \"TEST_BEST_COMBO_F1_R\"]\n",
    ")\n",
    "\n",
    "recall_ensemble_models.sort_values(ascending=False)"
   ]
  },
  {
   "cell_type": "code",
   "execution_count": 37,
   "metadata": {},
   "outputs": [],
   "source": [
    "ensemble_best_recall_model = ensemble_recall_model_1"
   ]
  },
  {
   "cell_type": "code",
   "execution_count": 38,
   "metadata": {},
   "outputs": [
    {
     "data": {
      "text/plain": [
       "Ensemble_KNN_XGB_SVM    0.994707\n",
       "KNN                     0.991857\n",
       "Ensemble_KNN_XGB_RF     0.989414\n",
       "SVM                     0.988599\n",
       "XGBoost                 0.987378\n",
       "RandomForest            0.978420\n",
       "dtype: float64"
      ]
     },
     "execution_count": 38,
     "metadata": {},
     "output_type": "execute_result"
    }
   ],
   "source": [
    "recall_models = Series(\n",
    "    data=[\n",
    "        recall_score(y_test, knn_best_model.predict(X_test)),\n",
    "        recall_score(y_test, rf_best_model.predict(X_test)),\n",
    "        recall_score(y_test, svm_best_model.predict(X_test)),\n",
    "        recall_score(y_test, xgb_best_model.predict(X_test)),\n",
    "        recall_score(y_test, ensemble_best_recall_model.predict(X_test)),\n",
    "        recall_score(y_test, best_combo_test_model.predict(X_test)),\n",
    "    ],\n",
    "    index=[\"KNN\", \"RandomForest\", \"SVM\", \"XGBoost\", \"Ensemble_KNN_XGB_SVM\", \"Ensemble_KNN_XGB_RF\"]\n",
    ")\n",
    "\n",
    "recall_models.sort_values(ascending=False)"
   ]
  },
  {
   "cell_type": "code",
   "execution_count": 39,
   "metadata": {},
   "outputs": [],
   "source": [
    "best_recall_model = ensemble_best_recall_model"
   ]
  },
  {
   "cell_type": "markdown",
   "metadata": {},
   "source": [
    "#### Best F1-Accuracy-Ensemble-Model"
   ]
  },
  {
   "cell_type": "code",
   "execution_count": 40,
   "metadata": {},
   "outputs": [
    {
     "data": {
      "text/plain": [
       "RandomForest            0.925298\n",
       "KNN                     0.920983\n",
       "Ensemble_KNN_XGB_RF     0.916635\n",
       "Ensemble_KNN_XGB_SVM    0.896843\n",
       "XGBoost                 0.894999\n",
       "SVM                     0.884678\n",
       "dtype: float64"
      ]
     },
     "execution_count": 40,
     "metadata": {},
     "output_type": "execute_result"
    }
   ],
   "source": [
    "f1_accuracy_models = Series(\n",
    "    data=[\n",
    "        f1_score(y_test, knn_best_model.predict(X_test)),\n",
    "        f1_score(y_test, rf_best_model.predict(X_test)),\n",
    "        f1_score(y_test, svm_best_model.predict(X_test)),\n",
    "        f1_score(y_test, xgb_best_model.predict(X_test)),\n",
    "        f1_score(y_test, ensemble_best_recall_model.predict(X_test)),\n",
    "        f1_score(y_test, best_combo_test_model.predict(X_test)),\n",
    "    ],\n",
    "    index=[\"KNN\", \"RandomForest\", \"SVM\", \"XGBoost\", \"Ensemble_KNN_XGB_SVM\", \"Ensemble_KNN_XGB_RF\"]\n",
    ")\n",
    "\n",
    "f1_accuracy_models.sort_values(ascending=False)"
   ]
  },
  {
   "cell_type": "code",
   "execution_count": 41,
   "metadata": {},
   "outputs": [],
   "source": [
    "knn_model_tuple = (\"knn_best_model\", knn_best_model)\n",
    "xgb_model_tuple = (\"xgb_best_model\", xgb_best_model)\n",
    "svm_model_tuple = (\"svm_best_model\", svm_best_model)\n",
    "rf_model_tuple = (\"rf_best_model\", rf_best_model)\n",
    "\n",
    "model_combo_1 = [rf_model_tuple, knn_model_tuple, xgb_model_tuple]\n",
    "model_combo_2 = [rf_model_tuple, knn_model_tuple, xgb_model_tuple, svm_model_tuple]\n",
    "\n",
    "ensemble_accuracy_model_1 = VotingClassifier(estimators=model_combo_1)\n",
    "ensemble_accuracy_model_2 = VotingClassifier(estimators=model_combo_2)\n",
    "\n",
    "ensemble_accuracy_model_1.fit(X_train, y_train)\n",
    "ensemble_accuracy_model_2.fit(X_train, y_train);"
   ]
  },
  {
   "cell_type": "code",
   "execution_count": 42,
   "metadata": {},
   "outputs": [
    {
     "data": {
      "text/plain": [
       "Ensemble_RF_KNN_XGB_SVM    0.917092\n",
       "Ensemble_RF_KNN_XGB        0.916494\n",
       "dtype: float64"
      ]
     },
     "execution_count": 42,
     "metadata": {},
     "output_type": "execute_result"
    }
   ],
   "source": [
    "f1_accuracy_ensemble_models = Series(\n",
    "    data=[\n",
    "        f1_score(y_test, ensemble_accuracy_model_1.predict(X_test)),\n",
    "        f1_score(y_test, ensemble_accuracy_model_2.predict(X_test)),\n",
    "    ],\n",
    "    index=[\"Ensemble_RF_KNN_XGB\", \"Ensemble_RF_KNN_XGB_SVM\"]\n",
    ")\n",
    "\n",
    "f1_accuracy_ensemble_models.sort_values(ascending=False)"
   ]
  },
  {
   "cell_type": "code",
   "execution_count": 43,
   "metadata": {},
   "outputs": [
    {
     "name": "stdout",
     "output_type": "stream",
     "text": [
      "Recall-Score:\t0.9898208469055375\t|\tTrain-Recall-Score:\t0.9967855200039563\n",
      "F1-Score:\t0.9120529848186583\t|\tTrain-F1-Score:\t\t0.9568585570750094\n",
      "\n",
      "              precision    recall  f1-score   support\n",
      "\n",
      "           0       0.99      0.84      0.91      2594\n",
      "           1       0.85      0.99      0.92      2456\n",
      "\n",
      "    accuracy                           0.91      5050\n",
      "   macro avg       0.92      0.91      0.91      5050\n",
      "weighted avg       0.92      0.91      0.91      5050\n",
      "\n",
      "Recall-Score:\t0.988599348534202\t|\tTrain-Recall-Score:\t0.9956480886207408\n",
      "F1-Score:\t0.9128642162368245\t|\tTrain-F1-Score:\t\t0.9561907989937124\n",
      "\n",
      "              precision    recall  f1-score   support\n",
      "\n",
      "           0       0.99      0.84      0.91      2594\n",
      "           1       0.86      0.99      0.92      2456\n",
      "\n",
      "    accuracy                           0.91      5050\n",
      "   macro avg       0.92      0.92      0.91      5050\n",
      "weighted avg       0.92      0.91      0.91      5050\n",
      "\n"
     ]
    },
    {
     "data": {
      "image/png": "[encoded data removed]",
      "text/plain": [
       "<Figure size 576x432 with 2 Axes>"
      ]
     },
     "metadata": {},
     "output_type": "display_data"
    },
    {
     "data": {
      "image/png": "[encoded data removed]",
      "text/plain": [
       "<Figure size 576x432 with 2 Axes>"
      ]
     },
     "metadata": {},
     "output_type": "display_data"
    }
   ],
   "source": [
    "print_model_classification_report(ensemble_accuracy_model_1, X_test, y_test)\n",
    "print_model_classification_report(ensemble_accuracy_model_2, X_test, y_test)"
   ]
  },
  {
   "cell_type": "code",
   "execution_count": 44,
   "metadata": {},
   "outputs": [],
   "source": [
    "ensemble_best_f1_accuracy_model = ensemble_accuracy_model_2"
   ]
  },
  {
   "cell_type": "code",
   "execution_count": 45,
   "metadata": {},
   "outputs": [
    {
     "data": {
      "text/plain": [
       "RandomForest               0.925298\n",
       "KNN                        0.920983\n",
       "Ensemble_RF_KNN_XGB_SVM    0.917092\n",
       "Ensemble_KNN_XGB_RF        0.916635\n",
       "XGBoost                    0.894999\n",
       "SVM                        0.884678\n",
       "dtype: float64"
      ]
     },
     "execution_count": 45,
     "metadata": {},
     "output_type": "execute_result"
    }
   ],
   "source": [
    "accuracy_models = Series(\n",
    "    data=[\n",
    "        f1_score(y_test, knn_best_model.predict(X_test)),\n",
    "        f1_score(y_test, rf_best_model.predict(X_test)),\n",
    "        f1_score(y_test, svm_best_model.predict(X_test)),\n",
    "        f1_score(y_test, xgb_best_model.predict(X_test)),\n",
    "        f1_score(y_test, ensemble_best_f1_accuracy_model.predict(X_test)),\n",
    "        f1_score(y_test, best_combo_test_model.predict(X_test)),\n",
    "    ],\n",
    "    index=[\"KNN\", \"RandomForest\", \"SVM\", \"XGBoost\", \"Ensemble_RF_KNN_XGB_SVM\", \"Ensemble_KNN_XGB_RF\"]\n",
    ")\n",
    "\n",
    "accuracy_models.sort_values(ascending=False)"
   ]
  },
  {
   "cell_type": "code",
   "execution_count": 46,
   "metadata": {},
   "outputs": [
    {
     "name": "stdout",
     "output_type": "stream",
     "text": [
      "Recall-Score:\t0.9784201954397395\t|\tTrain-Recall-Score:\t0.9904554670886702\n",
      "F1-Score:\t0.9231057944026166\t|\tTrain-F1-Score:\t\t0.9530497021796187\n",
      "\n",
      "              precision    recall  f1-score   support\n",
      "\n",
      "           0       0.98      0.87      0.92      2594\n",
      "           1       0.88      0.98      0.93      2456\n",
      "\n",
      "    accuracy                           0.92      5050\n",
      "   macro avg       0.93      0.92      0.92      5050\n",
      "weighted avg       0.93      0.92      0.92      5050\n",
      "\n",
      "Recall-Score:\t0.99185667752443\t|\tTrain-Recall-Score:\t1.0\n",
      "F1-Score:\t0.9170403499325994\t|\tTrain-F1-Score:\t\t1.0\n",
      "\n",
      "              precision    recall  f1-score   support\n",
      "\n",
      "           0       0.99      0.85      0.91      2594\n",
      "           1       0.86      0.99      0.92      2456\n",
      "\n",
      "    accuracy                           0.92      5050\n",
      "   macro avg       0.93      0.92      0.92      5050\n",
      "weighted avg       0.93      0.92      0.92      5050\n",
      "\n",
      "Recall-Score:\t0.988599348534202\t|\tTrain-Recall-Score:\t0.9956480886207408\n",
      "F1-Score:\t0.9128642162368245\t|\tTrain-F1-Score:\t\t0.9561907989937124\n",
      "\n",
      "              precision    recall  f1-score   support\n",
      "\n",
      "           0       0.99      0.84      0.91      2594\n",
      "           1       0.86      0.99      0.92      2456\n",
      "\n",
      "    accuracy                           0.91      5050\n",
      "   macro avg       0.92      0.92      0.91      5050\n",
      "weighted avg       0.92      0.91      0.91      5050\n",
      "\n"
     ]
    },
    {
     "data": {
      "image/png": "[encoded data removed]",
      "text/plain": [
       "<Figure size 576x432 with 2 Axes>"
      ]
     },
     "metadata": {},
     "output_type": "display_data"
    },
    {
     "data": {
      "image/png": "[encoded data removed]",
      "text/plain": [
       "<Figure size 576x432 with 2 Axes>"
      ]
     },
     "metadata": {},
     "output_type": "display_data"
    },
    {
     "data": {
      "image/png": "[encoded data removed]",
      "text/plain": [
       "<Figure size 576x432 with 2 Axes>"
      ]
     },
     "metadata": {},
     "output_type": "display_data"
    }
   ],
   "source": [
    "print_model_classification_report(rf_best_model, X_test, y_test)\n",
    "print_model_classification_report(knn_best_model, X_test, y_test)\n",
    "print_model_classification_report(ensemble_best_f1_accuracy_model, X_test, y_test)"
   ]
  },
  {
   "cell_type": "code",
   "execution_count": 47,
   "metadata": {},
   "outputs": [],
   "source": [
    "best_accuracy_model = rf_best_model"
   ]
  },
  {
   "cell_type": "markdown",
   "metadata": {},
   "source": [
    "# Final Model Selection"
   ]
  },
  {
   "cell_type": "markdown",
   "metadata": {},
   "source": [
    "## Validate Models"
   ]
  },
  {
   "cell_type": "code",
   "execution_count": 48,
   "metadata": {},
   "outputs": [
    {
     "data": {
      "text/plain": [
       "Best_Recall_Model          0.996891\n",
       "KNN                        0.994559\n",
       "XGBoost                    0.992616\n",
       "SVM                        0.991450\n",
       "Ensemble_RF_KNN_XGB_SVM    0.991450\n",
       "RandomForest               0.980956\n",
       "dtype: float64"
      ]
     },
     "execution_count": 48,
     "metadata": {},
     "output_type": "execute_result"
    }
   ],
   "source": [
    "recall_models = Series(\n",
    "    data=[\n",
    "        recall_score(y_val, knn_best_model.predict(X_val)),\n",
    "        recall_score(y_val, rf_best_model.predict(X_val)),\n",
    "        recall_score(y_val, svm_best_model.predict(X_val)),\n",
    "        recall_score(y_val, xgb_best_model.predict(X_val)),\n",
    "        recall_score(y_val, best_recall_model.predict(X_val)),\n",
    "        recall_score(y_val, ensemble_best_f1_accuracy_model.predict(X_val)),\n",
    "    ],\n",
    "    index=[\"KNN\", \"RandomForest\", \"SVM\", \"XGBoost\", \"Best_Recall_Model\", \"Ensemble_RF_KNN_XGB_SVM\"]\n",
    ")\n",
    "\n",
    "recall_models.sort_values(ascending=False)"
   ]
  },
  {
   "cell_type": "code",
   "execution_count": 49,
   "metadata": {},
   "outputs": [
    {
     "data": {
      "text/plain": [
       "RandomForest               0.934296\n",
       "KNN                        0.931731\n",
       "Ensemble_RF_KNN_XGB_SVM    0.928818\n",
       "XGBoost                    0.914265\n",
       "Best_Recall_Model          0.912487\n",
       "SVM                        0.901413\n",
       "dtype: float64"
      ]
     },
     "execution_count": 49,
     "metadata": {},
     "output_type": "execute_result"
    }
   ],
   "source": [
    "accuracy_models = Series(\n",
    "    data=[\n",
    "        f1_score(y_val, knn_best_model.predict(X_val)),\n",
    "        f1_score(y_val, rf_best_model.predict(X_val)),\n",
    "        f1_score(y_val, svm_best_model.predict(X_val)),\n",
    "        f1_score(y_val, xgb_best_model.predict(X_val)),\n",
    "        f1_score(y_val, best_recall_model.predict(X_val)),\n",
    "        f1_score(y_val, ensemble_best_f1_accuracy_model.predict(X_val)),\n",
    "    ],\n",
    "    index=[\"KNN\", \"RandomForest\", \"SVM\", \"XGBoost\", \"Best_Recall_Model\", \"Ensemble_RF_KNN_XGB_SVM\"]\n",
    ")\n",
    "\n",
    "accuracy_models.sort_values(ascending=False)"
   ]
  },
  {
   "cell_type": "code",
   "execution_count": 50,
   "metadata": {},
   "outputs": [
    {
     "name": "stdout",
     "output_type": "stream",
     "text": [
      "Recall-Score:\t0.9968907889623008\t|\tTrain-Recall-Score:\t0.9976756836951683\n",
      "F1-Score:\t0.9013080908299225\t|\tTrain-F1-Score:\t\t0.9029377190753729\n",
      "\n",
      "              precision    recall  f1-score   support\n",
      "\n",
      "           0       1.00      0.80      0.89      2477\n",
      "           1       0.84      1.00      0.91      2573\n",
      "\n",
      "    accuracy                           0.90      5050\n",
      "   macro avg       0.92      0.90      0.90      5050\n",
      "weighted avg       0.92      0.90      0.90      5050\n",
      "\n",
      "Recall-Score:\t0.9945588806840264\t|\tTrain-Recall-Score:\t1.0\n",
      "F1-Score:\t0.9251667107862005\t|\tTrain-F1-Score:\t\t1.0\n",
      "\n",
      "              precision    recall  f1-score   support\n",
      "\n",
      "           0       0.99      0.85      0.92      2477\n",
      "           1       0.88      0.99      0.93      2573\n",
      "\n",
      "    accuracy                           0.93      5050\n",
      "   macro avg       0.93      0.92      0.93      5050\n",
      "weighted avg       0.93      0.93      0.93      5050\n",
      "\n",
      "Recall-Score:\t0.9926156237854644\t|\tTrain-Recall-Score:\t0.9943622966223233\n",
      "F1-Score:\t0.9040637172861519\t|\tTrain-F1-Score:\t\t0.8989542933047826\n",
      "\n",
      "              precision    recall  f1-score   support\n",
      "\n",
      "           0       0.99      0.81      0.89      2477\n",
      "           1       0.85      0.99      0.91      2573\n",
      "\n",
      "    accuracy                           0.91      5050\n",
      "   macro avg       0.92      0.90      0.90      5050\n",
      "weighted avg       0.92      0.91      0.90      5050\n",
      "\n",
      "Recall-Score:\t0.9914496696463272\t|\tTrain-Recall-Score:\t0.9956480886207408\n",
      "F1-Score:\t0.9219738237797451\t|\tTrain-F1-Score:\t\t0.9561907989937124\n",
      "\n",
      "              precision    recall  f1-score   support\n",
      "\n",
      "           0       0.99      0.85      0.92      2477\n",
      "           1       0.87      0.99      0.93      2573\n",
      "\n",
      "    accuracy                           0.92      5050\n",
      "   macro avg       0.93      0.92      0.92      5050\n",
      "weighted avg       0.93      0.92      0.92      5050\n",
      "\n"
     ]
    },
    {
     "data": {
      "image/png": "[encoded data removed]",
      "text/plain": [
       "<Figure size 576x432 with 2 Axes>"
      ]
     },
     "metadata": {},
     "output_type": "display_data"
    },
    {
     "data": {
      "image/png": "[encoded data removed]",
      "text/plain": [
       "<Figure size 576x432 with 2 Axes>"
      ]
     },
     "metadata": {},
     "output_type": "display_data"
    },
    {
     "data": {
      "image/png": "[encoded data removed]",
      "text/plain": [
       "<Figure size 576x432 with 2 Axes>"
      ]
     },
     "metadata": {},
     "output_type": "display_data"
    },
    {
     "data": {
      "image/png": "[encoded data removed]",
      "text/plain": [
       "<Figure size 576x432 with 2 Axes>"
      ]
     },
     "metadata": {},
     "output_type": "display_data"
    }
   ],
   "source": [
    "print_model_classification_report(best_recall_model, X_val, y_val)\n",
    "print_model_classification_report(knn_best_model, X_val, y_val)\n",
    "print_model_classification_report(xgb_best_model, X_val, y_val)\n",
    "print_model_classification_report(ensemble_best_f1_accuracy_model, X_val, y_val)"
   ]
  },
  {
   "cell_type": "markdown",
   "metadata": {},
   "source": [
    "**We choose the best_recall_model, because it is the least overfitted model an has the best Recall-Score, witch is our primary KPI!**"
   ]
  },
  {
   "cell_type": "markdown",
   "metadata": {},
   "source": [
    "## Select Model"
   ]
  },
  {
   "cell_type": "code",
   "execution_count": 51,
   "metadata": {},
   "outputs": [
    {
     "name": "stdout",
     "output_type": "stream",
     "text": [
      "REPORT:               precision    recall  f1-score   support\n",
      "\n",
      "           0       1.00      0.80      0.89      2477\n",
      "           1       0.84      1.00      0.91      2573\n",
      "\n",
      "    accuracy                           0.90      5050\n",
      "   macro avg       0.92      0.90      0.90      5050\n",
      "weighted avg       0.92      0.90      0.90      5050\n",
      "\n",
      "RECALL_SCORE:\t 99.689%\n",
      "F1_SCORE:\t 91.249%\n"
     ]
    }
   ],
   "source": [
    "CHOSEN_BEST_MODEL = best_recall_model\n",
    "MODEL_PREDICTIONS = CHOSEN_BEST_MODEL.predict(X_val)\n",
    "MODEL_REPORT = classification_report(y_val, MODEL_PREDICTIONS)\n",
    "RECALL_SCORE = f\"{np.round(recall_score(y_val, MODEL_PREDICTIONS) * 100, 3)}%\"\n",
    "F1_SCORE = f\"{np.round(f1_score(y_val, MODEL_PREDICTIONS) * 100, 3)}%\"\n",
    "\n",
    "print(\"REPORT:\", MODEL_REPORT)\n",
    "print(\"RECALL_SCORE:\\t\", RECALL_SCORE)\n",
    "print(\"F1_SCORE:\\t\", F1_SCORE)"
   ]
  },
  {
   "cell_type": "markdown",
   "metadata": {},
   "source": [
    "# Export the Model"
   ]
  },
  {
   "cell_type": "markdown",
   "metadata": {},
   "source": [
    "## Export"
   ]
  },
  {
   "cell_type": "code",
   "execution_count": 52,
   "metadata": {},
   "outputs": [],
   "source": [
    "# import pickle\n",
    "# from datetime import datetime\n",
    "# timestamp_string = str(datetime.now())[:19].replace(\" \", \"\").replace(\":\", \"\").replace(\"-\", \"\")\n",
    "\n",
    "# with open(f\"../trained_models/{timestamp_string}_knn_best_model\", \"wb\") as model_file:\n",
    "#     pickle.dump(CHOSEN_BEST_MODEL, model_file)"
   ]
  },
  {
   "cell_type": "markdown",
   "metadata": {},
   "source": [
    "## Test Import"
   ]
  },
  {
   "cell_type": "code",
   "execution_count": 53,
   "metadata": {},
   "outputs": [],
   "source": [
    "# with open(f\"../trained_models/{timestamp_string}_knn_best_model\", \"rb\") as model_file:\n",
    "#     my_imported_model = pickle.load(model_file)\n",
    "\n",
    "# print(classification_report(y_val, my_imported_model.predict(X_val)))"
   ]
  },
  {
   "cell_type": "markdown",
   "metadata": {},
   "source": [
    "# Test Model-Export in Class"
   ]
  },
  {
   "cell_type": "code",
   "execution_count": 54,
   "metadata": {},
   "outputs": [],
   "source": [
    "# class ModelWrapper:\n",
    "#     def __init__(self, model, scaler):\n",
    "#         self.model = model\n",
    "#         self.scaler = scaler\n",
    "    \n",
    "#     def predict(self, values):\n",
    "#         prep_values = self.preprocess_values(values)\n",
    "#         pass\n",
    "\n",
    "#     def preprocess_values(self, values):\n",
    "#         pass\n",
    "\n",
    "# my_wrapper_model = ModelWrapper(my_imported_model, None)\n",
    "# timestamp_string = str(datetime.now())[:19].replace(\" \", \"\").replace(\":\", \"\").replace(\"-\", \"\")\n",
    "\n",
    "# with open(f\"../trained_models/{timestamp_string}_wrapper_model_best_model\", \"wb\") as model_file:\n",
    "#     pickle.dump(my_wrapper_model, model_file)"
   ]
  },
  {
   "cell_type": "code",
   "execution_count": 55,
   "metadata": {},
   "outputs": [],
   "source": [
    "# with open(f\"../trained_models/{timestamp_string}_wrapper_model_best_model\", \"rb\") as model_file:\n",
    "#     my_imported_wrapper_model = pickle.load(model_file)\n",
    "\n",
    "# print(my_imported_wrapper_model.model)"
   ]
  }
 ],
 "metadata": {
  "kernelspec": {
   "display_name": "Python 3.10.3 64-bit",
   "language": "python",
   "name": "python3"
  },
  "language_info": {
   "codemirror_mode": {
    "name": "ipython",
    "version": 3
   },
   "file_extension": ".py",
   "mimetype": "text/x-python",
   "name": "python",
   "nbconvert_exporter": "python",
   "pygments_lexer": "ipython3",
   "version": "3.10.3"
  },
  "orig_nbformat": 4,
  "vscode": {
   "interpreter": {
    "hash": "aee8b7b246df8f9039afb4144a1f6fd8d2ca17a180786b69acc140d282b71a49"
   }
  }
 },
 "nbformat": 4,
 "nbformat_minor": 2
}
